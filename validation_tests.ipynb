{
 "cells": [
  {
   "cell_type": "markdown",
   "metadata": {},
   "source": [
    "# mmmeld Validation Tests\n",
    "\n",
    "This notebook contains parameterized validation tests for mmmeld.py. We'll test various scenarios and rules using different combinations of media sources."
   ]
  },
  {
   "cell_type": "code",
   "execution_count": 27,
   "metadata": {},
   "outputs": [],
   "source": [
    "import subprocess\n",
    "import os\n",
    "from IPython.display import Video\n",
    "\n",
    "def run_mmmeld(params):\n",
    "    output_file = f\"test_output_{params[params.index('--output') + 1]}\"\n",
    "    cmd = [\"python\", \"mmmeld.py\", \"--autofill\", \"--cleanup\"] + params + [\"--output\", output_file]\n",
    "    result = subprocess.run(cmd, capture_output=True, text=True)\n",
    "    print(result.stdout)\n",
    "    print(result.stderr)\n",
    "    return result.returncode == 0, output_file\n",
    "\n",
    "def display_output(output_file):\n",
    "    if os.path.exists(output_file):\n",
    "        return Video(output_file)\n",
    "    else:\n",
    "        return f\"Output file {output_file} not found.\"\n",
    "\n",
    "# Define media sources\n",
    "local_audio_short = \"test_media/10_seconds.wav\"  # 10 seconds\n",
    "local_audio_long = \"test_media/5_minutes.mp3\"  # 5 minutes\n",
    "youtube_audio = \"https://www.youtube.com/watch?v=dQw4w9WgXcQ\"  # Rick Astley - Never Gonna Give You Up\n",
    "local_image1 = \"test_media/square.jpg\" # square\n",
    "local_image2 = \"16_9.png\" # 16:9\n",
    "local_video_short = \"test_media/15_seconds.mp4\"  # 15 seconds\n",
    "local_video_short2 = \"test_media/15_seconds2.mp4\"  # 15 seconds\n",
    "local_video_long = \"test_media/3_minutes.webm\"  # 3 minutes\n",
    "youtube_video = \"https://www.youtube.com/watch?v=9bZkp7q19f0\"  # PSY - GANGNAM STYLE\n",
    "bg_music = \"test_media/IndigoMirage.mp3\"\n",
    "\n",
    "# Text for text-to-speech generation\n",
    "tts_text = \"To be, or not to be, that is the question.\""
   ]
  },
  {
   "cell_type": "markdown",
   "metadata": {},
   "source": [
    "## Test 1: Single Image with Main Audio\n",
    "\n",
    "Expected behavior: The image should be displayed for the entire duration of the audio."
   ]
  },
  {
   "cell_type": "code",
   "execution_count": 32,
   "metadata": {},
   "outputs": [
    {
     "name": "stdout",
     "output_type": "stream",
     "text": [
      "Video created successfully at test_output_test1.mp4\n",
      "The length of the video is the main audio length plus 2.5 seconds.\n",
      "Cleaning up temporary files...\n",
      "Attempting to clean up 0 files:\n",
      "Cleanup completed. Temporary folder 'temp_assets' was not removed.\n",
      "\n",
      "2024-07-08 16:00:50,576 - INFO - Resizing and padding: ffmpeg -y -i test_media/square.jpg -vf scale=1920:1080:force_original_aspect_ratio=decrease,pad=1920:1080:(ow-iw)/2:(oh-ih)/2 -c:a copy temp_assets\\processed_square.jpg\n",
      "2024-07-08 16:00:50,691 - INFO - ffmpeg command succeeded: ffmpeg -y -i test_media/square.jpg -vf scale=1920:1080:force_original_aspect_ratio=decrease,pad=1920:1080:(ow-iw)/2:(oh-ih)/2 -c:a copy temp_assets\\processed_square.jpg\n",
      "2024-07-08 16:00:50,789 - INFO - get_media_duration: file_path=test_media/10_seconds.wav, output='10.000340'\n",
      "2024-07-08 16:00:50,951 - INFO - ffmpeg command succeeded: ffmpeg -y -i temp_assets\\processed_square.jpg -filter_complex [0:v]fps=30,format=yuv420p[v0];[v0]trim=duration=12.50034,setpts=PTS-STARTPTS[outv] -map [outv] -c:v libx264 -preset ultrafast -crf 0 temp_assets\\temp_sequence.mp4\n",
      "2024-07-08 16:00:52,197 - INFO - ffmpeg command succeeded: ffmpeg -y -i temp_assets\\temp_sequence.mp4 -i test_media/10_seconds.wav -filter_complex [1:a]adelay=500|500,apad=pad_dur=2.0[main_audio];[0:v]fps=30,format=yuv420p,loop=loop=-1:size=1[looped_video];[looped_video]trim=duration=12.50034,setpts=PTS-STARTPTS[final_video];[main_audio]acopy[final_audio];[final_video]fade=t=out:st=10.50034:d=2[faded_video]; -map [faded_video] -map [final_audio] -c:v libx264 -preset medium -crf 23 -c:a aac -b:a 192k -t 12.50034 test_output_test1.mp4\n",
      "\n",
      "Test 1 passed\n"
     ]
    },
    {
     "data": {
      "text/html": [
       "<video src=\"test_output_test1.mp4\" controls  >\n",
       "      Your browser does not support the <code>video</code> element.\n",
       "    </video>"
      ],
      "text/plain": [
       "<IPython.core.display.Video object>"
      ]
     },
     "execution_count": 32,
     "metadata": {},
     "output_type": "execute_result"
    }
   ],
   "source": [
    "success, output_file = run_mmmeld([\"--audio\", local_audio_short, \"--image\", local_image1, \"--output\", \"test1.mp4\"])\n",
    "print(f\"Test 1 {'passed' if success else 'failed'}\")\n",
    "display_output(output_file)"
   ]
  },
  {
   "cell_type": "markdown",
   "metadata": {},
   "source": [
    "## Test 2: Single Image without Main Audio\n",
    "\n",
    "Expected behavior: The image should be displayed for 5 seconds."
   ]
  },
  {
   "cell_type": "code",
   "execution_count": 33,
   "metadata": {},
   "outputs": [
    {
     "name": "stdout",
     "output_type": "stream",
     "text": [
      "Video created successfully at test_output_test2.mp4\n",
      "The length of the video is determined by the input images and videos.\n",
      "Cleaning up temporary files...\n",
      "Attempting to clean up 0 files:\n",
      "Cleanup completed. Temporary folder 'temp_assets' was not removed.\n",
      "\n",
      "2024-07-08 16:01:06,389 - INFO - Resizing and padding: ffmpeg -y -i test_media/square.jpg -vf scale=1920:1080:force_original_aspect_ratio=decrease,pad=1920:1080:(ow-iw)/2:(oh-ih)/2 -c:a copy temp_assets\\processed_square.jpg\n",
      "2024-07-08 16:01:06,502 - INFO - ffmpeg command succeeded: ffmpeg -y -i test_media/square.jpg -vf scale=1920:1080:force_original_aspect_ratio=decrease,pad=1920:1080:(ow-iw)/2:(oh-ih)/2 -c:a copy temp_assets\\processed_square.jpg\n",
      "2024-07-08 16:01:06,613 - INFO - get_media_duration: file_path=temp_assets\\processed_square.jpg, output='0.040000'\n",
      "2024-07-08 16:01:06,811 - INFO - ffmpeg command succeeded: ffmpeg -y -i temp_assets\\processed_square.jpg -filter_complex [0:v]fps=30,format=yuv420p[v0];[v0]trim=duration=5,setpts=PTS-STARTPTS[outv] -map [outv] -c:v libx264 -preset ultrafast -crf 0 temp_assets\\temp_sequence.mp4\n",
      "2024-07-08 16:01:07,984 - INFO - ffmpeg command succeeded: ffmpeg -y -i temp_assets\\temp_sequence.mp4 -filter_complex [0:v]fps=30,format=yuv420p,loop=loop=-1:size=1[looped_video];[looped_video]trim=duration=5,setpts=PTS-STARTPTS[final_video];[final_video]fade=t=out:st=3:d=2[faded_video]; -map [faded_video] -c:v libx264 -preset medium -crf 23 -t 5 test_output_test2.mp4\n",
      "\n",
      "Test 2 passed\n"
     ]
    },
    {
     "data": {
      "text/html": [
       "<video src=\"test_output_test2.mp4\" controls  >\n",
       "      Your browser does not support the <code>video</code> element.\n",
       "    </video>"
      ],
      "text/plain": [
       "<IPython.core.display.Video object>"
      ]
     },
     "execution_count": 33,
     "metadata": {},
     "output_type": "execute_result"
    }
   ],
   "source": [
    "success, output_file = run_mmmeld([\"--image\", local_image1, \"--output\", \"test2.mp4\"])\n",
    "print(f\"Test 2 {'passed' if success else 'failed'}\")\n",
    "display_output(output_file)"
   ]
  },
  {
   "cell_type": "markdown",
   "metadata": {},
   "source": [
    "## Test 3: Single Video with Main Audio (Video Shorter)\n",
    "\n",
    "Expected behavior: The video should loop to match the audio duration."
   ]
  },
  {
   "cell_type": "code",
   "execution_count": 34,
   "metadata": {},
   "outputs": [
    {
     "name": "stdout",
     "output_type": "stream",
     "text": [
      "Video created successfully at test_output_test3.mp4\n",
      "The length of the video is the main audio length plus 2.5 seconds.\n",
      "Cleaning up temporary files...\n",
      "Attempting to clean up 0 files:\n",
      "Cleanup completed. Temporary folder 'temp_assets' was not removed.\n",
      "\n",
      "2024-07-08 16:01:46,981 - INFO - Resizing and padding: ffmpeg -y -i test_media/15_seconds.mp4 -vf scale=1920:1080:force_original_aspect_ratio=decrease,pad=1920:1080:(ow-iw)/2:(oh-ih)/2 -c:a copy temp_assets\\processed_15_seconds.mp4\n",
      "2024-07-08 16:01:49,623 - INFO - ffmpeg command succeeded: ffmpeg -y -i test_media/15_seconds.mp4 -vf scale=1920:1080:force_original_aspect_ratio=decrease,pad=1920:1080:(ow-iw)/2:(oh-ih)/2 -c:a copy temp_assets\\processed_15_seconds.mp4\n",
      "2024-07-08 16:01:49,704 - INFO - get_media_duration: file_path=test_media/5_minutes.mp3, output='299.546122'\n",
      "2024-07-08 16:01:50,510 - INFO - ffmpeg command succeeded: ffmpeg -y -i temp_assets\\processed_15_seconds.mp4 -filter_complex [0:v]fps=30,format=yuv420p[v0];[v0]trim=duration=302.046122,setpts=PTS-STARTPTS[outv] -map [outv] -c:v libx264 -preset ultrafast -crf 0 temp_assets\\temp_sequence.mp4\n",
      "2024-07-08 16:02:07,803 - INFO - ffmpeg command succeeded: ffmpeg -y -i temp_assets\\temp_sequence.mp4 -i test_media/5_minutes.mp3 -filter_complex [1:a]adelay=500|500,apad=pad_dur=2.0[main_audio];[0:v]fps=30,format=yuv420p,loop=loop=-1:size=1[looped_video];[looped_video]trim=duration=302.046122,setpts=PTS-STARTPTS[final_video];[main_audio]acopy[final_audio];[final_video]fade=t=out:st=300.046122:d=2[faded_video]; -map [faded_video] -map [final_audio] -c:v libx264 -preset medium -crf 23 -c:a aac -b:a 192k -t 302.046122 test_output_test3.mp4\n",
      "\n",
      "Test 3 passed\n"
     ]
    },
    {
     "data": {
      "text/html": [
       "<video src=\"test_output_test3.mp4\" controls  >\n",
       "      Your browser does not support the <code>video</code> element.\n",
       "    </video>"
      ],
      "text/plain": [
       "<IPython.core.display.Video object>"
      ]
     },
     "execution_count": 34,
     "metadata": {},
     "output_type": "execute_result"
    }
   ],
   "source": [
    "success, output_file = run_mmmeld([\"--audio\", local_audio_long, \"--image\", local_video_short, \"--output\", \"test3.mp4\"])\n",
    "print(f\"Test 3 {'passed' if success else 'failed'}\")\n",
    "display_output(output_file)"
   ]
  },
  {
   "cell_type": "markdown",
   "metadata": {},
   "source": [
    "## Test 4: Single Video with Main Audio (Video Longer)\n",
    "\n",
    "Expected behavior: The video should be cut to match the audio duration."
   ]
  },
  {
   "cell_type": "code",
   "execution_count": 13,
   "metadata": {},
   "outputs": [
    {
     "name": "stdout",
     "output_type": "stream",
     "text": [
      "An error occurred: Command '['ffmpeg', '-y', '-i', 'test_media/3_minutes.webm', '-filter_complex', '[0:v]fps=30,format=yuv420p,loop=1:size=375:start=0,setpts=PTS-STARTPTS[v0];[v0]concat=n=1:v=1:a=0[concatenated][concatenated]trim=duration=12.50034,setpts=PTS-STARTPTS[finalv]', '-map', '[finalv]', '-c:v', 'libx264', '-preset', 'medium', '-crf', '23', 'temp_assets\\\\temp_visual_sequence.mp4']' returned non-zero exit status 4294967274.\n",
      "\n",
      "ffmpeg version 2024-05-13-git-37db0454e4-full_build-www.gyan.dev Copyright (c) 2000-2024 the FFmpeg developers\n",
      "  built with gcc 13.2.0 (Rev5, Built by MSYS2 project)\n",
      "  configuration: --enable-gpl --enable-version3 --enable-static --disable-w32threads --disable-autodetect --enable-fontconfig --enable-iconv --enable-gnutls --enable-libxml2 --enable-gmp --enable-bzlib --enable-lzma --enable-libsnappy --enable-zlib --enable-librist --enable-libsrt --enable-libssh --enable-libzmq --enable-avisynth --enable-libbluray --enable-libcaca --enable-sdl2 --enable-libaribb24 --enable-libaribcaption --enable-libdav1d --enable-libdavs2 --enable-libuavs3d --enable-libxevd --enable-libzvbi --enable-librav1e --enable-libsvtav1 --enable-libwebp --enable-libx264 --enable-libx265 --enable-libxavs2 --enable-libxeve --enable-libxvid --enable-libaom --enable-libjxl --enable-libopenjpeg --enable-libvpx --enable-mediafoundation --enable-libass --enable-frei0r --enable-libfreetype --enable-libfribidi --enable-libharfbuzz --enable-liblensfun --enable-libvidstab --enable-libvmaf --enable-libzimg --enable-amf --enable-cuda-llvm --enable-cuvid --enable-dxva2 --enable-d3d11va --enable-d3d12va --enable-ffnvcodec --enable-libvpl --enable-nvdec --enable-nvenc --enable-vaapi --enable-libshaderc --enable-vulkan --enable-libplacebo --enable-opencl --enable-libcdio --enable-libgme --enable-libmodplug --enable-libopenmpt --enable-libopencore-amrwb --enable-libmp3lame --enable-libshine --enable-libtheora --enable-libtwolame --enable-libvo-amrwbenc --enable-libcodec2 --enable-libilbc --enable-libgsm --enable-libopencore-amrnb --enable-libopus --enable-libspeex --enable-libvorbis --enable-ladspa --enable-libbs2b --enable-libflite --enable-libmysofa --enable-librubberband --enable-libsoxr --enable-chromaprint\n",
      "  libavutil      59. 17.100 / 59. 17.100\n",
      "  libavcodec     61.  5.103 / 61.  5.103\n",
      "  libavformat    61.  3.103 / 61.  3.103\n",
      "  libavdevice    61.  2.100 / 61.  2.100\n",
      "  libavfilter    10.  2.101 / 10.  2.101\n",
      "  libswscale      8.  2.100 /  8.  2.100\n",
      "  libswresample   5.  2.100 /  5.  2.100\n",
      "  libpostproc    58.  2.100 / 58.  2.100\n",
      "[AVFilterGraph @ 000002545cf8b940] Trailing garbage after a filter: trim=duration=12.50034,setpts=PTS-STARTPTS[finalv]\n",
      "[AVFilterGraph @ 000002545cf8b940] Error parsing filterchain '[v0]concat=n=1:v=1:a=0[concatenated][concatenated]trim=duration=12.50034,setpts=PTS-STARTPTS[finalv]' around: trim=duration=12.50034,setpts=PTS-STARTPTS[finalv]\n",
      "Failed to set value '[0:v]fps=30,format=yuv420p,loop=1:size=375:start=0,setpts=PTS-STARTPTS[v0];[v0]concat=n=1:v=1:a=0[concatenated][concatenated]trim=duration=12.50034,setpts=PTS-STARTPTS[finalv]' for option 'filter_complex': Invalid argument\n",
      "Error parsing global options: Invalid argument\n",
      "2024-07-06 05:50:57,984 - ERROR - An error occurred during video generation\n",
      "Traceback (most recent call last):\n",
      "  File \"c:\\dev\\per\\mmmeld\\mmmeld.py\", line 167, in main\n",
      "    if generate_video(image_inputs, audio_path, bg_music_path, output_path, bg_music_volume, start_margin, end_margin, TEMP_ASSETS_FOLDER):\n",
      "       ^^^^^^^^^^^^^^^^^^^^^^^^^^^^^^^^^^^^^^^^^^^^^^^^^^^^^^^^^^^^^^^^^^^^^^^^^^^^^^^^^^^^^^^^^^^^^^^^^^^^^^^^^^^^^^^^^^^^^^^^^^^^^^^^^^^\n",
      "  File \"c:\\dev\\per\\mmmeld\\video_utils.py\", line 85, in generate_video\n",
      "    create_visual_sequence(visual_inputs, total_duration, str(temp_visual_path))\n",
      "  File \"c:\\dev\\per\\mmmeld\\video_utils.py\", line 68, in create_visual_sequence\n",
      "    subprocess.run(cmd, check=True)\n",
      "  File \"c:\\dev\\bin\\Python312\\Lib\\subprocess.py\", line 571, in run\n",
      "    raise CalledProcessError(retcode, process.args,\n",
      "subprocess.CalledProcessError: Command '['ffmpeg', '-y', '-i', 'test_media/3_minutes.webm', '-filter_complex', '[0:v]fps=30,format=yuv420p,loop=1:size=375:start=0,setpts=PTS-STARTPTS[v0];[v0]concat=n=1:v=1:a=0[concatenated][concatenated]trim=duration=12.50034,setpts=PTS-STARTPTS[finalv]', '-map', '[finalv]', '-c:v', 'libx264', '-preset', 'medium', '-crf', '23', 'temp_assets\\\\temp_visual_sequence.mp4']' returned non-zero exit status 4294967274.\n",
      "\n",
      "Test 4 failed\n"
     ]
    },
    {
     "data": {
      "text/html": [
       "<video src=\"test_output_test4.mp4\" controls  >\n",
       "      Your browser does not support the <code>video</code> element.\n",
       "    </video>"
      ],
      "text/plain": [
       "<IPython.core.display.Video object>"
      ]
     },
     "execution_count": 13,
     "metadata": {},
     "output_type": "execute_result"
    }
   ],
   "source": [
    "success, output_file = run_mmmeld([\"--audio\", local_audio_short, \"--image\", local_video_long, \"--output\", \"test4.mp4\"])\n",
    "print(f\"Test 4 {'passed' if success else 'failed'}\")\n",
    "display_output(output_file)"
   ]
  },
  {
   "cell_type": "markdown",
   "metadata": {},
   "source": [
    "## Test 5: Single Video without Main Audio\n",
    "\n",
    "Expected behavior: The video should play once with its own audio."
   ]
  },
  {
   "cell_type": "code",
   "execution_count": 7,
   "metadata": {},
   "outputs": [
    {
     "name": "stdout",
     "output_type": "stream",
     "text": [
      "get_media_duration: file_path=test_media/15_seconds2.mp4, output='15.162630'\n",
      "get_media_duration: file_path=test_media/15_seconds2.mp4, output='15.162630'\n",
      "FFmpeg command:\n",
      "ffmpeg -y -i test_media/15_seconds2.mp4 -filter_complex [0:v]fps=30,format=yuv420p,loop=1:size=454[looped_video];[looped_video]setpts=PTS-STARTPTS[final_video];[0:a]aformat=sample_fmts=fltp:sample_rates=44100:channel_layouts=stereo[video_audio];[video_audio]acopy[final_audio] -map [final_video] -map [final_audio] -c:v libx264 -preset medium -crf 23 -c:a aac -b:a 192k test_output_test5.mp4\n",
      "Attempting to clean up 0 files:\n",
      "Cleanup completed. Temporary folder 'temp_assets' was not removed.\n",
      "Video created successfully at test_output_test5.mp4\n",
      "The length of the video is determined by the input images and videos.\n",
      "Cleaning up temporary files...\n",
      "Attempting to clean up 0 files:\n",
      "Cleanup completed. Temporary folder 'temp_assets' was not removed.\n",
      "\n",
      "ffmpeg version 2024-05-13-git-37db0454e4-full_build-www.gyan.dev Copyright (c) 2000-2024 the FFmpeg developers\n",
      "  built with gcc 13.2.0 (Rev5, Built by MSYS2 project)\n",
      "  configuration: --enable-gpl --enable-version3 --enable-static --disable-w32threads --disable-autodetect --enable-fontconfig --enable-iconv --enable-gnutls --enable-libxml2 --enable-gmp --enable-bzlib --enable-lzma --enable-libsnappy --enable-zlib --enable-librist --enable-libsrt --enable-libssh --enable-libzmq --enable-avisynth --enable-libbluray --enable-libcaca --enable-sdl2 --enable-libaribb24 --enable-libaribcaption --enable-libdav1d --enable-libdavs2 --enable-libuavs3d --enable-libxevd --enable-libzvbi --enable-librav1e --enable-libsvtav1 --enable-libwebp --enable-libx264 --enable-libx265 --enable-libxavs2 --enable-libxeve --enable-libxvid --enable-libaom --enable-libjxl --enable-libopenjpeg --enable-libvpx --enable-mediafoundation --enable-libass --enable-frei0r --enable-libfreetype --enable-libfribidi --enable-libharfbuzz --enable-liblensfun --enable-libvidstab --enable-libvmaf --enable-libzimg --enable-amf --enable-cuda-llvm --enable-cuvid --enable-dxva2 --enable-d3d11va --enable-d3d12va --enable-ffnvcodec --enable-libvpl --enable-nvdec --enable-nvenc --enable-vaapi --enable-libshaderc --enable-vulkan --enable-libplacebo --enable-opencl --enable-libcdio --enable-libgme --enable-libmodplug --enable-libopenmpt --enable-libopencore-amrwb --enable-libmp3lame --enable-libshine --enable-libtheora --enable-libtwolame --enable-libvo-amrwbenc --enable-libcodec2 --enable-libilbc --enable-libgsm --enable-libopencore-amrnb --enable-libopus --enable-libspeex --enable-libvorbis --enable-ladspa --enable-libbs2b --enable-libflite --enable-libmysofa --enable-librubberband --enable-libsoxr --enable-chromaprint\n",
      "  libavutil      59. 17.100 / 59. 17.100\n",
      "  libavcodec     61.  5.103 / 61.  5.103\n",
      "  libavformat    61.  3.103 / 61.  3.103\n",
      "  libavdevice    61.  2.100 / 61.  2.100\n",
      "  libavfilter    10.  2.101 / 10.  2.101\n",
      "  libswscale      8.  2.100 /  8.  2.100\n",
      "  libswresample   5.  2.100 /  5.  2.100\n",
      "  libpostproc    58.  2.100 / 58.  2.100\n",
      "Input #0, mov,mp4,m4a,3gp,3g2,mj2, from 'test_media/15_seconds2.mp4':\n",
      "  Metadata:\n",
      "    major_brand     : mp42\n",
      "    minor_version   : 0\n",
      "    compatible_brands: isommp42\n",
      "    creation_time   : 2023-09-19T20:37:47.000000Z\n",
      "  Duration: 00:00:15.16, start: 0.000000, bitrate: 260 kb/s\n",
      "  Stream #0:0[0x1](und): Video: h264 (Main) (avc1 / 0x31637661), yuv420p(tv, bt709, progressive), 640x360 [SAR 1:1 DAR 16:9], 128 kb/s, 29.97 fps, 29.97 tbr, 30k tbn (default)\n",
      "      Metadata:\n",
      "        creation_time   : 2023-09-19T20:37:47.000000Z\n",
      "        handler_name    : ISO Media file produced by Google Inc. Created on: 09/19/2023.\n",
      "        vendor_id       : [0][0][0][0]\n",
      "  Stream #0:1[0x2](eng): Audio: aac (LC) (mp4a / 0x6134706D), 44100 Hz, stereo, fltp, 127 kb/s (default)\n",
      "      Metadata:\n",
      "        creation_time   : 2023-09-19T20:37:47.000000Z\n",
      "        handler_name    : ISO Media file produced by Google Inc. Created on: 09/19/2023.\n",
      "        vendor_id       : [0][0][0][0]\n",
      "Stream mapping:\n",
      "  Stream #0:0 (h264) -> fps:default\n",
      "  Stream #0:1 (aac) -> aformat:default\n",
      "  setpts:default -> Stream #0:0 (libx264)\n",
      "  acopy:default -> Stream #0:1 (aac)\n",
      "Press [q] to stop, [?] for help\n",
      "[fc#0 @ 00000210a5e8bbc0] [vo0->#0:0 @ 00000210a5e8d5c0] No information about the input framerate is available. Falling back to a default value of 25fps. Use the -r option if you want a different framerate.\n",
      "[libx264 @ 00000210a5e84e80] using SAR=1/1\n",
      "[libx264 @ 00000210a5e84e80] using cpu capabilities: MMX2 SSE2Fast SSSE3 SSE4.2 AVX FMA3 BMI2 AVX2\n",
      "[libx264 @ 00000210a5e84e80] profile High, level 3.0, 4:2:0, 8-bit\n",
      "[libx264 @ 00000210a5e84e80] 264 - core 164 r3190 7ed753b - H.264/MPEG-4 AVC codec - Copyleft 2003-2024 - http://www.videolan.org/x264.html - options: cabac=1 ref=3 deblock=1:0:0 analyse=0x3:0x113 me=hex subme=7 psy=1 psy_rd=1.00:0.00 mixed_ref=1 me_range=16 chroma_me=1 trellis=1 8x8dct=1 cqm=0 deadzone=21,11 fast_pskip=1 chroma_qp_offset=-2 threads=11 lookahead_threads=1 sliced_threads=0 nr=0 decimate=1 interlaced=0 bluray_compat=0 constrained_intra=0 bframes=3 b_pyramid=2 b_adapt=1 b_bias=0 direct=1 weightb=1 open_gop=0 weightp=2 keyint=250 keyint_min=25 scenecut=40 intra_refresh=0 rc_lookahead=40 rc=crf mbtree=1 crf=23.0 qcomp=0.60 qpmin=0 qpmax=69 qpstep=4 ip_ratio=1.40 aq=1:1.00\n",
      "Output #0, mp4, to 'test_output_test5.mp4':\n",
      "  Metadata:\n",
      "    major_brand     : mp42\n",
      "    minor_version   : 0\n",
      "    compatible_brands: isommp42\n",
      "    encoder         : Lavf61.3.103\n",
      "  Stream #0:0: Video: h264 (avc1 / 0x31637661), yuv420p(tv, bt709, progressive), 640x360 [SAR 1:1 DAR 16:9], q=2-31, 25 fps, 12800 tbn\n",
      "      Metadata:\n",
      "        encoder         : Lavc61.5.103 libx264\n",
      "      Side data:\n",
      "        cpb: bitrate max/min/avg: 0/0/0 buffer size: 0 vbv_delay: N/A\n",
      "  Stream #0:1: Audio: aac (LC) (mp4a / 0x6134706D), 44100 Hz, stereo, fltp, 192 kb/s\n",
      "      Metadata:\n",
      "        encoder         : Lavc61.5.103 aac\n",
      "frame=  376 fps=0.0 q=28.0 size=     512KiB time=00:00:14.96 bitrate= 280.4kbits/s dup=0 drop=87 speed=29.1x    \n",
      "[out#0/mp4 @ 00000210a5e961c0] video:312KiB audio:369KiB subtitle:0KiB other streams:0KiB global headers:0KiB muxing overhead: 2.668282%\n",
      "frame=  757 fps=0.0 q=-1.0 Lsize=     700KiB time=00:00:15.16 bitrate= 378.2kbits/s dup=0 drop=152 speed=20.1x    \n",
      "[libx264 @ 00000210a5e84e80] frame I:5     Avg QP:13.13  size: 13146\n",
      "[libx264 @ 00000210a5e84e80] frame P:204   Avg QP:18.56  size:   889\n",
      "[libx264 @ 00000210a5e84e80] frame B:548   Avg QP:19.32  size:   131\n",
      "[libx264 @ 00000210a5e84e80] consecutive B-frames:  1.7%  2.9%  7.1% 88.2%\n",
      "[libx264 @ 00000210a5e84e80] mb I  I16..4: 58.7% 18.1% 23.2%\n",
      "[libx264 @ 00000210a5e84e80] mb P  I16..4:  1.8%  1.8%  0.9%  P16..4:  1.9%  0.9%  0.6%  0.0%  0.0%    skip:92.1%\n",
      "[libx264 @ 00000210a5e84e80] mb B  I16..4:  0.1%  0.0%  0.0%  B16..8:  2.5%  0.2%  0.1%  direct: 0.1%  skip:97.0%  L0:48.4% L1:50.2% BI: 1.3%\n",
      "[libx264 @ 00000210a5e84e80] 8x8 transform intra:31.9% inter:22.5%\n",
      "[libx264 @ 00000210a5e84e80] coded y,uvDC,uvAC intra: 20.6% 24.8% 17.7% inter: 0.4% 0.4% 0.3%\n",
      "[libx264 @ 00000210a5e84e80] i16 v,h,dc,p: 51% 34%  5% 10%\n",
      "[libx264 @ 00000210a5e84e80] i8 v,h,dc,ddl,ddr,vr,hd,vl,hu: 28% 19% 47%  2%  1%  0%  1%  1%  1%\n",
      "[libx264 @ 00000210a5e84e80] i4 v,h,dc,ddl,ddr,vr,hd,vl,hu: 23% 19% 26%  8%  6%  4%  7%  4%  3%\n",
      "[libx264 @ 00000210a5e84e80] i8c dc,h,v,p: 82%  7%  7%  4%\n",
      "[libx264 @ 00000210a5e84e80] Weighted P-Frames: Y:0.0% UV:0.0%\n",
      "[libx264 @ 00000210a5e84e80] ref P L0: 62.2% 12.8% 15.6%  9.4%\n",
      "[libx264 @ 00000210a5e84e80] ref B L0: 84.5% 12.2%  3.3%\n",
      "[libx264 @ 00000210a5e84e80] ref B L1: 97.1%  2.9%\n",
      "[libx264 @ 00000210a5e84e80] kb/s:84.31\n",
      "[aac @ 00000210a5e90fc0] Qavg: 3170.305\n",
      "\n",
      "Test 5 passed\n"
     ]
    },
    {
     "data": {
      "text/html": [
       "<video src=\"test_output_test5.mp4\" controls  >\n",
       "      Your browser does not support the <code>video</code> element.\n",
       "    </video>"
      ],
      "text/plain": [
       "<IPython.core.display.Video object>"
      ]
     },
     "execution_count": 7,
     "metadata": {},
     "output_type": "execute_result"
    }
   ],
   "source": [
    "success, output_file = run_mmmeld([\"--image\", local_video_short2, \"--output\", \"test5.mp4\"])\n",
    "print(f\"Test 5 {'passed' if success else 'failed'}\")\n",
    "display_output(output_file)"
   ]
  },
  {
   "cell_type": "markdown",
   "metadata": {},
   "source": [
    "## Test 6: Multiple Videos with Main Audio (Total Video Time <= Audio Time)\n",
    "\n",
    "Expected behavior: Videos should play in sequence, then loop."
   ]
  },
  {
   "cell_type": "code",
   "execution_count": 8,
   "metadata": {},
   "outputs": [
    {
     "name": "stdout",
     "output_type": "stream",
     "text": [
      "get_audio_duration: file_path=test_media/5_minutes.mp3, output='299.546122'\n",
      "get_media_duration: file_path=test_media/15_seconds.mp4, output='15.000000'\n",
      "get_media_duration: file_path=test_media/15_seconds2.mp4, output='15.162630'\n",
      "FFmpeg command:\n",
      "ffmpeg -y -i test_media/15_seconds.mp4 -i test_media/15_seconds2.mp4 -i test_media/5_minutes.mp3 -filter_complex [0:v]fps=30,format=yuv420p,loop=11:size=904[looped_video];[looped_video]trim=duration=302.046122,setpts=PTS-STARTPTS[v0];[v0]fade=t=out:st=300.046122:d=2.0[final_video];[1:a]adelay=500|500,apad=pad_dur=2.0[main_audio];[main_audio]acopy[final_audio] -map [final_video] -map [final_audio] -c:v libx264 -preset medium -crf 23 -c:a aac -b:a 192k -t 302.046122 test_output_test6.mp4\n",
      "Attempting to clean up 0 files:\n",
      "Cleanup completed. Temporary folder 'temp_assets' was not removed.\n",
      "Video created successfully at test_output_test6.mp4\n",
      "The length of the video is the main audio length plus 2.5 seconds.\n",
      "Cleaning up temporary files...\n",
      "Attempting to clean up 0 files:\n",
      "Cleanup completed. Temporary folder 'temp_assets' was not removed.\n",
      "\n",
      "ffmpeg version 2024-05-13-git-37db0454e4-full_build-www.gyan.dev Copyright (c) 2000-2024 the FFmpeg developers\n",
      "  built with gcc 13.2.0 (Rev5, Built by MSYS2 project)\n",
      "  configuration: --enable-gpl --enable-version3 --enable-static --disable-w32threads --disable-autodetect --enable-fontconfig --enable-iconv --enable-gnutls --enable-libxml2 --enable-gmp --enable-bzlib --enable-lzma --enable-libsnappy --enable-zlib --enable-librist --enable-libsrt --enable-libssh --enable-libzmq --enable-avisynth --enable-libbluray --enable-libcaca --enable-sdl2 --enable-libaribb24 --enable-libaribcaption --enable-libdav1d --enable-libdavs2 --enable-libuavs3d --enable-libxevd --enable-libzvbi --enable-librav1e --enable-libsvtav1 --enable-libwebp --enable-libx264 --enable-libx265 --enable-libxavs2 --enable-libxeve --enable-libxvid --enable-libaom --enable-libjxl --enable-libopenjpeg --enable-libvpx --enable-mediafoundation --enable-libass --enable-frei0r --enable-libfreetype --enable-libfribidi --enable-libharfbuzz --enable-liblensfun --enable-libvidstab --enable-libvmaf --enable-libzimg --enable-amf --enable-cuda-llvm --enable-cuvid --enable-dxva2 --enable-d3d11va --enable-d3d12va --enable-ffnvcodec --enable-libvpl --enable-nvdec --enable-nvenc --enable-vaapi --enable-libshaderc --enable-vulkan --enable-libplacebo --enable-opencl --enable-libcdio --enable-libgme --enable-libmodplug --enable-libopenmpt --enable-libopencore-amrwb --enable-libmp3lame --enable-libshine --enable-libtheora --enable-libtwolame --enable-libvo-amrwbenc --enable-libcodec2 --enable-libilbc --enable-libgsm --enable-libopencore-amrnb --enable-libopus --enable-libspeex --enable-libvorbis --enable-ladspa --enable-libbs2b --enable-libflite --enable-libmysofa --enable-librubberband --enable-libsoxr --enable-chromaprint\n",
      "  libavutil      59. 17.100 / 59. 17.100\n",
      "  libavcodec     61.  5.103 / 61.  5.103\n",
      "  libavformat    61.  3.103 / 61.  3.103\n",
      "  libavdevice    61.  2.100 / 61.  2.100\n",
      "  libavfilter    10.  2.101 / 10.  2.101\n",
      "  libswscale      8.  2.100 /  8.  2.100\n",
      "  libswresample   5.  2.100 /  5.  2.100\n",
      "  libpostproc    58.  2.100 / 58.  2.100\n",
      "Input #0, mov,mp4,m4a,3gp,3g2,mj2, from 'test_media/15_seconds.mp4':\n",
      "  Metadata:\n",
      "    major_brand     : mp42\n",
      "    minor_version   : 0\n",
      "    compatible_brands: mp42mp41\n",
      "    creation_time   : 2022-07-02T21:20:53.000000Z\n",
      "  Duration: 00:00:15.00, start: 0.000000, bitrate: 1653 kb/s\n",
      "  Stream #0:0[0x1](eng): Video: h264 (Main) (avc1 / 0x31637661), yuv420p(tv, bt709, progressive), 3840x2160, 1644 kb/s, 30 fps, 30 tbr, 30k tbn (default)\n",
      "      Metadata:\n",
      "        creation_time   : 2022-07-02T21:20:53.000000Z\n",
      "        handler_name    : ?Mainconcept Video Media Handler\n",
      "        vendor_id       : [0][0][0][0]\n",
      "        encoder         : AVC Coding\n",
      "Input #1, mov,mp4,m4a,3gp,3g2,mj2, from 'test_media/15_seconds2.mp4':\n",
      "  Metadata:\n",
      "    major_brand     : mp42\n",
      "    minor_version   : 0\n",
      "    compatible_brands: isommp42\n",
      "    creation_time   : 2023-09-19T20:37:47.000000Z\n",
      "  Duration: 00:00:15.16, start: 0.000000, bitrate: 260 kb/s\n",
      "  Stream #1:0[0x1](und): Video: h264 (Main) (avc1 / 0x31637661), yuv420p(tv, bt709, progressive), 640x360 [SAR 1:1 DAR 16:9], 128 kb/s, 29.97 fps, 29.97 tbr, 30k tbn (default)\n",
      "      Metadata:\n",
      "        creation_time   : 2023-09-19T20:37:47.000000Z\n",
      "        handler_name    : ISO Media file produced by Google Inc. Created on: 09/19/2023.\n",
      "        vendor_id       : [0][0][0][0]\n",
      "  Stream #1:1[0x2](eng): Audio: aac (LC) (mp4a / 0x6134706D), 44100 Hz, stereo, fltp, 127 kb/s (default)\n",
      "      Metadata:\n",
      "        creation_time   : 2023-09-19T20:37:47.000000Z\n",
      "        handler_name    : ISO Media file produced by Google Inc. Created on: 09/19/2023.\n",
      "        vendor_id       : [0][0][0][0]\n",
      "Input #2, mp3, from 'test_media/5_minutes.mp3':\n",
      "  Metadata:\n",
      "    major_brand     : dash\n",
      "    minor_version   : 0\n",
      "    compatible_brands: iso6mp41\n",
      "    encoder         : Lavf58.29.100\n",
      "  Duration: 00:04:59.55, start: 0.025057, bitrate: 192 kb/s\n",
      "  Stream #2:0: Audio: mp3 (mp3float), 44100 Hz, stereo, fltp, 192 kb/s\n",
      "      Metadata:\n",
      "        encoder         : Lavc58.54\n",
      "Stream mapping:\n",
      "  Stream #0:0 (h264) -> fps:default\n",
      "  Stream #1:1 (aac) -> adelay:default\n",
      "  fade:default -> Stream #0:0 (libx264)\n",
      "  acopy:default -> Stream #0:1 (aac)\n",
      "Press [q] to stop, [?] for help\n",
      "[fc#0 @ 0000022b3f03c500] [vo0->#0:0 @ 0000022b3f03d340] No information about the input framerate is available. Falling back to a default value of 25fps. Use the -r option if you want a different framerate.\n",
      "[libx264 @ 0000022b3f858e00] using cpu capabilities: MMX2 SSE2Fast SSSE3 SSE4.2 AVX FMA3 BMI2 AVX2\n",
      "[libx264 @ 0000022b3f858e00] profile High, level 5.1, 4:2:0, 8-bit\n",
      "[libx264 @ 0000022b3f858e00] 264 - core 164 r3190 7ed753b - H.264/MPEG-4 AVC codec - Copyleft 2003-2024 - http://www.videolan.org/x264.html - options: cabac=1 ref=3 deblock=1:0:0 analyse=0x3:0x113 me=hex subme=7 psy=1 psy_rd=1.00:0.00 mixed_ref=1 me_range=16 chroma_me=1 trellis=1 8x8dct=1 cqm=0 deadzone=21,11 fast_pskip=1 chroma_qp_offset=-2 threads=30 lookahead_threads=5 sliced_threads=0 nr=0 decimate=1 interlaced=0 bluray_compat=0 constrained_intra=0 bframes=3 b_pyramid=2 b_adapt=1 b_bias=0 direct=1 weightb=1 open_gop=0 weightp=2 keyint=250 keyint_min=25 scenecut=40 intra_refresh=0 rc_lookahead=40 rc=crf mbtree=1 crf=23.0 qcomp=0.60 qpmin=0 qpmax=69 qpstep=4 ip_ratio=1.40 aq=1:1.00\n",
      "Output #0, mp4, to 'test_output_test6.mp4':\n",
      "  Metadata:\n",
      "    major_brand     : mp42\n",
      "    minor_version   : 0\n",
      "    compatible_brands: mp42mp41\n",
      "    encoder         : Lavf61.3.103\n",
      "  Stream #0:0: Video: h264 (avc1 / 0x31637661), yuv420p(tv, bt709, progressive), 3840x2160, q=2-31, 25 fps, 12800 tbn\n",
      "      Metadata:\n",
      "        encoder         : Lavc61.5.103 libx264\n",
      "      Side data:\n",
      "        cpb: bitrate max/min/avg: 0/0/0 buffer size: 0 vbv_delay: N/A\n",
      "  Stream #0:1: Audio: aac (LC) (mp4a / 0x6134706D), 44100 Hz, stereo, fltp, 192 kb/s\n",
      "      Metadata:\n",
      "        encoder         : Lavc61.5.103 aac\n",
      "frame=    0 fps=0.0 q=0.0 size=       0KiB time=N/A bitrate=N/A dup=0 drop=9 speed=N/A    \n",
      "frame=    0 fps=0.0 q=0.0 size=       0KiB time=N/A bitrate=N/A dup=0 drop=16 speed=N/A    \n",
      "frame=   46 fps= 30 q=28.0 size=       0KiB time=00:00:01.76 bitrate=   0.2kbits/s dup=0 drop=25 speed=1.13x    \n",
      "frame=   92 fps= 44 q=28.0 size=       0KiB time=00:00:03.60 bitrate=   0.1kbits/s dup=0 drop=34 speed=1.74x    \n",
      "frame=  138 fps= 53 q=28.0 size=     256KiB time=00:00:05.44 bitrate= 385.6kbits/s dup=0 drop=43 speed=2.11x    \n",
      "frame=  182 fps= 59 q=28.0 size=     256KiB time=00:00:07.20 bitrate= 291.3kbits/s dup=0 drop=52 speed=2.32x    \n",
      "frame=  218 fps= 60 q=28.0 size=     256KiB time=00:00:08.64 bitrate= 242.8kbits/s dup=0 drop=59 speed=2.39x    \n",
      "frame=  250 fps= 61 q=28.0 size=     256KiB time=00:00:09.92 bitrate= 211.4kbits/s dup=0 drop=65 speed= 2.4x    \n",
      "frame=  276 fps= 59 q=28.0 size=     512KiB time=00:00:10.96 bitrate= 382.7kbits/s dup=0 drop=70 speed=2.36x    \n",
      "frame=  288 fps= 56 q=28.0 size=     512KiB time=00:00:11.44 bitrate= 366.7kbits/s dup=0 drop=72 speed=2.22x    \n",
      "frame=  326 fps= 57 q=28.0 size=     512KiB time=00:00:12.96 bitrate= 323.7kbits/s dup=0 drop=81 speed=2.28x    \n",
      "frame=  369 fps= 60 q=28.0 size=     512KiB time=00:00:14.68 bitrate= 285.7kbits/s dup=0 drop=89 speed=2.37x    \n",
      "frame=  429 fps= 64 q=28.0 size=     768KiB time=00:00:17.08 bitrate= 368.4kbits/s dup=0 drop=102 speed=2.55x    \n",
      "frame=  493 fps= 68 q=28.0 size=     768KiB time=00:00:19.64 bitrate= 320.4kbits/s dup=0 drop=114 speed=2.72x    \n",
      "frame=  555 fps= 72 q=28.0 size=     768KiB time=00:00:22.12 bitrate= 284.4kbits/s dup=0 drop=127 speed=2.86x    \n",
      "frame=  605 fps= 73 q=28.0 size=     768KiB time=00:00:24.12 bitrate= 260.9kbits/s dup=0 drop=137 speed=2.92x    \n",
      "frame=  658 fps= 75 q=28.0 size=     768KiB time=00:00:26.24 bitrate= 239.8kbits/s dup=0 drop=147 speed=2.99x    \n",
      "frame=  710 fps= 76 q=28.0 size=     768KiB time=00:00:28.32 bitrate= 222.2kbits/s dup=0 drop=158 speed=3.05x    \n",
      "frame=  759 fps= 77 q=28.0 size=     768KiB time=00:00:30.28 bitrate= 207.8kbits/s dup=0 drop=168 speed=3.09x    \n",
      "frame=  811 fps= 79 q=28.0 size=     768KiB time=00:00:32.36 bitrate= 194.4kbits/s dup=0 drop=178 speed=3.14x    \n",
      "frame=  864 fps= 80 q=28.0 size=     768KiB time=00:00:34.48 bitrate= 182.5kbits/s dup=0 drop=188 speed=3.18x    \n",
      "frame=  914 fps= 81 q=28.0 size=     768KiB time=00:00:36.48 bitrate= 172.5kbits/s dup=0 drop=199 speed=3.22x    \n",
      "frame=  957 fps= 81 q=28.0 size=    1024KiB time=00:00:38.20 bitrate= 219.6kbits/s dup=0 drop=207 speed=3.22x    \n",
      "frame=  996 fps= 80 q=28.0 size=    1024KiB time=00:00:39.76 bitrate= 211.0kbits/s dup=0 drop=215 speed=3.21x    \n",
      "frame= 1037 fps= 80 q=28.0 size=    1024KiB time=00:00:41.40 bitrate= 202.6kbits/s dup=0 drop=223 speed=3.21x    \n",
      "frame= 1077 fps= 80 q=28.0 size=    1024KiB time=00:00:43.00 bitrate= 195.1kbits/s dup=0 drop=231 speed=3.21x    \n",
      "frame= 1125 fps= 81 q=28.0 size=    1024KiB time=00:00:44.92 bitrate= 186.8kbits/s dup=0 drop=241 speed=3.23x    \n",
      "frame= 1178 fps= 82 q=28.0 size=    1024KiB time=00:00:47.04 bitrate= 178.3kbits/s dup=0 drop=251 speed=3.26x    \n",
      "frame= 1226 fps= 82 q=28.0 size=    1024KiB time=00:00:48.96 bitrate= 171.3kbits/s dup=0 drop=261 speed=3.27x    \n",
      "frame= 1284 fps= 83 q=28.0 size=    1280KiB time=00:00:51.28 bitrate= 204.5kbits/s dup=0 drop=273 speed=3.31x    \n",
      "frame= 1344 fps= 84 q=28.0 size=    1280KiB time=00:00:53.68 bitrate= 195.3kbits/s dup=0 drop=284 speed=3.36x    \n",
      "frame= 1396 fps= 85 q=28.0 size=    1280KiB time=00:00:55.76 bitrate= 188.1kbits/s dup=0 drop=295 speed=3.38x    \n",
      "frame= 1451 fps= 85 q=28.0 size=    1280KiB time=00:00:57.96 bitrate= 180.9kbits/s dup=0 drop=306 speed= 3.4x    \n",
      "frame= 1512 fps= 86 q=28.0 size=    1536KiB time=00:01:00.40 bitrate= 208.3kbits/s dup=0 drop=318 speed=3.44x    \n",
      "frame= 1577 fps= 87 q=28.0 size=    1536KiB time=00:01:03.00 bitrate= 199.7kbits/s dup=0 drop=331 speed=3.49x    \n",
      "frame= 1633 fps= 88 q=28.0 size=    1536KiB time=00:01:05.24 bitrate= 192.9kbits/s dup=0 drop=342 speed=3.51x    \n",
      "frame= 1680 fps= 88 q=28.0 size=    1536KiB time=00:01:07.12 bitrate= 187.5kbits/s dup=0 drop=352 speed=3.52x    \n",
      "frame= 1722 fps= 88 q=28.0 size=    1536KiB time=00:01:08.80 bitrate= 182.9kbits/s dup=0 drop=360 speed=3.51x    \n",
      "frame= 1759 fps= 87 q=28.0 size=    1792KiB time=00:01:10.28 bitrate= 208.9kbits/s dup=0 drop=368 speed=3.49x    \n",
      "frame= 1803 fps= 87 q=28.0 size=    1792KiB time=00:01:12.04 bitrate= 203.8kbits/s dup=0 drop=376 speed=3.49x    \n",
      "frame= 1843 fps= 87 q=28.0 size=    1792KiB time=00:01:13.64 bitrate= 199.4kbits/s dup=0 drop=384 speed=3.48x    \n",
      "frame= 1904 fps= 88 q=28.0 size=    1792KiB time=00:01:16.08 bitrate= 193.0kbits/s dup=0 drop=397 speed=3.51x    \n",
      "frame= 1969 fps= 89 q=28.0 size=    1792KiB time=00:01:18.68 bitrate= 186.6kbits/s dup=0 drop=409 speed=3.55x    \n",
      "frame= 2032 fps= 90 q=28.0 size=    1792KiB time=00:01:21.20 bitrate= 180.8kbits/s dup=0 drop=422 speed=3.58x    \n",
      "frame= 2092 fps= 90 q=28.0 size=    1792KiB time=00:01:23.60 bitrate= 175.6kbits/s dup=0 drop=434 speed= 3.6x    \n",
      "frame= 2143 fps= 90 q=28.0 size=    2048KiB time=00:01:25.64 bitrate= 195.9kbits/s dup=0 drop=444 speed=3.61x    \n",
      "frame= 2198 fps= 91 q=28.0 size=    2048KiB time=00:01:27.84 bitrate= 191.0kbits/s dup=0 drop=455 speed=3.62x    \n",
      "frame= 2245 fps= 91 q=28.0 size=    2048KiB time=00:01:29.72 bitrate= 187.0kbits/s dup=0 drop=465 speed=3.62x    \n",
      "frame= 2295 fps= 91 q=28.0 size=    2048KiB time=00:01:31.72 bitrate= 182.9kbits/s dup=0 drop=475 speed=3.63x    \n",
      "frame= 2348 fps= 91 q=28.0 size=    2048KiB time=00:01:33.84 bitrate= 178.8kbits/s dup=0 drop=485 speed=3.64x    \n",
      "frame= 2400 fps= 91 q=28.0 size=    2304KiB time=00:01:35.92 bitrate= 196.8kbits/s dup=0 drop=496 speed=3.64x    \n",
      "frame= 2447 fps= 91 q=28.0 size=    2304KiB time=00:01:37.80 bitrate= 193.0kbits/s dup=0 drop=505 speed=3.64x    \n",
      "frame= 2484 fps= 91 q=28.0 size=    2304KiB time=00:01:39.28 bitrate= 190.1kbits/s dup=0 drop=512 speed=3.63x    \n",
      "frame= 2525 fps= 91 q=28.0 size=    2304KiB time=00:01:40.92 bitrate= 187.0kbits/s dup=0 drop=521 speed=3.62x    \n",
      "frame= 2569 fps= 91 q=28.0 size=    2304KiB time=00:01:42.68 bitrate= 183.8kbits/s dup=0 drop=529 speed=3.62x    \n",
      "frame= 2616 fps= 91 q=28.0 size=    2304KiB time=00:01:44.56 bitrate= 180.5kbits/s dup=0 drop=539 speed=3.62x    \n",
      "frame= 2661 fps= 90 q=28.0 size=    2560KiB time=00:01:46.36 bitrate= 197.2kbits/s dup=0 drop=548 speed=3.62x    \n",
      "frame= 2719 fps= 91 q=28.0 size=    2560KiB time=00:01:48.68 bitrate= 193.0kbits/s dup=0 drop=560 speed=3.63x    \n",
      "frame= 2781 fps= 91 q=28.0 size=    2560KiB time=00:01:51.16 bitrate= 188.7kbits/s dup=0 drop=572 speed=3.65x    \n",
      "frame= 2840 fps= 92 q=28.0 size=    2560KiB time=00:01:53.52 bitrate= 184.7kbits/s dup=0 drop=584 speed=3.67x    \n",
      "frame= 2888 fps= 92 q=28.0 size=    2816KiB time=00:01:55.44 bitrate= 199.8kbits/s dup=0 drop=593 speed=3.67x    \n",
      "frame= 2938 fps= 92 q=28.0 size=    2816KiB time=00:01:57.44 bitrate= 196.4kbits/s dup=0 drop=603 speed=3.67x    \n",
      "frame= 2992 fps= 92 q=28.0 size=    2816KiB time=00:01:59.60 bitrate= 192.9kbits/s dup=0 drop=614 speed=3.68x    \n",
      "frame= 3045 fps= 92 q=28.0 size=    2816KiB time=00:02:01.72 bitrate= 189.5kbits/s dup=0 drop=625 speed=3.69x    \n",
      "frame= 3097 fps= 92 q=28.0 size=    2816KiB time=00:02:03.80 bitrate= 186.3kbits/s dup=0 drop=635 speed=3.69x    \n",
      "frame= 3147 fps= 92 q=28.0 size=    2816KiB time=00:02:05.80 bitrate= 183.4kbits/s dup=0 drop=645 speed=3.69x    \n",
      "frame= 3196 fps= 92 q=28.0 size=    2816KiB time=00:02:07.76 bitrate= 180.6kbits/s dup=0 drop=655 speed= 3.7x    \n",
      "frame= 3231 fps= 92 q=28.0 size=    2816KiB time=00:02:09.16 bitrate= 178.6kbits/s dup=0 drop=662 speed=3.68x    \n",
      "frame= 3276 fps= 92 q=28.0 size=    3072KiB time=00:02:10.96 bitrate= 192.2kbits/s dup=0 drop=671 speed=3.68x    \n",
      "frame= 3332 fps= 92 q=28.0 size=    3072KiB time=00:02:13.20 bitrate= 188.9kbits/s dup=0 drop=682 speed=3.69x    \n",
      "frame= 3393 fps= 93 q=28.0 size=    3072KiB time=00:02:15.64 bitrate= 185.5kbits/s dup=0 drop=694 speed= 3.7x    \n",
      "frame= 3454 fps= 93 q=28.0 size=    3072KiB time=00:02:18.08 bitrate= 182.3kbits/s dup=0 drop=707 speed=3.72x    \n",
      "frame= 3516 fps= 93 q=28.0 size=    3328KiB time=00:02:20.56 bitrate= 194.0kbits/s dup=0 drop=719 speed=3.73x    \n",
      "frame= 3572 fps= 94 q=28.0 size=    3328KiB time=00:02:22.80 bitrate= 190.9kbits/s dup=0 drop=730 speed=3.74x    \n",
      "frame= 3616 fps= 93 q=28.0 size=    3328KiB time=00:02:24.56 bitrate= 188.6kbits/s dup=0 drop=739 speed=3.74x    \n",
      "frame= 3658 fps= 93 q=28.0 size=    3328KiB time=00:02:26.24 bitrate= 186.4kbits/s dup=0 drop=747 speed=3.73x    \n",
      "frame= 3698 fps= 93 q=28.0 size=    3328KiB time=00:02:27.84 bitrate= 184.4kbits/s dup=0 drop=755 speed=3.72x    \n",
      "frame= 3747 fps= 93 q=28.0 size=    3328KiB time=00:02:29.80 bitrate= 182.0kbits/s dup=0 drop=765 speed=3.72x    \n",
      "frame= 3801 fps= 93 q=28.0 size=    3328KiB time=00:02:31.96 bitrate= 179.4kbits/s dup=0 drop=776 speed=3.73x    \n",
      "frame= 3854 fps= 93 q=28.0 size=    3584KiB time=00:02:34.08 bitrate= 190.6kbits/s dup=0 drop=786 speed=3.73x    \n",
      "frame= 3907 fps= 93 q=28.0 size=    3584KiB time=00:02:36.20 bitrate= 188.0kbits/s dup=0 drop=797 speed=3.74x    \n",
      "frame= 3954 fps= 93 q=28.0 size=    3584KiB time=00:02:38.08 bitrate= 185.7kbits/s dup=0 drop=806 speed=3.74x    \n",
      "frame= 3989 fps= 93 q=28.0 size=    3584KiB time=00:02:39.48 bitrate= 184.1kbits/s dup=0 drop=814 speed=3.72x    \n",
      "frame= 4037 fps= 93 q=28.0 size=    3840KiB time=00:02:41.40 bitrate= 194.9kbits/s dup=0 drop=823 speed=3.72x    \n",
      "frame= 4086 fps= 93 q=28.0 size=    3840KiB time=00:02:43.36 bitrate= 192.6kbits/s dup=0 drop=833 speed=3.72x    \n",
      "frame= 4147 fps= 93 q=28.0 size=    3840KiB time=00:02:45.80 bitrate= 189.7kbits/s dup=0 drop=845 speed=3.74x    \n",
      "frame= 4208 fps= 94 q=28.0 size=    3840KiB time=00:02:48.24 bitrate= 187.0kbits/s dup=0 drop=857 speed=3.75x    \n",
      "frame= 4270 fps= 94 q=28.0 size=    3840KiB time=00:02:50.72 bitrate= 184.3kbits/s dup=0 drop=870 speed=3.76x    \n",
      "frame= 4325 fps= 94 q=28.0 size=    3840KiB time=00:02:52.92 bitrate= 181.9kbits/s dup=0 drop=881 speed=3.77x    \n",
      "frame= 4373 fps= 94 q=28.0 size=    3840KiB time=00:02:54.84 bitrate= 179.9kbits/s dup=0 drop=890 speed=3.76x    \n",
      "frame= 4417 fps= 94 q=28.0 size=    4096KiB time=00:02:56.60 bitrate= 190.0kbits/s dup=0 drop=899 speed=3.76x    \n",
      "[out#0/mp4 @ 0000022b3f07d300] video:4023KiB audio:383KiB subtitle:0KiB other streams:0KiB global headers:0KiB muxing overhead: 1.442218%\n",
      "frame= 4501 fps= 95 q=-1.0 Lsize=    4469KiB time=00:00:17.66 bitrate=2072.8kbits/s dup=0 drop=899 speed=0.373x    \n",
      "[libx264 @ 0000022b3f858e00] frame I:24    Avg QP: 8.73  size: 81361\n",
      "[libx264 @ 0000022b3f858e00] frame P:1129  Avg QP:17.30  size:   908\n",
      "[libx264 @ 0000022b3f858e00] frame B:3348  Avg QP:19.38  size:   341\n",
      "[libx264 @ 0000022b3f858e00] consecutive B-frames:  0.8%  0.0%  0.1% 99.1%\n",
      "[libx264 @ 0000022b3f858e00] mb I  I16..4: 69.8% 25.8%  4.4%\n",
      "[libx264 @ 0000022b3f858e00] mb P  I16..4:  0.0%  0.0%  0.0%  P16..4:  0.1%  0.0%  0.0%  0.0%  0.0%    skip:99.8%\n",
      "[libx264 @ 0000022b3f858e00] mb B  I16..4:  0.0%  0.0%  0.0%  B16..8:  0.2%  0.0%  0.0%  direct: 0.0%  skip:99.8%  L0:59.5% L1:40.1% BI: 0.4%\n",
      "[libx264 @ 0000022b3f858e00] 8x8 transform intra:27.0% inter:23.3%\n",
      "[libx264 @ 0000022b3f858e00] coded y,uvDC,uvAC intra: 2.9% 6.0% 5.6% inter: 0.0% 0.0% 0.0%\n",
      "[libx264 @ 0000022b3f858e00] i16 v,h,dc,p: 97%  1%  1%  0%\n",
      "[libx264 @ 0000022b3f858e00] i8 v,h,dc,ddl,ddr,vr,hd,vl,hu: 34% 20% 45%  0%  0%  0%  0%  0%  0%\n",
      "[libx264 @ 0000022b3f858e00] i4 v,h,dc,ddl,ddr,vr,hd,vl,hu: 36% 17% 27%  5%  4%  3%  3%  3%  3%\n",
      "[libx264 @ 0000022b3f858e00] i8c dc,h,v,p: 94%  3%  3%  1%\n",
      "[libx264 @ 0000022b3f858e00] Weighted P-Frames: Y:0.0% UV:0.0%\n",
      "[libx264 @ 0000022b3f858e00] ref P L0: 84.4%  2.5% 10.1%  3.1%\n",
      "[libx264 @ 0000022b3f858e00] ref B L0: 64.2% 35.1%  0.8%\n",
      "[libx264 @ 0000022b3f858e00] ref B L1: 98.4%  1.6%\n",
      "[libx264 @ 0000022b3f858e00] kb/s:183.02\n",
      "[aac @ 0000022b3f859a80] Qavg: 11741.366\n",
      "\n",
      "Test 6 passed\n"
     ]
    },
    {
     "data": {
      "text/html": [
       "<video src=\"test_output_test6.mp4\" controls  >\n",
       "      Your browser does not support the <code>video</code> element.\n",
       "    </video>"
      ],
      "text/plain": [
       "<IPython.core.display.Video object>"
      ]
     },
     "execution_count": 8,
     "metadata": {},
     "output_type": "execute_result"
    }
   ],
   "source": [
    "success, output_file = run_mmmeld([\"--audio\", local_audio_long, \"--image\", f\"{local_video_short},{local_video_short2}\", \"--output\", \"test6.mp4\"])\n",
    "print(f\"Test 6 {'passed' if success else 'failed'}\")\n",
    "display_output(output_file)"
   ]
  },
  {
   "cell_type": "markdown",
   "metadata": {},
   "source": [
    "## Test 7: Multiple Videos with Main Audio (Total Video Time > Audio Time)\n",
    "\n",
    "Expected behavior: Videos should play in sequence, cut at audio end."
   ]
  },
  {
   "cell_type": "code",
   "execution_count": null,
   "metadata": {},
   "outputs": [],
   "source": [
    "success, output_file = run_mmmeld([\"--audio\", local_audio_short, \"--image\", f\"{local_video_short},{local_video_long}\", \"--output\", \"test7.mp4\"])\n",
    "print(f\"Test 7 {'passed' if success else 'failed'}\")\n",
    "display_output(output_file)"
   ]
  },
  {
   "cell_type": "markdown",
   "metadata": {},
   "source": [
    "## Test 8: Multiple Videos without Main Audio\n",
    "\n",
    "Expected behavior: Videos should play in sequence once."
   ]
  },
  {
   "cell_type": "code",
   "execution_count": null,
   "metadata": {},
   "outputs": [],
   "source": [
    "success, output_file = run_mmmeld([\"--image\", f\"{local_video_short},{local_video_long}\", \"--output\", \"test8.mp4\"])\n",
    "print(f\"Test 8 {'passed' if success else 'failed'}\")\n",
    "display_output(output_file)"
   ]
  },
  {
   "cell_type": "markdown",
   "metadata": {},
   "source": [
    "## Test 9: Videos + Images with Main Audio (Total Video Time < Audio Time)\n",
    "\n",
    "Expected behavior: Play videos once in sequence, distribute remaining time equally among images."
   ]
  },
  {
   "cell_type": "code",
   "execution_count": null,
   "metadata": {},
   "outputs": [],
   "source": [
    "success, output_file = run_mmmeld([\"--audio\", local_audio_long, \"--image\", f\"{local_video_short},{local_image1},{local_image2}\", \"--output\", \"test9.mp4\"])\n",
    "print(f\"Test 9 {'passed' if success else 'failed'}\")\n",
    "display_output(output_file)"
   ]
  },
  {
   "cell_type": "markdown",
   "metadata": {},
   "source": [
    "## Test 10: Videos + Images with Main Audio (Total Video Time >= Audio Time)\n",
    "\n",
    "Expected behavior: Distribute 5 seconds each to images, truncate sequence to fit audio."
   ]
  },
  {
   "cell_type": "code",
   "execution_count": null,
   "metadata": {},
   "outputs": [],
   "source": [
    "success, output_file = run_mmmeld([\"--audio\", local_audio_short, \"--image\", f\"{local_video_long},{local_image1},{local_image2}\", \"--output\", \"test10.mp4\"])\n",
    "print(f\"Test 10 {'passed' if success else 'failed'}\")\n",
    "display_output(output_file)"
   ]
  },
  {
   "cell_type": "markdown",
   "metadata": {},
   "source": [
    "## Test 11: Videos + Images without Main Audio\n",
    "\n",
    "Expected behavior: Play videos in sequence, show each image for 5 seconds."
   ]
  },
  {
   "cell_type": "code",
   "execution_count": null,
   "metadata": {},
   "outputs": [],
   "source": [
    "success, output_file = run_mmmeld([\"--image\", f\"{local_video_short},{local_image1},{local_video_long},{local_image2}\", \"--output\", \"test11.mp4\"])\n",
    "print(f\"Test 11 {'passed' if success else 'failed'}\")\n",
    "display_output(output_file)"
   ]
  },
  {
   "cell_type": "markdown",
   "metadata": {},
   "source": [
    "## Test 12: Image + Video with Main Audio (Video Shorter)\n",
    "\n",
    "Expected behavior: End of video anchored to end of audio, image shown first, filling remaining time."
   ]
  },
  {
   "cell_type": "code",
   "execution_count": null,
   "metadata": {},
   "outputs": [],
   "source": [
    "success, output_file = run_mmmeld([\"--audio\", local_audio_long, \"--image\", f\"{local_image1},{local_video_short}\", \"--output\", \"test12.mp4\"])\n",
    "print(f\"Test 12 {'passed' if success else 'failed'}\")\n",
    "display_output(output_file)"
   ]
  },
  {
   "cell_type": "markdown",
   "metadata": {},
   "source": [
    "## Test 13: Image + Video with Main Audio (Video Longer)\n",
    "\n",
    "Expected behavior: Minimum 5s for image, then video (cut off)."
   ]
  },
  {
   "cell_type": "code",
   "execution_count": null,
   "metadata": {},
   "outputs": [],
   "source": [
    "success, output_file = run_mmmeld([\"--audio\", local_audio_short, \"--image\", f\"{local_image1},{local_video_long}\", \"--output\", \"test13.mp4\"])\n",
    "print(f\"Test 13 {'passed' if success else 'failed'}\")\n",
    "display_output(output_file)"
   ]
  },
  {
   "cell_type": "markdown",
   "metadata": {},
   "source": [
    "## Test 14: Image + Video without Main Audio\n",
    "\n",
    "Expected behavior: Image shown for 5 seconds, then video plays in full."
   ]
  },
  {
   "cell_type": "code",
   "execution_count": null,
   "metadata": {},
   "outputs": [],
   "source": [
    "success, output_file = run_mmmeld([\"--image\", f\"{local_image1},{local_video_long}\", \"--output\", \"test14.mp4\"])\n",
    "print(f\"Test 14 {'passed' if success else 'failed'}\")\n",
    "display_output(output_file)"
   ]
  },
  {
   "cell_type": "markdown",
   "metadata": {},
   "source": [
    "## Test 15: Multiple Images with Main Audio\n",
    "\n",
    "Expected behavior: Equal time for each image, no looping."
   ]
  },
  {
   "cell_type": "code",
   "execution_count": null,
   "metadata": {},
   "outputs": [],
   "source": [
    "success, output_file = run_mmmeld([\"--audio\", local_audio_short, \"--image\", f\"{local_image1},{local_image2}\", \"--output\", \"test15.mp4\"])\n",
    "print(f\"Test 15 {'passed' if success else 'failed'}\")\n",
    "display_output(output_file)"
   ]
  },
  {
   "cell_type": "markdown",
   "metadata": {},
   "source": [
    "## Test 16: Multiple Images without Main Audio\n",
    "\n",
    "Expected behavior: 5 seconds for each image."
   ]
  },
  {
   "cell_type": "code",
   "execution_count": null,
   "metadata": {},
   "outputs": [],
   "source": [
    "success, output_file = run_mmmeld([\"--image\", f\"{local_image1},{local_image2}\", \"--output\", \"test16.mp4\"])\n",
    "print(f\"Test 16 {'passed' if success else 'failed'}\")\n",
    "display_output(output_file)"
   ]
  },
  {
   "cell_type": "markdown",
   "metadata": {},
   "source": [
    "## Test 17: YouTube Audio with Local Images\n",
    "\n",
    "Expected behavior: YouTube audio with images displayed for equal durations."
   ]
  },
  {
   "cell_type": "code",
   "execution_count": null,
   "metadata": {},
   "outputs": [],
   "source": [
    "success, output_file = run_mmmeld([\"--audio\", youtube_audio, \"--image\", f\"{local_image1},{local_image2}\", \"--output\", \"test17.mp4\"])\n",
    "print(f\"Test 17 {'passed' if success else 'failed'}\")\n",
    "display_output(output_file)"
   ]
  },
  {
   "cell_type": "markdown",
   "metadata": {},
   "source": [
    "## Test 18: Local Audio with YouTube Video\n",
    "\n",
    "Expected behavior: Local audio with YouTube video (cut or looped to match audio duration)."
   ]
  },
  {
   "cell_type": "code",
   "execution_count": null,
   "metadata": {},
   "outputs": [],
   "source": [
    "success, output_file = run_mmmeld([\"--audio\", local_audio_short, \"--image\", youtube_video, \"--output\", \"test18.mp4\"])\n",
    "print(f\"Test 18 {'passed' if success else 'failed'}\")\n",
    "display_output(output_file)"
   ]
  },
  {
   "cell_type": "markdown",
   "metadata": {},
   "source": [
    "## Test 19: Text-to-Speech with AI-Generated Image\n",
    "\n",
    "Expected behavior: Generated speech with AI-generated image for the full duration."
   ]
  },
  {
   "cell_type": "code",
   "execution_count": null,
   "metadata": {},
   "outputs": [],
   "source": [
    "success, output_file = run_mmmeld([\"--text\", tts_text, \"--image\", \"generate\", \"--output\", \"test19.mp4\"])\n",
    "print(f\"Test 19 {'passed' if success else 'failed'}\")\n",
    "display_output(output_file)"
   ]
  },
  {
   "cell_type": "markdown",
   "metadata": {},
   "source": [
    "## Test 20: Main Audio with Background Music\n",
    "\n",
    "Expected behavior: Main audio plays with background music looped and faded out at the end."
   ]
  },
  {
   "cell_type": "code",
   "execution_count": null,
   "metadata": {},
   "outputs": [],
   "source": [
    "success, output_file = run_mmmeld([\"--audio\", local_audio_short, \"--image\", local_image1, \"--bg-music\", bg_music, \"--output\", \"test20.mp4\"])\n",
    "print(f\"Test 20 {'passed' if success else 'failed'}\")\n",
    "display_output(output_file)"
   ]
  },
  {
   "cell_type": "markdown",
   "metadata": {},
   "source": [
    "## Test 21: Custom Audio Margins\n",
    "\n",
    "Expected behavior: 1-second lead-in and 3-second fade-out applied to the main audio."
   ]
  },
  {
   "cell_type": "code",
   "execution_count": null,
   "metadata": {},
   "outputs": [],
   "source": [
    "success, output_file = run_mmmeld([\"--audio\", local_audio_short, \"--image\", local_image1, \"--audiomargin\", \"1.0,3.0\", \"--output\", \"test21.mp4\"])\n",
    "print(f\"Test 21 {'passed' if success else 'failed'}\")\n",
    "display_output(output_file)"
   ]
  }
 ],
 "metadata": {
  "kernelspec": {
   "display_name": "Python 3",
   "language": "python",
   "name": "python3"
  },
  "language_info": {
   "codemirror_mode": {
    "name": "ipython",
    "version": 3
   },
   "file_extension": ".py",
   "mimetype": "text/x-python",
   "name": "python",
   "nbconvert_exporter": "python",
   "pygments_lexer": "ipython3",
   "version": "3.12.3"
  }
 },
 "nbformat": 4,
 "nbformat_minor": 4
}
