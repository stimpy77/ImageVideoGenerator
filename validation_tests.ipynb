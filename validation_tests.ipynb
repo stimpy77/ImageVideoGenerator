{
 "cells": [
  {
   "cell_type": "markdown",
   "metadata": {},
   "source": [
    "# mmmeld Validation Tests\n",
    "\n",
    "This notebook contains parameterized validation tests for mmmeld.py. We'll test various scenarios and rules using different combinations of media sources."
   ]
  },
  {
   "cell_type": "code",
   "execution_count": 7,
   "metadata": {},
   "outputs": [],
   "source": [
    "import subprocess\n",
    "import os\n",
    "from IPython.display import Video\n",
    "\n",
    "def run_mmmeld(params):\n",
    "    output_file = f\"test_output_{params[params.index('--output') + 1]}\"\n",
    "    cmd = [\"python\", \"mmmeld.py\", \"--autofill\", \"--cleanup\"] + params + [\"--output\", output_file]\n",
    "    result = subprocess.run(cmd, capture_output=True, text=True)\n",
    "    print(result.stdout)\n",
    "    print(result.stderr)\n",
    "    return result.returncode == 0, output_file\n",
    "\n",
    "def display_output(output_file):\n",
    "    if os.path.exists(output_file):\n",
    "        return Video(output_file)\n",
    "    else:\n",
    "        return f\"Output file {output_file} not found.\"\n",
    "\n",
    "# Define media sources\n",
    "local_audio_short = \"test_media/10_seconds.wav\"  # 10 seconds\n",
    "local_audio_long = \"test_media/5_minutes.mp3\"  # 5 minutes\n",
    "youtube_audio = \"https://www.youtube.com/watch?v=dQw4w9WgXcQ\"  # Rick Astley - Never Gonna Give You Up\n",
    "local_image1 = \"test_media/square.jpg\" # square\n",
    "local_image2 = \"16_9.png\" # 16:9\n",
    "local_video_short = \"test_media/15_seconds.mp4\"  # 15 seconds\n",
    "local_video_long = \"test_media/3_minutes.webm\"  # 3 minutes\n",
    "youtube_video = \"https://www.youtube.com/watch?v=9bZkp7q19f0\"  # PSY - GANGNAM STYLE\n",
    "bg_music = \"test_media/IndigoMirage.mp3\"\n",
    "\n",
    "# Text for text-to-speech generation\n",
    "tts_text = \"To be, or not to be, that is the question.\""
   ]
  },
  {
   "cell_type": "markdown",
   "metadata": {},
   "source": [
    "## Test 1: Single Image with Main Audio\n",
    "\n",
    "Expected behavior: The image should be displayed for the entire duration of the audio."
   ]
  },
  {
   "cell_type": "code",
   "execution_count": 14,
   "metadata": {},
   "outputs": [
    {
     "name": "stdout",
     "output_type": "stream",
     "text": [
      "get_audio_duration: file_path=test_media/10_seconds.wav, output='10.000340'\n",
      "FFmpeg command:\n",
      "ffmpeg -y -stream_loop -1 -i temp_assets\\temp_square.jpg.mp4 -i test_media/10_seconds.wav -filter_complex [0:v]fps=30,format=yuv420p,trim=duration=12.50034,setpts=PTS-STARTPTS[v0];[v0]fade=t=out:st=10.50034:d=2.0[final_video];[1:a]adelay=500|500,apad=pad_dur=2.0[main_audio];[main_audio]acopy[final_audio] -map [final_video] -map [final_audio] -c:v libx264 -preset medium -crf 23 -c:a aac -b:a 192k -t 12.50034 test_output_test1.mp4\n",
      "Attempting to clean up 0 files:\n",
      "Cleanup completed. Temporary folder 'temp_assets' was not removed.\n",
      "Video created successfully at test_output_test1.mp4\n",
      "The length of the video is the main audio length plus 2.5 seconds.\n",
      "Cleaning up temporary files...\n",
      "Attempting to clean up 0 files:\n",
      "Cleanup completed. Temporary folder 'temp_assets' was not removed.\n",
      "\n",
      "ffmpeg version 2024-05-13-git-37db0454e4-full_build-www.gyan.dev Copyright (c) 2000-2024 the FFmpeg developers\n",
      "  built with gcc 13.2.0 (Rev5, Built by MSYS2 project)\n",
      "  configuration: --enable-gpl --enable-version3 --enable-static --disable-w32threads --disable-autodetect --enable-fontconfig --enable-iconv --enable-gnutls --enable-libxml2 --enable-gmp --enable-bzlib --enable-lzma --enable-libsnappy --enable-zlib --enable-librist --enable-libsrt --enable-libssh --enable-libzmq --enable-avisynth --enable-libbluray --enable-libcaca --enable-sdl2 --enable-libaribb24 --enable-libaribcaption --enable-libdav1d --enable-libdavs2 --enable-libuavs3d --enable-libxevd --enable-libzvbi --enable-librav1e --enable-libsvtav1 --enable-libwebp --enable-libx264 --enable-libx265 --enable-libxavs2 --enable-libxeve --enable-libxvid --enable-libaom --enable-libjxl --enable-libopenjpeg --enable-libvpx --enable-mediafoundation --enable-libass --enable-frei0r --enable-libfreetype --enable-libfribidi --enable-libharfbuzz --enable-liblensfun --enable-libvidstab --enable-libvmaf --enable-libzimg --enable-amf --enable-cuda-llvm --enable-cuvid --enable-dxva2 --enable-d3d11va --enable-d3d12va --enable-ffnvcodec --enable-libvpl --enable-nvdec --enable-nvenc --enable-vaapi --enable-libshaderc --enable-vulkan --enable-libplacebo --enable-opencl --enable-libcdio --enable-libgme --enable-libmodplug --enable-libopenmpt --enable-libopencore-amrwb --enable-libmp3lame --enable-libshine --enable-libtheora --enable-libtwolame --enable-libvo-amrwbenc --enable-libcodec2 --enable-libilbc --enable-libgsm --enable-libopencore-amrnb --enable-libopus --enable-libspeex --enable-libvorbis --enable-ladspa --enable-libbs2b --enable-libflite --enable-libmysofa --enable-librubberband --enable-libsoxr --enable-chromaprint\n",
      "  libavutil      59. 17.100 / 59. 17.100\n",
      "  libavcodec     61.  5.103 / 61.  5.103\n",
      "  libavformat    61.  3.103 / 61.  3.103\n",
      "  libavdevice    61.  2.100 / 61.  2.100\n",
      "  libavfilter    10.  2.101 / 10.  2.101\n",
      "  libswscale      8.  2.100 /  8.  2.100\n",
      "  libswresample   5.  2.100 /  5.  2.100\n",
      "  libpostproc    58.  2.100 / 58.  2.100\n",
      "Input #0, image2, from 'test_media/square.jpg':\n",
      "  Duration: 00:00:00.04, start: 0.000000, bitrate: 62450 kb/s\n",
      "  Stream #0:0: Video: mjpeg (Baseline), yuvj420p(pc, bt470bg/unknown/unknown), 1024x1024 [SAR 1:1 DAR 1:1], 25 fps, 25 tbr, 25 tbn\n",
      "Stream mapping:\n",
      "  Stream #0:0 -> #0:0 (mjpeg (native) -> h264 (libx264))\n",
      "Press [q] to stop, [?] for help\n",
      "[swscaler @ 000001b2c7acd180] deprecated pixel format used, make sure you did set range correctly\n",
      "[swscaler @ 000001b2c8642040] deprecated pixel format used, make sure you did set range correctly\n",
      "[swscaler @ 000001b2c7acd180] deprecated pixel format used, make sure you did set range correctly\n",
      "    Last message repeated 1 times\n",
      "[libx264 @ 000001b2c765cf00] using SAR=1/1\n",
      "[libx264 @ 000001b2c765cf00] using cpu capabilities: MMX2 SSE2Fast SSSE3 SSE4.2 AVX FMA3 BMI2 AVX2\n",
      "[libx264 @ 000001b2c765cf00] profile High, level 4.0, 4:2:0, 8-bit\n",
      "[libx264 @ 000001b2c765cf00] 264 - core 164 r3190 7ed753b - H.264/MPEG-4 AVC codec - Copyleft 2003-2024 - http://www.videolan.org/x264.html - options: cabac=1 ref=3 deblock=1:0:0 analyse=0x3:0x113 me=hex subme=7 psy=1 psy_rd=1.00:0.00 mixed_ref=1 me_range=16 chroma_me=1 trellis=1 8x8dct=1 cqm=0 deadzone=21,11 fast_pskip=1 chroma_qp_offset=-2 threads=30 lookahead_threads=5 sliced_threads=0 nr=0 decimate=1 interlaced=0 bluray_compat=0 constrained_intra=0 bframes=3 b_pyramid=2 b_adapt=1 b_bias=0 direct=1 weightb=1 open_gop=0 weightp=2 keyint=250 keyint_min=25 scenecut=40 intra_refresh=0 rc_lookahead=40 rc=crf mbtree=1 crf=23.0 qcomp=0.60 qpmin=0 qpmax=69 qpstep=4 ip_ratio=1.40 aq=1:1.00\n",
      "Output #0, mp4, to 'temp_assets\\temp_square.jpg.mp4':\n",
      "  Metadata:\n",
      "    encoder         : Lavf61.3.103\n",
      "  Stream #0:0: Video: h264 (avc1 / 0x31637661), yuv420p(progressive), 1920x1080 [SAR 1:1 DAR 16:9], q=2-31, 30 fps, 15360 tbn\n",
      "      Metadata:\n",
      "        encoder         : Lavc61.5.103 libx264\n",
      "      Side data:\n",
      "        cpb: bitrate max/min/avg: 0/0/0 buffer size: 0 vbv_delay: N/A\n",
      "frame=   45 fps=0.0 q=29.0 size=     256KiB time=00:00:01.43 bitrate=1463.4kbits/s dup=20 drop=0 speed=2.82x    \n",
      "[out#0/mp4 @ 000001b2c76b5e80] video:327KiB audio:0KiB subtitle:0KiB other streams:0KiB global headers:0KiB muxing overhead: 0.800320%\n",
      "frame=  150 fps=0.0 q=-1.0 Lsize=     329KiB time=00:00:04.93 bitrate= 547.0kbits/s dup=25 drop=0 speed=6.84x    \n",
      "[libx264 @ 000001b2c765cf00] frame I:1     Avg QP:16.09  size:320318\n",
      "[libx264 @ 000001b2c765cf00] frame P:38    Avg QP:15.62  size:   151\n",
      "[libx264 @ 000001b2c765cf00] frame B:111   Avg QP:13.67  size:    71\n",
      "[libx264 @ 000001b2c765cf00] consecutive B-frames:  1.3%  0.0%  0.0% 98.7%\n",
      "[libx264 @ 000001b2c765cf00] mb I  I16..4: 36.8% 34.6% 28.6%\n",
      "[libx264 @ 000001b2c765cf00] mb P  I16..4:  0.0%  0.0%  0.0%  P16..4:  0.3%  0.0%  0.0%  0.0%  0.0%    skip:99.6%\n",
      "[libx264 @ 000001b2c765cf00] mb B  I16..4:  0.0%  0.0%  0.0%  B16..8:  0.0%  0.0%  0.0%  direct: 0.0%  skip:100.0%  L0:43.5% L1:56.5% BI: 0.0%\n",
      "[libx264 @ 000001b2c765cf00] 8x8 transform intra:34.6% inter:94.2%\n",
      "[libx264 @ 000001b2c765cf00] coded y,uvDC,uvAC intra: 41.6% 45.4% 44.7% inter: 0.0% 0.1% 0.0%\n",
      "[libx264 @ 000001b2c765cf00] i16 v,h,dc,p: 94%  1%  4%  0%\n",
      "[libx264 @ 000001b2c765cf00] i8 v,h,dc,ddl,ddr,vr,hd,vl,hu: 36% 11% 28%  4%  4%  3%  6%  3%  6%\n",
      "[libx264 @ 000001b2c765cf00] i4 v,h,dc,ddl,ddr,vr,hd,vl,hu: 12% 16% 12%  8% 11%  9% 12%  8% 11%\n",
      "[libx264 @ 000001b2c765cf00] i8c dc,h,v,p: 75% 11%  7%  6%\n",
      "[libx264 @ 000001b2c765cf00] Weighted P-Frames: Y:0.0% UV:0.0%\n",
      "[libx264 @ 000001b2c765cf00] ref P L0: 96.7%  1.4%  1.5%  0.4%\n",
      "[libx264 @ 000001b2c765cf00] ref B L0: 40.9% 59.1%\n",
      "[libx264 @ 000001b2c765cf00] kb/s:534.28\n",
      "ffmpeg version 2024-05-13-git-37db0454e4-full_build-www.gyan.dev Copyright (c) 2000-2024 the FFmpeg developers\n",
      "  built with gcc 13.2.0 (Rev5, Built by MSYS2 project)\n",
      "  configuration: --enable-gpl --enable-version3 --enable-static --disable-w32threads --disable-autodetect --enable-fontconfig --enable-iconv --enable-gnutls --enable-libxml2 --enable-gmp --enable-bzlib --enable-lzma --enable-libsnappy --enable-zlib --enable-librist --enable-libsrt --enable-libssh --enable-libzmq --enable-avisynth --enable-libbluray --enable-libcaca --enable-sdl2 --enable-libaribb24 --enable-libaribcaption --enable-libdav1d --enable-libdavs2 --enable-libuavs3d --enable-libxevd --enable-libzvbi --enable-librav1e --enable-libsvtav1 --enable-libwebp --enable-libx264 --enable-libx265 --enable-libxavs2 --enable-libxeve --enable-libxvid --enable-libaom --enable-libjxl --enable-libopenjpeg --enable-libvpx --enable-mediafoundation --enable-libass --enable-frei0r --enable-libfreetype --enable-libfribidi --enable-libharfbuzz --enable-liblensfun --enable-libvidstab --enable-libvmaf --enable-libzimg --enable-amf --enable-cuda-llvm --enable-cuvid --enable-dxva2 --enable-d3d11va --enable-d3d12va --enable-ffnvcodec --enable-libvpl --enable-nvdec --enable-nvenc --enable-vaapi --enable-libshaderc --enable-vulkan --enable-libplacebo --enable-opencl --enable-libcdio --enable-libgme --enable-libmodplug --enable-libopenmpt --enable-libopencore-amrwb --enable-libmp3lame --enable-libshine --enable-libtheora --enable-libtwolame --enable-libvo-amrwbenc --enable-libcodec2 --enable-libilbc --enable-libgsm --enable-libopencore-amrnb --enable-libopus --enable-libspeex --enable-libvorbis --enable-ladspa --enable-libbs2b --enable-libflite --enable-libmysofa --enable-librubberband --enable-libsoxr --enable-chromaprint\n",
      "  libavutil      59. 17.100 / 59. 17.100\n",
      "  libavcodec     61.  5.103 / 61.  5.103\n",
      "  libavformat    61.  3.103 / 61.  3.103\n",
      "  libavdevice    61.  2.100 / 61.  2.100\n",
      "  libavfilter    10.  2.101 / 10.  2.101\n",
      "  libswscale      8.  2.100 /  8.  2.100\n",
      "  libswresample   5.  2.100 /  5.  2.100\n",
      "  libpostproc    58.  2.100 / 58.  2.100\n",
      "Input #0, mov,mp4,m4a,3gp,3g2,mj2, from 'temp_assets\\temp_square.jpg.mp4':\n",
      "  Metadata:\n",
      "    major_brand     : isom\n",
      "    minor_version   : 512\n",
      "    compatible_brands: isomiso2avc1mp41\n",
      "    encoder         : Lavf61.3.103\n",
      "  Duration: 00:00:05.00, start: 0.000000, bitrate: 539 kb/s\n",
      "  Stream #0:0[0x1](und): Video: h264 (High) (avc1 / 0x31637661), yuv420p(progressive), 1920x1080 [SAR 1:1 DAR 16:9], 535 kb/s, 30 fps, 30 tbr, 15360 tbn (default)\n",
      "      Metadata:\n",
      "        handler_name    : VideoHandler\n",
      "        vendor_id       : [0][0][0][0]\n",
      "        encoder         : Lavc61.5.103 libx264\n",
      "[aist#1:0/pcm_s16le @ 000002aec26a0e40] Guessed Channel Layout: stereo\n",
      "Input #1, wav, from 'test_media/10_seconds.wav':\n",
      "  Duration: 00:00:10.00, bitrate: 1411 kb/s\n",
      "  Stream #1:0: Audio: pcm_s16le ([1][0][0][0] / 0x0001), 44100 Hz, stereo, s16, 1411 kb/s\n",
      "Stream mapping:\n",
      "  Stream #0:0 (h264) -> fps:default\n",
      "  Stream #1:0 (pcm_s16le) -> adelay:default\n",
      "  fade:default -> Stream #0:0 (libx264)\n",
      "  acopy:default -> Stream #0:1 (aac)\n",
      "Press [q] to stop, [?] for help\n",
      "[fc#0 @ 000002aec20bbe00] [vo0->#0:0 @ 000002aec20be900] No information about the input framerate is available. Falling back to a default value of 25fps. Use the -r option if you want a different framerate.\n",
      "[libx264 @ 000002aec26b0580] using SAR=1/1\n",
      "[libx264 @ 000002aec26b0580] using cpu capabilities: MMX2 SSE2Fast SSSE3 SSE4.2 AVX FMA3 BMI2 AVX2\n",
      "[libx264 @ 000002aec26b0580] profile High, level 4.0, 4:2:0, 8-bit\n",
      "[libx264 @ 000002aec26b0580] 264 - core 164 r3190 7ed753b - H.264/MPEG-4 AVC codec - Copyleft 2003-2024 - http://www.videolan.org/x264.html - options: cabac=1 ref=3 deblock=1:0:0 analyse=0x3:0x113 me=hex subme=7 psy=1 psy_rd=1.00:0.00 mixed_ref=1 me_range=16 chroma_me=1 trellis=1 8x8dct=1 cqm=0 deadzone=21,11 fast_pskip=1 chroma_qp_offset=-2 threads=30 lookahead_threads=5 sliced_threads=0 nr=0 decimate=1 interlaced=0 bluray_compat=0 constrained_intra=0 bframes=3 b_pyramid=2 b_adapt=1 b_bias=0 direct=1 weightb=1 open_gop=0 weightp=2 keyint=250 keyint_min=25 scenecut=40 intra_refresh=0 rc_lookahead=40 rc=crf mbtree=1 crf=23.0 qcomp=0.60 qpmin=0 qpmax=69 qpstep=4 ip_ratio=1.40 aq=1:1.00\n",
      "Output #0, mp4, to 'test_output_test1.mp4':\n",
      "  Metadata:\n",
      "    major_brand     : isom\n",
      "    minor_version   : 512\n",
      "    compatible_brands: isomiso2avc1mp41\n",
      "    encoder         : Lavf61.3.103\n",
      "  Stream #0:0: Video: h264 (avc1 / 0x31637661), yuv420p(progressive), 1920x1080 [SAR 1:1 DAR 16:9], q=2-31, 25 fps, 12800 tbn\n",
      "      Metadata:\n",
      "        encoder         : Lavc61.5.103 libx264\n",
      "      Side data:\n",
      "        cpb: bitrate max/min/avg: 0/0/0 buffer size: 0 vbv_delay: N/A\n",
      "  Stream #0:1: Audio: aac (LC) (mp4a / 0x6134706D), 44100 Hz, stereo, fltp, 192 kb/s\n",
      "      Metadata:\n",
      "        encoder         : Lavc61.5.103 aac\n",
      "frame=  101 fps=0.0 q=28.0 size=     256KiB time=00:00:03.96 bitrate= 529.7kbits/s dup=0 drop=36 speed= 7.7x    \n",
      "[out#0/mp4 @ 000002aec20c6d40] video:711KiB audio:241KiB subtitle:0KiB other streams:0KiB global headers:0KiB muxing overhead: 1.221054%\n",
      "frame=  313 fps=305 q=-1.0 Lsize=     964KiB time=00:00:12.44 bitrate= 634.8kbits/s dup=0 drop=62 speed=12.1x    \n",
      "[libx264 @ 000002aec26b0580] frame I:2     Avg QP:13.73  size:339363\n",
      "[libx264 @ 000002aec26b0580] frame P:80    Avg QP:16.32  size:   230\n",
      "[libx264 @ 000002aec26b0580] frame B:231   Avg QP:13.66  size:   130\n",
      "[libx264 @ 000002aec26b0580] consecutive B-frames:  1.0%  1.3%  1.9% 95.8%\n",
      "[libx264 @ 000002aec26b0580] mb I  I16..4: 40.9% 30.1% 29.1%\n",
      "[libx264 @ 000002aec26b0580] mb P  I16..4:  0.1%  0.1%  0.0%  P16..4:  0.7%  0.0%  0.0%  0.0%  0.0%    skip:99.1%\n",
      "[libx264 @ 000002aec26b0580] mb B  I16..4:  0.0%  0.0%  0.0%  B16..8:  0.7%  0.0%  0.0%  direct: 0.0%  skip:99.3%  L0:46.0% L1:48.0% BI: 6.0%\n",
      "[libx264 @ 000002aec26b0580] 8x8 transform intra:31.1% inter:99.4%\n",
      "[libx264 @ 000002aec26b0580] coded y,uvDC,uvAC intra: 38.6% 42.8% 41.8% inter: 0.1% 0.2% 0.0%\n",
      "[libx264 @ 000002aec26b0580] i16 v,h,dc,p: 93%  2%  5%  1%\n",
      "[libx264 @ 000002aec26b0580] i8 v,h,dc,ddl,ddr,vr,hd,vl,hu: 34% 13% 27%  3%  4%  3%  6%  3%  6%\n",
      "[libx264 @ 000002aec26b0580] i4 v,h,dc,ddl,ddr,vr,hd,vl,hu: 14% 16% 12%  8% 11%  9% 12%  8% 11%\n",
      "[libx264 @ 000002aec26b0580] i8c dc,h,v,p: 76% 11%  7%  6%\n",
      "[libx264 @ 000002aec26b0580] Weighted P-Frames: Y:17.5% UV:17.5%\n",
      "[libx264 @ 000002aec26b0580] ref P L0: 81.9%  8.4%  7.1%  2.5%  0.1%\n",
      "[libx264 @ 000002aec26b0580] ref B L0: 88.9%  8.3%  2.8%\n",
      "[libx264 @ 000002aec26b0580] ref B L1: 99.0%  1.0%\n",
      "[libx264 @ 000002aec26b0580] kb/s:464.67\n",
      "[aac @ 000002aec20f2900] Qavg: 13649.062\n",
      "\n",
      "Test 1 passed\n"
     ]
    },
    {
     "data": {
      "text/html": [
       "<video src=\"test_output_test1.mp4\" controls  >\n",
       "      Your browser does not support the <code>video</code> element.\n",
       "    </video>"
      ],
      "text/plain": [
       "<IPython.core.display.Video object>"
      ]
     },
     "execution_count": 14,
     "metadata": {},
     "output_type": "execute_result"
    }
   ],
   "source": [
    "success, output_file = run_mmmeld([\"--audio\", local_audio_short, \"--image\", local_image1, \"--output\", \"test1.mp4\"])\n",
    "print(f\"Test 1 {'passed' if success else 'failed'}\")\n",
    "display_output(output_file)"
   ]
  },
  {
   "cell_type": "markdown",
   "metadata": {},
   "source": [
    "## Test 2: Single Image without Main Audio\n",
    "\n",
    "Expected behavior: The image should be displayed for 5 seconds."
   ]
  },
  {
   "cell_type": "code",
   "execution_count": 4,
   "metadata": {},
   "outputs": [
    {
     "name": "stdout",
     "output_type": "stream",
     "text": [
      "FFmpeg command:\n",
      "ffmpeg -y -stream_loop -1 -i temp_assets\\temp_square.jpg.mp4 -filter_complex [0:v]fps=30,format=yuv420p,trim=duration=5.0,setpts=PTS-STARTPTS[v0];[v0]fade=t=out:st=4.5:d=0.5[final_video] -map [final_video] -c:v libx264 -preset medium -crf 23 -c:a aac -b:a 192k -t 5.0 test_output_test2.mp4\n",
      "Attempting to clean up 0 files:\n",
      "Cleanup completed. Temporary folder 'temp_assets' was not removed.\n",
      "Video created successfully at test_output_test2.mp4\n",
      "The length of the video is determined by the input images and videos.\n",
      "Cleaning up temporary files...\n",
      "Attempting to clean up 0 files:\n",
      "Cleanup completed. Temporary folder 'temp_assets' was not removed.\n",
      "\n",
      "ffmpeg version 2024-05-13-git-37db0454e4-full_build-www.gyan.dev Copyright (c) 2000-2024 the FFmpeg developers\n",
      "  built with gcc 13.2.0 (Rev5, Built by MSYS2 project)\n",
      "  configuration: --enable-gpl --enable-version3 --enable-static --disable-w32threads --disable-autodetect --enable-fontconfig --enable-iconv --enable-gnutls --enable-libxml2 --enable-gmp --enable-bzlib --enable-lzma --enable-libsnappy --enable-zlib --enable-librist --enable-libsrt --enable-libssh --enable-libzmq --enable-avisynth --enable-libbluray --enable-libcaca --enable-sdl2 --enable-libaribb24 --enable-libaribcaption --enable-libdav1d --enable-libdavs2 --enable-libuavs3d --enable-libxevd --enable-libzvbi --enable-librav1e --enable-libsvtav1 --enable-libwebp --enable-libx264 --enable-libx265 --enable-libxavs2 --enable-libxeve --enable-libxvid --enable-libaom --enable-libjxl --enable-libopenjpeg --enable-libvpx --enable-mediafoundation --enable-libass --enable-frei0r --enable-libfreetype --enable-libfribidi --enable-libharfbuzz --enable-liblensfun --enable-libvidstab --enable-libvmaf --enable-libzimg --enable-amf --enable-cuda-llvm --enable-cuvid --enable-dxva2 --enable-d3d11va --enable-d3d12va --enable-ffnvcodec --enable-libvpl --enable-nvdec --enable-nvenc --enable-vaapi --enable-libshaderc --enable-vulkan --enable-libplacebo --enable-opencl --enable-libcdio --enable-libgme --enable-libmodplug --enable-libopenmpt --enable-libopencore-amrwb --enable-libmp3lame --enable-libshine --enable-libtheora --enable-libtwolame --enable-libvo-amrwbenc --enable-libcodec2 --enable-libilbc --enable-libgsm --enable-libopencore-amrnb --enable-libopus --enable-libspeex --enable-libvorbis --enable-ladspa --enable-libbs2b --enable-libflite --enable-libmysofa --enable-librubberband --enable-libsoxr --enable-chromaprint\n",
      "  libavutil      59. 17.100 / 59. 17.100\n",
      "  libavcodec     61.  5.103 / 61.  5.103\n",
      "  libavformat    61.  3.103 / 61.  3.103\n",
      "  libavdevice    61.  2.100 / 61.  2.100\n",
      "  libavfilter    10.  2.101 / 10.  2.101\n",
      "  libswscale      8.  2.100 /  8.  2.100\n",
      "  libswresample   5.  2.100 /  5.  2.100\n",
      "  libpostproc    58.  2.100 / 58.  2.100\n",
      "Input #0, image2, from 'test_media/square.jpg':\n",
      "  Duration: 00:00:00.04, start: 0.000000, bitrate: 62450 kb/s\n",
      "  Stream #0:0: Video: mjpeg (Baseline), yuvj420p(pc, bt470bg/unknown/unknown), 1024x1024 [SAR 1:1 DAR 1:1], 25 fps, 25 tbr, 25 tbn\n",
      "Stream mapping:\n",
      "  Stream #0:0 -> #0:0 (mjpeg (native) -> h264 (libx264))\n",
      "Press [q] to stop, [?] for help\n",
      "[swscaler @ 0000020b94d52fc0] deprecated pixel format used, make sure you did set range correctly\n",
      "[swscaler @ 0000020b953a8040] deprecated pixel format used, make sure you did set range correctly\n",
      "[swscaler @ 0000020b9545a040] deprecated pixel format used, make sure you did set range correctly\n",
      "[swscaler @ 0000020b954fa040] deprecated pixel format used, make sure you did set range correctly\n",
      "[libx264 @ 0000020b9438cf00] using SAR=1/1\n",
      "[libx264 @ 0000020b9438cf00] using cpu capabilities: MMX2 SSE2Fast SSSE3 SSE4.2 AVX FMA3 BMI2 AVX2\n",
      "[libx264 @ 0000020b9438cf00] profile High, level 4.0, 4:2:0, 8-bit\n",
      "[libx264 @ 0000020b9438cf00] 264 - core 164 r3190 7ed753b - H.264/MPEG-4 AVC codec - Copyleft 2003-2024 - http://www.videolan.org/x264.html - options: cabac=1 ref=3 deblock=1:0:0 analyse=0x3:0x113 me=hex subme=7 psy=1 psy_rd=1.00:0.00 mixed_ref=1 me_range=16 chroma_me=1 trellis=1 8x8dct=1 cqm=0 deadzone=21,11 fast_pskip=1 chroma_qp_offset=-2 threads=30 lookahead_threads=5 sliced_threads=0 nr=0 decimate=1 interlaced=0 bluray_compat=0 constrained_intra=0 bframes=3 b_pyramid=2 b_adapt=1 b_bias=0 direct=1 weightb=1 open_gop=0 weightp=2 keyint=250 keyint_min=25 scenecut=40 intra_refresh=0 rc_lookahead=40 rc=crf mbtree=1 crf=23.0 qcomp=0.60 qpmin=0 qpmax=69 qpstep=4 ip_ratio=1.40 aq=1:1.00\n",
      "Output #0, mp4, to 'temp_assets\\temp_square.jpg.mp4':\n",
      "  Metadata:\n",
      "    encoder         : Lavf61.3.103\n",
      "  Stream #0:0: Video: h264 (avc1 / 0x31637661), yuv420p(progressive), 1920x1080 [SAR 1:1 DAR 16:9], q=2-31, 30 fps, 15360 tbn\n",
      "      Metadata:\n",
      "        encoder         : Lavc61.5.103 libx264\n",
      "      Side data:\n",
      "        cpb: bitrate max/min/avg: 0/0/0 buffer size: 0 vbv_delay: N/A\n",
      "frame=   44 fps=0.0 q=29.0 size=     256KiB time=00:00:01.40 bitrate=1498.2kbits/s dup=20 drop=0 speed= 2.7x    \n",
      "[out#0/mp4 @ 0000020b943e5e80] video:327KiB audio:0KiB subtitle:0KiB other streams:0KiB global headers:0KiB muxing overhead: 0.800320%\n",
      "frame=  150 fps=0.0 q=-1.0 Lsize=     329KiB time=00:00:04.93 bitrate= 547.0kbits/s dup=25 drop=0 speed= 6.6x    \n",
      "[libx264 @ 0000020b9438cf00] frame I:1     Avg QP:16.09  size:320318\n",
      "[libx264 @ 0000020b9438cf00] frame P:38    Avg QP:15.62  size:   151\n",
      "[libx264 @ 0000020b9438cf00] frame B:111   Avg QP:13.67  size:    71\n",
      "[libx264 @ 0000020b9438cf00] consecutive B-frames:  1.3%  0.0%  0.0% 98.7%\n",
      "[libx264 @ 0000020b9438cf00] mb I  I16..4: 36.8% 34.6% 28.6%\n",
      "[libx264 @ 0000020b9438cf00] mb P  I16..4:  0.0%  0.0%  0.0%  P16..4:  0.3%  0.0%  0.0%  0.0%  0.0%    skip:99.6%\n",
      "[libx264 @ 0000020b9438cf00] mb B  I16..4:  0.0%  0.0%  0.0%  B16..8:  0.0%  0.0%  0.0%  direct: 0.0%  skip:100.0%  L0:43.5% L1:56.5% BI: 0.0%\n",
      "[libx264 @ 0000020b9438cf00] 8x8 transform intra:34.6% inter:94.2%\n",
      "[libx264 @ 0000020b9438cf00] coded y,uvDC,uvAC intra: 41.6% 45.4% 44.7% inter: 0.0% 0.1% 0.0%\n",
      "[libx264 @ 0000020b9438cf00] i16 v,h,dc,p: 94%  1%  4%  0%\n",
      "[libx264 @ 0000020b9438cf00] i8 v,h,dc,ddl,ddr,vr,hd,vl,hu: 36% 11% 28%  4%  4%  3%  6%  3%  6%\n",
      "[libx264 @ 0000020b9438cf00] i4 v,h,dc,ddl,ddr,vr,hd,vl,hu: 12% 16% 12%  8% 11%  9% 12%  8% 11%\n",
      "[libx264 @ 0000020b9438cf00] i8c dc,h,v,p: 75% 11%  7%  6%\n",
      "[libx264 @ 0000020b9438cf00] Weighted P-Frames: Y:0.0% UV:0.0%\n",
      "[libx264 @ 0000020b9438cf00] ref P L0: 96.7%  1.4%  1.5%  0.4%\n",
      "[libx264 @ 0000020b9438cf00] ref B L0: 40.9% 59.1%\n",
      "[libx264 @ 0000020b9438cf00] kb/s:534.28\n",
      "ffmpeg version 2024-05-13-git-37db0454e4-full_build-www.gyan.dev Copyright (c) 2000-2024 the FFmpeg developers\n",
      "  built with gcc 13.2.0 (Rev5, Built by MSYS2 project)\n",
      "  configuration: --enable-gpl --enable-version3 --enable-static --disable-w32threads --disable-autodetect --enable-fontconfig --enable-iconv --enable-gnutls --enable-libxml2 --enable-gmp --enable-bzlib --enable-lzma --enable-libsnappy --enable-zlib --enable-librist --enable-libsrt --enable-libssh --enable-libzmq --enable-avisynth --enable-libbluray --enable-libcaca --enable-sdl2 --enable-libaribb24 --enable-libaribcaption --enable-libdav1d --enable-libdavs2 --enable-libuavs3d --enable-libxevd --enable-libzvbi --enable-librav1e --enable-libsvtav1 --enable-libwebp --enable-libx264 --enable-libx265 --enable-libxavs2 --enable-libxeve --enable-libxvid --enable-libaom --enable-libjxl --enable-libopenjpeg --enable-libvpx --enable-mediafoundation --enable-libass --enable-frei0r --enable-libfreetype --enable-libfribidi --enable-libharfbuzz --enable-liblensfun --enable-libvidstab --enable-libvmaf --enable-libzimg --enable-amf --enable-cuda-llvm --enable-cuvid --enable-dxva2 --enable-d3d11va --enable-d3d12va --enable-ffnvcodec --enable-libvpl --enable-nvdec --enable-nvenc --enable-vaapi --enable-libshaderc --enable-vulkan --enable-libplacebo --enable-opencl --enable-libcdio --enable-libgme --enable-libmodplug --enable-libopenmpt --enable-libopencore-amrwb --enable-libmp3lame --enable-libshine --enable-libtheora --enable-libtwolame --enable-libvo-amrwbenc --enable-libcodec2 --enable-libilbc --enable-libgsm --enable-libopencore-amrnb --enable-libopus --enable-libspeex --enable-libvorbis --enable-ladspa --enable-libbs2b --enable-libflite --enable-libmysofa --enable-librubberband --enable-libsoxr --enable-chromaprint\n",
      "  libavutil      59. 17.100 / 59. 17.100\n",
      "  libavcodec     61.  5.103 / 61.  5.103\n",
      "  libavformat    61.  3.103 / 61.  3.103\n",
      "  libavdevice    61.  2.100 / 61.  2.100\n",
      "  libavfilter    10.  2.101 / 10.  2.101\n",
      "  libswscale      8.  2.100 /  8.  2.100\n",
      "  libswresample   5.  2.100 /  5.  2.100\n",
      "  libpostproc    58.  2.100 / 58.  2.100\n",
      "Input #0, mov,mp4,m4a,3gp,3g2,mj2, from 'temp_assets\\temp_square.jpg.mp4':\n",
      "  Metadata:\n",
      "    major_brand     : isom\n",
      "    minor_version   : 512\n",
      "    compatible_brands: isomiso2avc1mp41\n",
      "    encoder         : Lavf61.3.103\n",
      "  Duration: 00:00:05.00, start: 0.000000, bitrate: 539 kb/s\n",
      "  Stream #0:0[0x1](und): Video: h264 (High) (avc1 / 0x31637661), yuv420p(progressive), 1920x1080 [SAR 1:1 DAR 16:9], 535 kb/s, 30 fps, 30 tbr, 15360 tbn (default)\n",
      "      Metadata:\n",
      "        handler_name    : VideoHandler\n",
      "        vendor_id       : [0][0][0][0]\n",
      "        encoder         : Lavc61.5.103 libx264\n",
      "[out#0/mp4 @ 0000025b8336c040] Codec AVOption b (set bitrate (in bits/s)) has not been used for any stream. The most likely reason is either wrong type (e.g. a video option with no video streams) or that it is a private option of some encoder which was not actually used for any stream.\n",
      "Stream mapping:\n",
      "  Stream #0:0 (h264) -> fps:default\n",
      "  fade:default -> Stream #0:0 (libx264)\n",
      "Press [q] to stop, [?] for help\n",
      "[fc#0 @ 0000025b8296bb00] [vo0->#0:0 @ 0000025b82964140] No information about the input framerate is available. Falling back to a default value of 25fps. Use the -r option if you want a different framerate.\n",
      "[libx264 @ 0000025b82a1e880] using SAR=1/1\n",
      "[libx264 @ 0000025b82a1e880] using cpu capabilities: MMX2 SSE2Fast SSSE3 SSE4.2 AVX FMA3 BMI2 AVX2\n",
      "[libx264 @ 0000025b82a1e880] profile High, level 4.0, 4:2:0, 8-bit\n",
      "[libx264 @ 0000025b82a1e880] 264 - core 164 r3190 7ed753b - H.264/MPEG-4 AVC codec - Copyleft 2003-2024 - http://www.videolan.org/x264.html - options: cabac=1 ref=3 deblock=1:0:0 analyse=0x3:0x113 me=hex subme=7 psy=1 psy_rd=1.00:0.00 mixed_ref=1 me_range=16 chroma_me=1 trellis=1 8x8dct=1 cqm=0 deadzone=21,11 fast_pskip=1 chroma_qp_offset=-2 threads=30 lookahead_threads=5 sliced_threads=0 nr=0 decimate=1 interlaced=0 bluray_compat=0 constrained_intra=0 bframes=3 b_pyramid=2 b_adapt=1 b_bias=0 direct=1 weightb=1 open_gop=0 weightp=2 keyint=250 keyint_min=25 scenecut=40 intra_refresh=0 rc_lookahead=40 rc=crf mbtree=1 crf=23.0 qcomp=0.60 qpmin=0 qpmax=69 qpstep=4 ip_ratio=1.40 aq=1:1.00\n",
      "Output #0, mp4, to 'test_output_test2.mp4':\n",
      "  Metadata:\n",
      "    major_brand     : isom\n",
      "    minor_version   : 512\n",
      "    compatible_brands: isomiso2avc1mp41\n",
      "    encoder         : Lavf61.3.103\n",
      "  Stream #0:0: Video: h264 (avc1 / 0x31637661), yuv420p(progressive), 1920x1080 [SAR 1:1 DAR 16:9], q=2-31, 25 fps, 12800 tbn\n",
      "      Metadata:\n",
      "        encoder         : Lavc61.5.103 libx264\n",
      "      Side data:\n",
      "        cpb: bitrate max/min/avg: 0/0/0 buffer size: 0 vbv_delay: N/A\n",
      "[out#0/mp4 @ 0000025b8336c040] video:339KiB audio:0KiB subtitle:0KiB other streams:0KiB global headers:0KiB muxing overhead: 0.682197%\n",
      "frame=  125 fps=0.0 q=-1.0 Lsize=     342KiB time=00:00:04.92 bitrate= 568.7kbits/s dup=0 drop=24 speed=9.97x    \n",
      "[libx264 @ 0000025b82a1e880] frame I:1     Avg QP:15.15  size:322697\n",
      "[libx264 @ 0000025b82a1e880] frame P:32    Avg QP:15.42  size:   163\n",
      "[libx264 @ 0000025b82a1e880] frame B:92    Avg QP:13.36  size:   205\n",
      "[libx264 @ 0000025b82a1e880] consecutive B-frames:  1.6%  0.0%  2.4% 96.0%\n",
      "[libx264 @ 0000025b82a1e880] mb I  I16..4: 41.0% 30.1% 28.8%\n",
      "[libx264 @ 0000025b82a1e880] mb P  I16..4:  0.2%  0.0%  0.0%  P16..4:  0.4%  0.0%  0.0%  0.0%  0.0%    skip:99.3%\n",
      "[libx264 @ 0000025b82a1e880] mb B  I16..4:  0.0%  0.0%  0.0%  B16..8:  0.2%  0.0%  0.0%  direct: 0.5%  skip:99.3%  L0:23.0% L1:60.8% BI:16.1%\n",
      "[libx264 @ 0000025b82a1e880] 8x8 transform intra:28.1% inter:53.4%\n",
      "[libx264 @ 0000025b82a1e880] coded y,uvDC,uvAC intra: 38.3% 42.1% 41.3% inter: 0.4% 0.2% 0.0%\n",
      "[libx264 @ 0000025b82a1e880] i16 v,h,dc,p: 95%  1%  3%  0%\n",
      "[libx264 @ 0000025b82a1e880] i8 v,h,dc,ddl,ddr,vr,hd,vl,hu: 34% 13% 24%  4%  4%  3%  7%  3%  7%\n",
      "[libx264 @ 0000025b82a1e880] i4 v,h,dc,ddl,ddr,vr,hd,vl,hu: 14% 16% 12%  8% 11%  9% 12%  8% 11%\n",
      "[libx264 @ 0000025b82a1e880] i8c dc,h,v,p: 77% 11%  7%  6%\n",
      "[libx264 @ 0000025b82a1e880] Weighted P-Frames: Y:12.5% UV:12.5%\n",
      "[libx264 @ 0000025b82a1e880] ref P L0: 69.8%  1.1% 27.3%  1.8%\n",
      "[libx264 @ 0000025b82a1e880] ref B L0: 60.0% 39.8%  0.2%\n",
      "[libx264 @ 0000025b82a1e880] ref B L1: 97.6%  2.4%\n",
      "[libx264 @ 0000025b82a1e880] kb/s:554.75\n",
      "\n",
      "Test 2 passed\n"
     ]
    },
    {
     "data": {
      "text/html": [
       "<video src=\"test_output_test2.mp4\" controls  >\n",
       "      Your browser does not support the <code>video</code> element.\n",
       "    </video>"
      ],
      "text/plain": [
       "<IPython.core.display.Video object>"
      ]
     },
     "execution_count": 4,
     "metadata": {},
     "output_type": "execute_result"
    }
   ],
   "source": [
    "success, output_file = run_mmmeld([\"--image\", local_image1, \"--output\", \"test2.mp4\"])\n",
    "print(f\"Test 2 {'passed' if success else 'failed'}\")\n",
    "display_output(output_file)"
   ]
  },
  {
   "cell_type": "markdown",
   "metadata": {},
   "source": [
    "## Test 3: Single Video with Main Audio (Video Shorter)\n",
    "\n",
    "Expected behavior: The video should loop to match the audio duration."
   ]
  },
  {
   "cell_type": "code",
   "execution_count": 5,
   "metadata": {},
   "outputs": [
    {
     "name": "stdout",
     "output_type": "stream",
     "text": [
      "get_audio_duration: file_path=test_media/5_minutes.mp3, output='299.546122'\n",
      "get_media_duration: file_path=test_media/15_seconds.mp4, output='15.000000'\n",
      "FFmpeg command:\n",
      "ffmpeg -y -stream_loop -1 -i test_media/15_seconds.mp4 -i test_media/5_minutes.mp3 -filter_complex [0:v]fps=30,format=yuv420p,trim=duration=302.046122,setpts=PTS-STARTPTS[v0];[v0]fade=t=out:st=300.046122:d=2.0[final_video];[1:a]adelay=500|500,apad=pad_dur=2.0[main_audio];[main_audio]acopy[final_audio] -map [final_video] -map [final_audio] -c:v libx264 -preset medium -crf 23 -c:a aac -b:a 192k -t 302.046122 test_output_test3.mp4\n",
      "Attempting to clean up 0 files:\n",
      "Cleanup completed. Temporary folder 'temp_assets' was not removed.\n",
      "Video created successfully at test_output_test3.mp4\n",
      "The length of the video is the main audio length plus 2.5 seconds.\n",
      "Cleaning up temporary files...\n",
      "Attempting to clean up 0 files:\n",
      "Cleanup completed. Temporary folder 'temp_assets' was not removed.\n",
      "\n",
      "ffmpeg version 2024-05-13-git-37db0454e4-full_build-www.gyan.dev Copyright (c) 2000-2024 the FFmpeg developers\n",
      "  built with gcc 13.2.0 (Rev5, Built by MSYS2 project)\n",
      "  configuration: --enable-gpl --enable-version3 --enable-static --disable-w32threads --disable-autodetect --enable-fontconfig --enable-iconv --enable-gnutls --enable-libxml2 --enable-gmp --enable-bzlib --enable-lzma --enable-libsnappy --enable-zlib --enable-librist --enable-libsrt --enable-libssh --enable-libzmq --enable-avisynth --enable-libbluray --enable-libcaca --enable-sdl2 --enable-libaribb24 --enable-libaribcaption --enable-libdav1d --enable-libdavs2 --enable-libuavs3d --enable-libxevd --enable-libzvbi --enable-librav1e --enable-libsvtav1 --enable-libwebp --enable-libx264 --enable-libx265 --enable-libxavs2 --enable-libxeve --enable-libxvid --enable-libaom --enable-libjxl --enable-libopenjpeg --enable-libvpx --enable-mediafoundation --enable-libass --enable-frei0r --enable-libfreetype --enable-libfribidi --enable-libharfbuzz --enable-liblensfun --enable-libvidstab --enable-libvmaf --enable-libzimg --enable-amf --enable-cuda-llvm --enable-cuvid --enable-dxva2 --enable-d3d11va --enable-d3d12va --enable-ffnvcodec --enable-libvpl --enable-nvdec --enable-nvenc --enable-vaapi --enable-libshaderc --enable-vulkan --enable-libplacebo --enable-opencl --enable-libcdio --enable-libgme --enable-libmodplug --enable-libopenmpt --enable-libopencore-amrwb --enable-libmp3lame --enable-libshine --enable-libtheora --enable-libtwolame --enable-libvo-amrwbenc --enable-libcodec2 --enable-libilbc --enable-libgsm --enable-libopencore-amrnb --enable-libopus --enable-libspeex --enable-libvorbis --enable-ladspa --enable-libbs2b --enable-libflite --enable-libmysofa --enable-librubberband --enable-libsoxr --enable-chromaprint\n",
      "  libavutil      59. 17.100 / 59. 17.100\n",
      "  libavcodec     61.  5.103 / 61.  5.103\n",
      "  libavformat    61.  3.103 / 61.  3.103\n",
      "  libavdevice    61.  2.100 / 61.  2.100\n",
      "  libavfilter    10.  2.101 / 10.  2.101\n",
      "  libswscale      8.  2.100 /  8.  2.100\n",
      "  libswresample   5.  2.100 /  5.  2.100\n",
      "  libpostproc    58.  2.100 / 58.  2.100\n",
      "Input #0, mov,mp4,m4a,3gp,3g2,mj2, from 'test_media/15_seconds.mp4':\n",
      "  Metadata:\n",
      "    major_brand     : mp42\n",
      "    minor_version   : 0\n",
      "    compatible_brands: mp42mp41\n",
      "    creation_time   : 2022-07-02T21:20:53.000000Z\n",
      "  Duration: 00:00:15.00, start: 0.000000, bitrate: 1653 kb/s\n",
      "  Stream #0:0[0x1](eng): Video: h264 (Main) (avc1 / 0x31637661), yuv420p(tv, bt709, progressive), 3840x2160, 1644 kb/s, 30 fps, 30 tbr, 30k tbn (default)\n",
      "      Metadata:\n",
      "        creation_time   : 2022-07-02T21:20:53.000000Z\n",
      "        handler_name    : ?Mainconcept Video Media Handler\n",
      "        vendor_id       : [0][0][0][0]\n",
      "        encoder         : AVC Coding\n",
      "Input #1, mp3, from 'test_media/5_minutes.mp3':\n",
      "  Metadata:\n",
      "    major_brand     : dash\n",
      "    minor_version   : 0\n",
      "    compatible_brands: iso6mp41\n",
      "    encoder         : Lavf58.29.100\n",
      "  Duration: 00:04:59.55, start: 0.025057, bitrate: 192 kb/s\n",
      "  Stream #1:0: Audio: mp3 (mp3float), 44100 Hz, stereo, fltp, 192 kb/s\n",
      "      Metadata:\n",
      "        encoder         : Lavc58.54\n",
      "Stream mapping:\n",
      "  Stream #0:0 (h264) -> fps:default\n",
      "  Stream #1:0 (mp3float) -> adelay:default\n",
      "  fade:default -> Stream #0:0 (libx264)\n",
      "  acopy:default -> Stream #0:1 (aac)\n",
      "Press [q] to stop, [?] for help\n",
      "[fc#0 @ 000001d2e7f3be00] [vo0->#0:0 @ 000001d2e7f3e900] No information about the input framerate is available. Falling back to a default value of 25fps. Use the -r option if you want a different framerate.\n",
      "[libx264 @ 000001d2e8a6d040] using cpu capabilities: MMX2 SSE2Fast SSSE3 SSE4.2 AVX FMA3 BMI2 AVX2\n",
      "[libx264 @ 000001d2e8a6d040] profile High, level 5.1, 4:2:0, 8-bit\n",
      "[libx264 @ 000001d2e8a6d040] 264 - core 164 r3190 7ed753b - H.264/MPEG-4 AVC codec - Copyleft 2003-2024 - http://www.videolan.org/x264.html - options: cabac=1 ref=3 deblock=1:0:0 analyse=0x3:0x113 me=hex subme=7 psy=1 psy_rd=1.00:0.00 mixed_ref=1 me_range=16 chroma_me=1 trellis=1 8x8dct=1 cqm=0 deadzone=21,11 fast_pskip=1 chroma_qp_offset=-2 threads=30 lookahead_threads=5 sliced_threads=0 nr=0 decimate=1 interlaced=0 bluray_compat=0 constrained_intra=0 bframes=3 b_pyramid=2 b_adapt=1 b_bias=0 direct=1 weightb=1 open_gop=0 weightp=2 keyint=250 keyint_min=25 scenecut=40 intra_refresh=0 rc_lookahead=40 rc=crf mbtree=1 crf=23.0 qcomp=0.60 qpmin=0 qpmax=69 qpstep=4 ip_ratio=1.40 aq=1:1.00\n",
      "Output #0, mp4, to 'test_output_test3.mp4':\n",
      "  Metadata:\n",
      "    major_brand     : mp42\n",
      "    minor_version   : 0\n",
      "    compatible_brands: mp42mp41\n",
      "    encoder         : Lavf61.3.103\n",
      "  Stream #0:0: Video: h264 (avc1 / 0x31637661), yuv420p(tv, bt709, progressive), 3840x2160, q=2-31, 25 fps, 12800 tbn\n",
      "      Metadata:\n",
      "        encoder         : Lavc61.5.103 libx264\n",
      "      Side data:\n",
      "        cpb: bitrate max/min/avg: 0/0/0 buffer size: 0 vbv_delay: N/A\n",
      "  Stream #0:1: Audio: aac (LC) (mp4a / 0x6134706D), 44100 Hz, stereo, fltp, 192 kb/s\n",
      "      Metadata:\n",
      "        encoder         : Lavc61.5.103 aac\n",
      "frame=    0 fps=0.0 q=0.0 size=       0KiB time=N/A bitrate=N/A dup=0 drop=10 speed=N/A    \n",
      "frame=   13 fps= 13 q=28.0 size=       0KiB time=00:00:00.44 bitrate=   0.9kbits/s dup=0 drop=18 speed=0.426x    \n",
      "frame=   61 fps= 39 q=28.0 size=       0KiB time=00:00:02.36 bitrate=   0.2kbits/s dup=0 drop=28 speed=1.52x    \n",
      "frame=  119 fps= 58 q=28.0 size=       0KiB time=00:00:04.68 bitrate=   0.1kbits/s dup=0 drop=39 speed=2.26x    \n",
      "frame=  173 fps= 67 q=28.0 size=     256KiB time=00:00:06.84 bitrate= 306.7kbits/s dup=0 drop=50 speed=2.65x    \n",
      "frame=  229 fps= 74 q=28.0 size=     256KiB time=00:00:09.08 bitrate= 231.0kbits/s dup=0 drop=61 speed=2.93x    \n",
      "frame=  278 fps= 77 q=28.0 size=     512KiB time=00:00:11.04 bitrate= 380.0kbits/s dup=0 drop=71 speed=3.05x    \n",
      "frame=  316 fps= 76 q=28.0 size=     512KiB time=00:00:12.56 bitrate= 334.0kbits/s dup=0 drop=79 speed=3.04x    \n",
      "frame=  362 fps= 78 q=28.0 size=     512KiB time=00:00:14.40 bitrate= 291.3kbits/s dup=0 drop=88 speed= 3.1x    \n",
      "frame=  412 fps= 80 q=28.0 size=     768KiB time=00:00:16.40 bitrate= 383.6kbits/s dup=0 drop=98 speed=3.18x    \n",
      "frame=  459 fps= 81 q=28.0 size=     768KiB time=00:00:18.28 bitrate= 344.2kbits/s dup=0 drop=107 speed=3.22x    \n",
      "frame=  508 fps= 82 q=28.0 size=     768KiB time=00:00:20.24 bitrate= 310.9kbits/s dup=0 drop=117 speed=3.27x    \n",
      "frame=  563 fps= 84 q=28.0 size=    1024KiB time=00:00:22.44 bitrate= 373.8kbits/s dup=0 drop=128 speed=3.34x    \n",
      "frame=  610 fps= 84 q=28.0 size=    1024KiB time=00:00:24.32 bitrate= 344.9kbits/s dup=0 drop=138 speed=3.36x    \n",
      "frame=  667 fps= 86 q=28.0 size=    1024KiB time=00:00:26.60 bitrate= 315.4kbits/s dup=0 drop=149 speed=3.44x    \n",
      "frame=  718 fps= 87 q=28.0 size=    1280KiB time=00:00:28.64 bitrate= 366.1kbits/s dup=0 drop=159 speed=3.47x    \n",
      "frame=  779 fps= 89 q=28.0 size=    1280KiB time=00:00:31.08 bitrate= 337.4kbits/s dup=0 drop=171 speed=3.54x    \n",
      "frame=  839 fps= 90 q=28.0 size=    1536KiB time=00:00:33.48 bitrate= 375.8kbits/s dup=0 drop=184 speed= 3.6x    \n",
      "frame=  889 fps= 91 q=28.0 size=    1536KiB time=00:00:35.48 bitrate= 354.7kbits/s dup=0 drop=194 speed=3.62x    \n",
      "frame=  935 fps= 91 q=28.0 size=    1536KiB time=00:00:37.32 bitrate= 337.2kbits/s dup=0 drop=203 speed=3.62x    \n",
      "frame=  972 fps= 90 q=28.0 size=    1536KiB time=00:00:38.80 bitrate= 324.3kbits/s dup=0 drop=210 speed=3.58x    \n",
      "frame= 1006 fps= 89 q=28.0 size=    1792KiB time=00:00:40.16 bitrate= 365.5kbits/s dup=0 drop=217 speed=3.54x    \n",
      "frame= 1045 fps= 88 q=28.0 size=    1792KiB time=00:00:41.72 bitrate= 351.9kbits/s dup=0 drop=224 speed=3.51x    \n",
      "frame= 1085 fps= 88 q=28.0 size=    1792KiB time=00:00:43.32 bitrate= 338.9kbits/s dup=0 drop=232 speed= 3.5x    \n",
      "frame= 1130 fps= 88 q=28.0 size=    2048KiB time=00:00:45.12 bitrate= 371.8kbits/s dup=0 drop=242 speed=3.49x    \n",
      "frame= 1180 fps= 88 q=28.0 size=    2048KiB time=00:00:47.12 bitrate= 356.1kbits/s dup=0 drop=252 speed=3.51x    \n",
      "frame= 1228 fps= 88 q=28.0 size=    2048KiB time=00:00:49.04 bitrate= 342.1kbits/s dup=0 drop=261 speed=3.52x    \n",
      "frame= 1275 fps= 88 q=28.0 size=    2304KiB time=00:00:50.92 bitrate= 370.7kbits/s dup=0 drop=270 speed=3.52x    \n",
      "frame= 1322 fps= 88 q=28.0 size=    2304KiB time=00:00:52.80 bitrate= 357.5kbits/s dup=0 drop=280 speed=3.53x    \n",
      "frame= 1356 fps= 88 q=28.0 size=    2304KiB time=00:00:54.16 bitrate= 348.5kbits/s dup=0 drop=287 speed= 3.5x    \n",
      "frame= 1397 fps= 87 q=28.0 size=    2560KiB time=00:00:55.80 bitrate= 375.8kbits/s dup=0 drop=295 speed=3.49x    \n",
      "frame= 1436 fps= 87 q=28.0 size=    2560KiB time=00:00:57.36 bitrate= 365.6kbits/s dup=0 drop=303 speed=3.47x    \n",
      "frame= 1490 fps= 87 q=28.0 size=    2560KiB time=00:00:59.52 bitrate= 352.4kbits/s dup=0 drop=314 speed=3.49x    \n",
      "frame= 1547 fps= 88 q=28.0 size=    2816KiB time=00:01:01.80 bitrate= 373.3kbits/s dup=0 drop=325 speed=3.52x    \n",
      "frame= 1597 fps= 88 q=28.0 size=    2816KiB time=00:01:03.80 bitrate= 361.6kbits/s dup=0 drop=335 speed=3.53x    \n",
      "frame= 1645 fps= 89 q=28.0 size=    2816KiB time=00:01:05.72 bitrate= 351.0kbits/s dup=0 drop=344 speed=3.54x    \n",
      "frame= 1693 fps= 89 q=28.0 size=    3072KiB time=00:01:07.64 bitrate= 372.1kbits/s dup=0 drop=354 speed=3.54x    \n",
      "frame= 1731 fps= 88 q=28.0 size=    3072KiB time=00:01:09.16 bitrate= 363.9kbits/s dup=0 drop=362 speed=3.53x    \n",
      "frame= 1771 fps= 88 q=28.0 size=    3072KiB time=00:01:10.76 bitrate= 355.7kbits/s dup=0 drop=370 speed=3.52x    \n",
      "frame= 1811 fps= 88 q=28.0 size=    3328KiB time=00:01:12.36 bitrate= 376.8kbits/s dup=0 drop=378 speed=3.51x    \n",
      "frame= 1870 fps= 88 q=28.0 size=    3328KiB time=00:01:14.72 bitrate= 364.9kbits/s dup=0 drop=390 speed=3.53x    \n",
      "frame= 1932 fps= 89 q=28.0 size=    3584KiB time=00:01:17.20 bitrate= 380.3kbits/s dup=0 drop=402 speed=3.56x    \n",
      "frame= 1994 fps= 90 q=28.0 size=    3584KiB time=00:01:19.68 bitrate= 368.5kbits/s dup=0 drop=415 speed=3.59x    \n",
      "frame= 2056 fps= 91 q=28.0 size=    3584KiB time=00:01:22.16 bitrate= 357.4kbits/s dup=0 drop=427 speed=3.62x    \n",
      "frame= 2110 fps= 91 q=28.0 size=    3840KiB time=00:01:24.32 bitrate= 373.1kbits/s dup=0 drop=438 speed=3.63x    \n",
      "frame= 2159 fps= 91 q=28.0 size=    3840KiB time=00:01:26.28 bitrate= 364.6kbits/s dup=0 drop=448 speed=3.63x    \n",
      "frame= 2197 fps= 91 q=28.0 size=    3840KiB time=00:01:27.80 bitrate= 358.3kbits/s dup=0 drop=455 speed=3.62x    \n",
      "frame= 2243 fps= 90 q=28.0 size=    4096KiB time=00:01:29.64 bitrate= 374.3kbits/s dup=0 drop=464 speed=3.62x    \n",
      "frame= 2294 fps= 91 q=28.0 size=    4096KiB time=00:01:31.68 bitrate= 366.0kbits/s dup=0 drop=474 speed=3.62x    \n",
      "frame= 2342 fps= 91 q=28.0 size=    4096KiB time=00:01:33.60 bitrate= 358.5kbits/s dup=0 drop=483 speed=3.63x    \n",
      "frame= 2393 fps= 91 q=28.0 size=    4352KiB time=00:01:35.64 bitrate= 372.8kbits/s dup=0 drop=494 speed=3.63x    \n",
      "frame= 2439 fps= 91 q=28.0 size=    4352KiB time=00:01:37.48 bitrate= 365.7kbits/s dup=0 drop=503 speed=3.63x    \n",
      "frame= 2474 fps= 90 q=28.0 size=    4352KiB time=00:01:38.88 bitrate= 360.6kbits/s dup=0 drop=510 speed=3.61x    \n",
      "frame= 2509 fps= 90 q=28.0 size=    4608KiB time=00:01:40.28 bitrate= 376.4kbits/s dup=0 drop=518 speed= 3.6x    \n",
      "frame= 2547 fps= 90 q=28.0 size=    4608KiB time=00:01:41.80 bitrate= 370.8kbits/s dup=0 drop=525 speed=3.58x    \n",
      "frame= 2593 fps= 90 q=28.0 size=    4608KiB time=00:01:43.64 bitrate= 364.2kbits/s dup=0 drop=534 speed=3.58x    \n",
      "frame= 2655 fps= 90 q=28.0 size=    4864KiB time=00:01:46.12 bitrate= 375.5kbits/s dup=0 drop=547 speed=3.61x    \n",
      "frame= 2711 fps= 91 q=28.0 size=    4864KiB time=00:01:48.36 bitrate= 367.7kbits/s dup=0 drop=558 speed=3.62x    \n",
      "frame= 2764 fps= 91 q=28.0 size=    4864KiB time=00:01:50.48 bitrate= 360.7kbits/s dup=0 drop=569 speed=3.63x    \n",
      "frame= 2811 fps= 91 q=28.0 size=    5120KiB time=00:01:52.36 bitrate= 373.3kbits/s dup=0 drop=578 speed=3.63x    \n",
      "frame= 2847 fps= 90 q=28.0 size=    5120KiB time=00:01:53.80 bitrate= 368.6kbits/s dup=0 drop=585 speed=3.61x    \n",
      "frame= 2899 fps= 91 q=28.0 size=    5120KiB time=00:01:55.88 bitrate= 362.0kbits/s dup=0 drop=595 speed=3.62x    \n",
      "frame= 2956 fps= 91 q=28.0 size=    5376KiB time=00:01:58.16 bitrate= 372.7kbits/s dup=0 drop=607 speed=3.63x    \n",
      "frame= 3005 fps= 91 q=28.0 size=    5376KiB time=00:02:00.12 bitrate= 366.6kbits/s dup=0 drop=617 speed=3.64x    \n",
      "frame= 3057 fps= 91 q=28.0 size=    5632KiB time=00:02:02.20 bitrate= 377.6kbits/s dup=0 drop=627 speed=3.64x    \n",
      "frame= 3109 fps= 91 q=28.0 size=    5632KiB time=00:02:04.28 bitrate= 371.2kbits/s dup=0 drop=637 speed=3.65x    \n",
      "frame= 3159 fps= 91 q=28.0 size=    5632KiB time=00:02:06.28 bitrate= 365.4kbits/s dup=0 drop=648 speed=3.65x    \n",
      "frame= 3217 fps= 92 q=28.0 size=    5632KiB time=00:02:08.60 bitrate= 358.8kbits/s dup=0 drop=659 speed=3.66x    \n",
      "frame= 3266 fps= 92 q=28.0 size=    5888KiB time=00:02:10.56 bitrate= 369.4kbits/s dup=0 drop=669 speed=3.67x    \n",
      "frame= 3319 fps= 92 q=28.0 size=    5888KiB time=00:02:12.68 bitrate= 363.5kbits/s dup=0 drop=680 speed=3.67x    \n",
      "frame= 3374 fps= 92 q=28.0 size=    6144KiB time=00:02:14.88 bitrate= 373.2kbits/s dup=0 drop=691 speed=3.68x    \n",
      "frame= 3425 fps= 92 q=28.0 size=    6144KiB time=00:02:16.92 bitrate= 367.6kbits/s dup=0 drop=701 speed=3.68x    \n",
      "frame= 3474 fps= 92 q=28.0 size=    6400KiB time=00:02:18.88 bitrate= 377.5kbits/s dup=0 drop=710 speed=3.69x    \n",
      "frame= 3535 fps= 93 q=28.0 size=    6400KiB time=00:02:21.32 bitrate= 371.0kbits/s dup=0 drop=723 speed= 3.7x    \n",
      "frame= 3592 fps= 93 q=28.0 size=    6400KiB time=00:02:23.60 bitrate= 365.1kbits/s dup=0 drop=734 speed=3.71x    \n",
      "frame= 3629 fps= 93 q=28.0 size=    6656KiB time=00:02:25.08 bitrate= 375.8kbits/s dup=0 drop=741 speed= 3.7x    \n",
      "frame= 3670 fps= 92 q=28.0 size=    6656KiB time=00:02:26.72 bitrate= 371.6kbits/s dup=0 drop=749 speed=3.69x    \n",
      "frame= 3714 fps= 92 q=28.0 size=    6656KiB time=00:02:28.48 bitrate= 367.2kbits/s dup=0 drop=759 speed=3.69x    \n",
      "frame= 3759 fps= 92 q=28.0 size=    6912KiB time=00:02:30.28 bitrate= 376.8kbits/s dup=0 drop=768 speed=3.69x    \n",
      "frame= 3810 fps= 92 q=28.0 size=    6912KiB time=00:02:32.32 bitrate= 371.7kbits/s dup=0 drop=778 speed=3.69x    \n",
      "frame= 3859 fps= 92 q=28.0 size=    6912KiB time=00:02:34.28 bitrate= 367.0kbits/s dup=0 drop=788 speed=3.69x    \n",
      "frame= 3911 fps= 92 q=28.0 size=    7168KiB time=00:02:36.36 bitrate= 375.5kbits/s dup=0 drop=798 speed= 3.7x    \n",
      "frame= 3959 fps= 92 q=28.0 size=    7168KiB time=00:02:38.28 bitrate= 371.0kbits/s dup=0 drop=808 speed=3.69x    \n",
      "frame= 4012 fps= 93 q=28.0 size=    7168KiB time=00:02:40.40 bitrate= 366.1kbits/s dup=0 drop=818 speed= 3.7x    \n",
      "frame= 4061 fps= 93 q=28.0 size=    7424KiB time=00:02:42.36 bitrate= 374.6kbits/s dup=0 drop=828 speed= 3.7x    \n",
      "frame= 4102 fps= 92 q=28.0 size=    7424KiB time=00:02:44.00 bitrate= 370.8kbits/s dup=0 drop=836 speed=3.69x    \n",
      "frame= 4154 fps= 93 q=28.0 size=    7680KiB time=00:02:46.08 bitrate= 378.8kbits/s dup=0 drop=846 speed= 3.7x    \n",
      "frame= 4206 fps= 93 q=28.0 size=    7680KiB time=00:02:48.16 bitrate= 374.1kbits/s dup=0 drop=857 speed= 3.7x    \n",
      "frame= 4260 fps= 93 q=28.0 size=    7680KiB time=00:02:50.32 bitrate= 369.4kbits/s dup=0 drop=868 speed=3.71x    \n",
      "frame= 4321 fps= 93 q=28.0 size=    7680KiB time=00:02:52.76 bitrate= 364.2kbits/s dup=0 drop=880 speed=3.72x    \n",
      "frame= 4364 fps= 93 q=28.0 size=    7936KiB time=00:02:54.48 bitrate= 372.6kbits/s dup=0 drop=889 speed=3.71x    \n",
      "frame= 4404 fps= 93 q=28.0 size=    7936KiB time=00:02:56.08 bitrate= 369.2kbits/s dup=0 drop=897 speed=3.71x    \n",
      "frame= 4442 fps= 93 q=28.0 size=    7936KiB time=00:02:57.60 bitrate= 366.1kbits/s dup=0 drop=904 speed= 3.7x    \n",
      "frame= 4489 fps= 93 q=28.0 size=    8192KiB time=00:02:59.48 bitrate= 373.9kbits/s dup=0 drop=913 speed= 3.7x    \n",
      "frame= 4545 fps= 93 q=28.0 size=    8192KiB time=00:03:01.72 bitrate= 369.3kbits/s dup=0 drop=925 speed=3.71x    \n",
      "frame= 4611 fps= 93 q=28.0 size=    8448KiB time=00:03:04.36 bitrate= 375.4kbits/s dup=0 drop=938 speed=3.72x    \n",
      "frame= 4674 fps= 93 q=28.0 size=    8448KiB time=00:03:06.88 bitrate= 370.3kbits/s dup=0 drop=951 speed=3.73x    \n",
      "frame= 4728 fps= 93 q=28.0 size=    8448KiB time=00:03:09.04 bitrate= 366.1kbits/s dup=0 drop=961 speed=3.74x    \n",
      "frame= 4775 fps= 93 q=28.0 size=    8704KiB time=00:03:10.92 bitrate= 373.5kbits/s dup=0 drop=971 speed=3.74x    \n",
      "frame= 4812 fps= 93 q=28.0 size=    8704KiB time=00:03:12.40 bitrate= 370.6kbits/s dup=0 drop=978 speed=3.73x    \n",
      "frame= 4867 fps= 93 q=28.0 size=    8704KiB time=00:03:14.60 bitrate= 366.4kbits/s dup=0 drop=989 speed=3.73x    \n",
      "frame= 4930 fps= 94 q=28.0 size=    8960KiB time=00:03:17.12 bitrate= 372.4kbits/s dup=0 drop=1002 speed=3.74x    \n",
      "frame= 4984 fps= 94 q=28.0 size=    8960KiB time=00:03:19.28 bitrate= 368.3kbits/s dup=0 drop=1013 speed=3.75x    \n",
      "frame= 5034 fps= 94 q=28.0 size=    9216KiB time=00:03:21.28 bitrate= 375.1kbits/s dup=0 drop=1022 speed=3.75x    \n",
      "frame= 5082 fps= 94 q=28.0 size=    9216KiB time=00:03:23.20 bitrate= 371.5kbits/s dup=0 drop=1032 speed=3.75x    \n",
      "frame= 5118 fps= 94 q=28.0 size=    9216KiB time=00:03:24.64 bitrate= 368.9kbits/s dup=0 drop=1039 speed=3.74x    \n",
      "frame= 5170 fps= 94 q=28.0 size=    9472KiB time=00:03:26.72 bitrate= 375.4kbits/s dup=0 drop=1049 speed=3.74x    \n",
      "frame= 5226 fps= 94 q=28.0 size=    9472KiB time=00:03:28.96 bitrate= 371.3kbits/s dup=0 drop=1061 speed=3.75x    \n",
      "frame= 5281 fps= 94 q=28.0 size=    9728KiB time=00:03:31.16 bitrate= 377.4kbits/s dup=0 drop=1072 speed=3.75x    \n",
      "frame= 5333 fps= 94 q=28.0 size=    9728KiB time=00:03:33.24 bitrate= 373.7kbits/s dup=0 drop=1082 speed=3.76x    \n",
      "frame= 5386 fps= 94 q=28.0 size=    9728KiB time=00:03:35.36 bitrate= 370.0kbits/s dup=0 drop=1093 speed=3.76x    \n",
      "frame= 5435 fps= 94 q=28.0 size=    9728KiB time=00:03:37.32 bitrate= 366.7kbits/s dup=0 drop=1103 speed=3.76x    \n",
      "frame= 5472 fps= 94 q=28.0 size=    9984KiB time=00:03:38.80 bitrate= 373.8kbits/s dup=0 drop=1110 speed=3.75x    \n",
      "frame= 5513 fps= 94 q=28.0 size=    9984KiB time=00:03:40.44 bitrate= 371.0kbits/s dup=0 drop=1118 speed=3.75x    \n",
      "frame= 5569 fps= 94 q=28.0 size=    9984KiB time=00:03:42.68 bitrate= 367.3kbits/s dup=0 drop=1129 speed=3.75x    \n",
      "frame= 5630 fps= 94 q=28.0 size=   10240KiB time=00:03:45.12 bitrate= 372.6kbits/s dup=0 drop=1142 speed=3.76x    \n",
      "frame= 5693 fps= 94 q=28.0 size=   10496KiB time=00:03:47.64 bitrate= 377.7kbits/s dup=0 drop=1154 speed=3.77x    \n",
      "frame= 5750 fps= 94 q=28.0 size=   10496KiB time=00:03:49.92 bitrate= 374.0kbits/s dup=0 drop=1166 speed=3.78x    \n",
      "frame= 5797 fps= 94 q=28.0 size=   10496KiB time=00:03:51.80 bitrate= 370.9kbits/s dup=0 drop=1175 speed=3.77x    \n",
      "frame= 5841 fps= 94 q=28.0 size=   10496KiB time=00:03:53.56 bitrate= 368.1kbits/s dup=0 drop=1184 speed=3.77x    \n",
      "frame= 5872 fps= 94 q=28.0 size=   10496KiB time=00:03:54.80 bitrate= 366.2kbits/s dup=0 drop=1190 speed=3.76x    \n",
      "frame= 5912 fps= 94 q=28.0 size=   10752KiB time=00:03:56.40 bitrate= 372.6kbits/s dup=0 drop=1197 speed=3.75x    \n",
      "frame= 5948 fps= 94 q=28.0 size=   10752KiB time=00:03:57.84 bitrate= 370.3kbits/s dup=0 drop=1205 speed=3.75x    \n",
      "frame= 5997 fps= 94 q=28.0 size=   10752KiB time=00:03:59.80 bitrate= 367.3kbits/s dup=0 drop=1215 speed=3.75x    \n",
      "frame= 6060 fps= 94 q=28.0 size=   11008KiB time=00:04:02.32 bitrate= 372.1kbits/s dup=0 drop=1227 speed=3.76x    \n",
      "frame= 6126 fps= 94 q=28.0 size=   11264KiB time=00:04:04.96 bitrate= 376.7kbits/s dup=0 drop=1241 speed=3.77x    \n",
      "frame= 6187 fps= 94 q=28.0 size=   11264KiB time=00:04:07.40 bitrate= 373.0kbits/s dup=0 drop=1253 speed=3.77x    \n",
      "frame= 6234 fps= 94 q=28.0 size=   11264KiB time=00:04:09.28 bitrate= 370.2kbits/s dup=0 drop=1262 speed=3.77x    \n",
      "frame= 6275 fps= 94 q=28.0 size=   11520KiB time=00:04:10.92 bitrate= 376.1kbits/s dup=0 drop=1271 speed=3.77x    \n",
      "frame= 6317 fps= 94 q=28.0 size=   11520KiB time=00:04:12.60 bitrate= 373.6kbits/s dup=0 drop=1279 speed=3.77x    \n",
      "frame= 6372 fps= 94 q=28.0 size=   11520KiB time=00:04:14.80 bitrate= 370.4kbits/s dup=0 drop=1290 speed=3.77x    \n",
      "frame= 6428 fps= 94 q=28.0 size=   11776KiB time=00:04:17.04 bitrate= 375.3kbits/s dup=0 drop=1301 speed=3.77x    \n",
      "frame= 6478 fps= 94 q=28.0 size=   11776KiB time=00:04:19.04 bitrate= 372.4kbits/s dup=0 drop=1311 speed=3.77x    \n",
      "frame= 6528 fps= 94 q=28.0 size=   11776KiB time=00:04:21.04 bitrate= 369.6kbits/s dup=0 drop=1321 speed=3.77x    \n",
      "frame= 6576 fps= 94 q=28.0 size=   12032KiB time=00:04:22.96 bitrate= 374.8kbits/s dup=0 drop=1331 speed=3.77x    \n",
      "frame= 6614 fps= 94 q=28.0 size=   12032KiB time=00:04:24.48 bitrate= 372.7kbits/s dup=0 drop=1339 speed=3.77x    \n",
      "frame= 6658 fps= 94 q=28.0 size=   12032KiB time=00:04:26.24 bitrate= 370.2kbits/s dup=0 drop=1347 speed=3.77x    \n",
      "frame= 6699 fps= 94 q=28.0 size=   12288KiB time=00:04:27.88 bitrate= 375.8kbits/s dup=0 drop=1356 speed=3.76x    \n",
      "frame= 6747 fps= 94 q=28.0 size=   12288KiB time=00:04:29.80 bitrate= 373.1kbits/s dup=0 drop=1365 speed=3.76x    \n",
      "frame= 6799 fps= 94 q=28.0 size=   12288KiB time=00:04:31.88 bitrate= 370.3kbits/s dup=0 drop=1375 speed=3.76x    \n",
      "frame= 6852 fps= 94 q=28.0 size=   12544KiB time=00:04:34.00 bitrate= 375.0kbits/s dup=0 drop=1386 speed=3.77x    \n",
      "frame= 6909 fps= 94 q=28.0 size=   12544KiB time=00:04:36.28 bitrate= 371.9kbits/s dup=0 drop=1397 speed=3.77x    \n",
      "frame= 6972 fps= 94 q=28.0 size=   12544KiB time=00:04:38.80 bitrate= 368.6kbits/s dup=0 drop=1410 speed=3.78x    \n",
      "frame= 7024 fps= 95 q=28.0 size=   12800KiB time=00:04:40.88 bitrate= 373.3kbits/s dup=0 drop=1420 speed=3.78x    \n",
      "frame= 7076 fps= 95 q=28.0 size=   12800KiB time=00:04:42.96 bitrate= 370.6kbits/s dup=0 drop=1431 speed=3.78x    \n",
      "frame= 7124 fps= 95 q=28.0 size=   13056KiB time=00:04:44.88 bitrate= 375.4kbits/s dup=0 drop=1440 speed=3.78x    \n",
      "frame= 7177 fps= 95 q=28.0 size=   13056KiB time=00:04:47.00 bitrate= 372.7kbits/s dup=0 drop=1451 speed=3.78x    \n",
      "frame= 7225 fps= 95 q=28.0 size=   13056KiB time=00:04:48.92 bitrate= 370.2kbits/s dup=0 drop=1461 speed=3.78x    \n",
      "frame= 7278 fps= 95 q=28.0 size=   13312KiB time=00:04:51.04 bitrate= 374.7kbits/s dup=0 drop=1471 speed=3.79x    \n",
      "frame= 7323 fps= 95 q=28.0 size=   13312KiB time=00:04:52.84 bitrate= 372.4kbits/s dup=0 drop=1480 speed=3.78x    \n",
      "frame= 7360 fps= 94 q=28.0 size=   13312KiB time=00:04:54.32 bitrate= 370.5kbits/s dup=0 drop=1487 speed=3.78x    \n",
      "frame= 7413 fps= 95 q=28.0 size=   13568KiB time=00:04:56.44 bitrate= 374.9kbits/s dup=0 drop=1498 speed=3.78x    \n",
      "frame= 7452 fps= 94 q=28.0 size=   13568KiB time=00:04:58.00 bitrate= 373.0kbits/s dup=0 drop=1506 speed=3.77x    \n",
      "frame= 7481 fps= 94 q=28.0 size=   13568KiB time=N/A bitrate=N/A dup=0 drop=1509 speed=N/A    \n",
      "frame= 7513 fps= 94 q=28.0 size=   13824KiB time=N/A bitrate=N/A dup=0 drop=1509 speed=N/A    \n",
      "frame= 7549 fps= 94 q=-1.0 size=   14080KiB time=N/A bitrate=N/A dup=0 drop=1509 speed=N/A    \n",
      "[out#0/mp4 @ 000001d2e7fdb680] video:7167KiB audio:7042KiB subtitle:0KiB other streams:0KiB global headers:0KiB muxing overhead: 1.750592%\n",
      "frame= 7552 fps= 94 q=-1.0 Lsize=   14458KiB time=00:05:02.00 bitrate= 392.2kbits/s dup=0 drop=1509 speed=3.75x    \n",
      "[libx264 @ 000001d2e8a6d040] frame I:41    Avg QP: 8.78  size: 81794\n",
      "[libx264 @ 000001d2e8a6d040] frame P:1900  Avg QP:17.34  size:   907\n",
      "[libx264 @ 000001d2e8a6d040] frame B:5611  Avg QP:19.39  size:   403\n",
      "[libx264 @ 000001d2e8a6d040] consecutive B-frames:  0.8%  0.2%  0.2% 98.7%\n",
      "[libx264 @ 000001d2e8a6d040] mb I  I16..4: 68.8% 26.8%  4.4%\n",
      "[libx264 @ 000001d2e8a6d040] mb P  I16..4:  0.0%  0.0%  0.0%  P16..4:  0.1%  0.0%  0.0%  0.0%  0.0%    skip:99.8%\n",
      "[libx264 @ 000001d2e8a6d040] mb B  I16..4:  0.3%  0.0%  0.0%  B16..8:  0.2%  0.0%  0.0%  direct: 0.1%  skip:99.4%  L0:58.4% L1:41.0% BI: 0.6%\n",
      "[libx264 @ 000001d2e8a6d040] 8x8 transform intra:21.9% inter:36.1%\n",
      "[libx264 @ 000001d2e8a6d040] coded y,uvDC,uvAC intra: 2.1% 4.4% 4.0% inter: 0.0% 0.1% 0.0%\n",
      "[libx264 @ 000001d2e8a6d040] i16 v,h,dc,p: 98%  1%  1%  0%\n",
      "[libx264 @ 000001d2e8a6d040] i8 v,h,dc,ddl,ddr,vr,hd,vl,hu: 33% 18% 49%  0%  0%  0%  0%  0%  0%\n",
      "[libx264 @ 000001d2e8a6d040] i4 v,h,dc,ddl,ddr,vr,hd,vl,hu: 36% 17% 27%  5%  4%  3%  3%  3%  3%\n",
      "[libx264 @ 000001d2e8a6d040] i8c dc,h,v,p: 95%  2%  2%  0%\n",
      "[libx264 @ 000001d2e8a6d040] Weighted P-Frames: Y:1.0% UV:0.9%\n",
      "[libx264 @ 000001d2e8a6d040] ref P L0: 83.4%  4.1%  9.6%  3.0%  0.0%\n",
      "[libx264 @ 000001d2e8a6d040] ref B L0: 64.5% 34.7%  0.8%\n",
      "[libx264 @ 000001d2e8a6d040] ref B L1: 98.4%  1.6%\n",
      "[libx264 @ 000001d2e8a6d040] kb/s:194.35\n",
      "[aac @ 000001d2e7fed940] Qavg: 1532.204\n",
      "\n",
      "Test 3 passed\n"
     ]
    },
    {
     "data": {
      "text/html": [
       "<video src=\"test_output_test3.mp4\" controls  >\n",
       "      Your browser does not support the <code>video</code> element.\n",
       "    </video>"
      ],
      "text/plain": [
       "<IPython.core.display.Video object>"
      ]
     },
     "execution_count": 5,
     "metadata": {},
     "output_type": "execute_result"
    }
   ],
   "source": [
    "success, output_file = run_mmmeld([\"--audio\", local_audio_long, \"--image\", local_video_short, \"--output\", \"test3.mp4\"])\n",
    "print(f\"Test 3 {'passed' if success else 'failed'}\")\n",
    "display_output(output_file)"
   ]
  },
  {
   "cell_type": "markdown",
   "metadata": {},
   "source": [
    "## Test 4: Single Video with Main Audio (Video Longer)\n",
    "\n",
    "Expected behavior: The video should be cut to match the audio duration."
   ]
  },
  {
   "cell_type": "code",
   "execution_count": 15,
   "metadata": {},
   "outputs": [
    {
     "name": "stdout",
     "output_type": "stream",
     "text": [
      "get_audio_duration: file_path=test_media/10_seconds.wav, output='10.000340'\n",
      "get_media_duration: file_path=test_media/3_minutes.webm, output='180.208000'\n",
      "FFmpeg command:\n",
      "ffmpeg -y -stream_loop -1 -i test_media/3_minutes.webm -i test_media/10_seconds.wav -filter_complex [0:v]fps=30,format=yuv420p,trim=duration=12.50034,setpts=PTS-STARTPTS[v0];[v0]fade=t=out:st=10.50034:d=2.0[final_video];[1:a]adelay=500|500,apad=pad_dur=2.0[main_audio];[main_audio]acopy[final_audio] -map [final_video] -map [final_audio] -c:v libx264 -preset medium -crf 23 -c:a aac -b:a 192k -t 12.50034 test_output_test4.mp4\n",
      "Attempting to clean up 0 files:\n",
      "Cleanup completed. Temporary folder 'temp_assets' was not removed.\n",
      "Video created successfully at test_output_test4.mp4\n",
      "The length of the video is the main audio length plus 2.5 seconds.\n",
      "Cleaning up temporary files...\n",
      "Attempting to clean up 0 files:\n",
      "Cleanup completed. Temporary folder 'temp_assets' was not removed.\n",
      "\n",
      "ffmpeg version 2024-05-13-git-37db0454e4-full_build-www.gyan.dev Copyright (c) 2000-2024 the FFmpeg developers\n",
      "  built with gcc 13.2.0 (Rev5, Built by MSYS2 project)\n",
      "  configuration: --enable-gpl --enable-version3 --enable-static --disable-w32threads --disable-autodetect --enable-fontconfig --enable-iconv --enable-gnutls --enable-libxml2 --enable-gmp --enable-bzlib --enable-lzma --enable-libsnappy --enable-zlib --enable-librist --enable-libsrt --enable-libssh --enable-libzmq --enable-avisynth --enable-libbluray --enable-libcaca --enable-sdl2 --enable-libaribb24 --enable-libaribcaption --enable-libdav1d --enable-libdavs2 --enable-libuavs3d --enable-libxevd --enable-libzvbi --enable-librav1e --enable-libsvtav1 --enable-libwebp --enable-libx264 --enable-libx265 --enable-libxavs2 --enable-libxeve --enable-libxvid --enable-libaom --enable-libjxl --enable-libopenjpeg --enable-libvpx --enable-mediafoundation --enable-libass --enable-frei0r --enable-libfreetype --enable-libfribidi --enable-libharfbuzz --enable-liblensfun --enable-libvidstab --enable-libvmaf --enable-libzimg --enable-amf --enable-cuda-llvm --enable-cuvid --enable-dxva2 --enable-d3d11va --enable-d3d12va --enable-ffnvcodec --enable-libvpl --enable-nvdec --enable-nvenc --enable-vaapi --enable-libshaderc --enable-vulkan --enable-libplacebo --enable-opencl --enable-libcdio --enable-libgme --enable-libmodplug --enable-libopenmpt --enable-libopencore-amrwb --enable-libmp3lame --enable-libshine --enable-libtheora --enable-libtwolame --enable-libvo-amrwbenc --enable-libcodec2 --enable-libilbc --enable-libgsm --enable-libopencore-amrnb --enable-libopus --enable-libspeex --enable-libvorbis --enable-ladspa --enable-libbs2b --enable-libflite --enable-libmysofa --enable-librubberband --enable-libsoxr --enable-chromaprint\n",
      "  libavutil      59. 17.100 / 59. 17.100\n",
      "  libavcodec     61.  5.103 / 61.  5.103\n",
      "  libavformat    61.  3.103 / 61.  3.103\n",
      "  libavdevice    61.  2.100 / 61.  2.100\n",
      "  libavfilter    10.  2.101 / 10.  2.101\n",
      "  libswscale      8.  2.100 /  8.  2.100\n",
      "  libswresample   5.  2.100 /  5.  2.100\n",
      "  libpostproc    58.  2.100 / 58.  2.100\n",
      "Input #0, matroska,webm, from 'test_media/3_minutes.webm':\n",
      "  Metadata:\n",
      "    encoder         : google/video-file\n",
      "  Duration: 00:03:00.21, start: 0.000000, bitrate: 110 kb/s\n",
      "  Stream #0:0(eng): Video: vp9 (Profile 0), yuv420p(tv, bt709), 1280x720, SAR 1:1 DAR 16:9, 24 fps, 24 tbr, 1k tbn (default)\n",
      "[aist#1:0/pcm_s16le @ 0000022517333480] Guessed Channel Layout: stereo\n",
      "Input #1, wav, from 'test_media/10_seconds.wav':\n",
      "  Duration: 00:00:10.00, bitrate: 1411 kb/s\n",
      "  Stream #1:0: Audio: pcm_s16le ([1][0][0][0] / 0x0001), 44100 Hz, stereo, s16, 1411 kb/s\n",
      "Stream mapping:\n",
      "  Stream #0:0 (vp9) -> fps:default\n",
      "  Stream #1:0 (pcm_s16le) -> adelay:default\n",
      "  fade:default -> Stream #0:0 (libx264)\n",
      "  acopy:default -> Stream #0:1 (aac)\n",
      "Press [q] to stop, [?] for help\n",
      "[fc#0 @ 000002251732bdc0] [vo0->#0:0 @ 000002251732e780] No information about the input framerate is available. Falling back to a default value of 25fps. Use the -r option if you want a different framerate.\n",
      "[libx264 @ 000002251737a240] using SAR=1/1\n",
      "[libx264 @ 000002251737a240] using cpu capabilities: MMX2 SSE2Fast SSSE3 SSE4.2 AVX FMA3 BMI2 AVX2\n",
      "[libx264 @ 000002251737a240] profile High, level 3.1, 4:2:0, 8-bit\n",
      "[libx264 @ 000002251737a240] 264 - core 164 r3190 7ed753b - H.264/MPEG-4 AVC codec - Copyleft 2003-2024 - http://www.videolan.org/x264.html - options: cabac=1 ref=3 deblock=1:0:0 analyse=0x3:0x113 me=hex subme=7 psy=1 psy_rd=1.00:0.00 mixed_ref=1 me_range=16 chroma_me=1 trellis=1 8x8dct=1 cqm=0 deadzone=21,11 fast_pskip=1 chroma_qp_offset=-2 threads=22 lookahead_threads=3 sliced_threads=0 nr=0 decimate=1 interlaced=0 bluray_compat=0 constrained_intra=0 bframes=3 b_pyramid=2 b_adapt=1 b_bias=0 direct=1 weightb=1 open_gop=0 weightp=2 keyint=250 keyint_min=25 scenecut=40 intra_refresh=0 rc_lookahead=40 rc=crf mbtree=1 crf=23.0 qcomp=0.60 qpmin=0 qpmax=69 qpstep=4 ip_ratio=1.40 aq=1:1.00\n",
      "Output #0, mp4, to 'test_output_test4.mp4':\n",
      "  Metadata:\n",
      "    encoder         : Lavf61.3.103\n",
      "  Stream #0:0: Video: h264 (avc1 / 0x31637661), yuv420p(tv, bt709, progressive), 1280x720 [SAR 1:1 DAR 16:9], q=2-31, 25 fps, 12800 tbn\n",
      "      Metadata:\n",
      "        encoder         : Lavc61.5.103 libx264\n",
      "      Side data:\n",
      "        cpb: bitrate max/min/avg: 0/0/0 buffer size: 0 vbv_delay: N/A\n",
      "  Stream #0:1: Audio: aac (LC) (mp4a / 0x6134706D), 44100 Hz, stereo, fltp, 192 kb/s\n",
      "      Metadata:\n",
      "        encoder         : Lavc61.5.103 aac\n",
      "frame=  116 fps=0.0 q=28.0 size=     256KiB time=00:00:04.56 bitrate= 460.0kbits/s dup=0 drop=36 speed= 8.7x    \n",
      "[out#0/mp4 @ 00000225173cc180] video:533KiB audio:241KiB subtitle:0KiB other streams:0KiB global headers:0KiB muxing overhead: 1.492291%\n",
      "frame=  313 fps=0.0 q=-1.0 Lsize=     786KiB time=00:00:12.44 bitrate= 517.4kbits/s dup=0 drop=62 speed=13.3x    \n",
      "[libx264 @ 000002251737a240] frame I:2     Avg QP:15.85  size: 21106\n",
      "[libx264 @ 000002251737a240] frame P:96    Avg QP:18.95  size:  3271\n",
      "[libx264 @ 000002251737a240] frame B:215   Avg QP:23.82  size:   877\n",
      "[libx264 @ 000002251737a240] consecutive B-frames:  4.2%  9.6%  9.6% 76.7%\n",
      "[libx264 @ 000002251737a240] mb I  I16..4: 41.9% 35.0% 23.0%\n",
      "[libx264 @ 000002251737a240] mb P  I16..4:  9.1%  4.6%  0.5%  P16..4: 14.2%  2.3%  0.7%  0.0%  0.0%    skip:68.6%\n",
      "[libx264 @ 000002251737a240] mb B  I16..4:  1.3%  0.7%  0.0%  B16..8:  8.9%  0.4%  0.0%  direct: 1.9%  skip:86.7%  L0:43.0% L1:53.6% BI: 3.4%\n",
      "[libx264 @ 000002251737a240] 8x8 transform intra:33.4% inter:91.5%\n",
      "[libx264 @ 000002251737a240] coded y,uvDC,uvAC intra: 9.9% 21.8% 4.3% inter: 1.3% 3.8% 0.0%\n",
      "[libx264 @ 000002251737a240] i16 v,h,dc,p: 43% 39%  3% 15%\n",
      "[libx264 @ 000002251737a240] i8 v,h,dc,ddl,ddr,vr,hd,vl,hu: 28% 19% 44%  2%  2%  1%  1%  1%  1%\n",
      "[libx264 @ 000002251737a240] i4 v,h,dc,ddl,ddr,vr,hd,vl,hu: 39% 32% 17%  2%  3%  2%  2%  2%  1%\n",
      "[libx264 @ 000002251737a240] i8c dc,h,v,p: 51% 25% 23%  1%\n",
      "[libx264 @ 000002251737a240] Weighted P-Frames: Y:17.7% UV:17.7%\n",
      "[libx264 @ 000002251737a240] ref P L0: 79.6%  4.3% 12.2%  3.9%  0.0%\n",
      "[libx264 @ 000002251737a240] ref B L0: 80.0% 18.0%  2.0%\n",
      "[libx264 @ 000002251737a240] ref B L1: 97.0%  3.0%\n",
      "[libx264 @ 000002251737a240] kb/s:348.12\n",
      "[aac @ 000002251735dd00] Qavg: 13649.062\n",
      "\n",
      "Test 4 passed\n"
     ]
    },
    {
     "data": {
      "text/html": [
       "<video src=\"test_output_test4.mp4\" controls  >\n",
       "      Your browser does not support the <code>video</code> element.\n",
       "    </video>"
      ],
      "text/plain": [
       "<IPython.core.display.Video object>"
      ]
     },
     "execution_count": 15,
     "metadata": {},
     "output_type": "execute_result"
    }
   ],
   "source": [
    "success, output_file = run_mmmeld([\"--audio\", local_audio_short, \"--image\", local_video_long, \"--output\", \"test4.mp4\"])\n",
    "print(f\"Test 4 {'passed' if success else 'failed'}\")\n",
    "display_output(output_file)"
   ]
  },
  {
   "cell_type": "markdown",
   "metadata": {},
   "source": [
    "## Test 5: Single Video without Main Audio\n",
    "\n",
    "Expected behavior: The video should play once with its own audio."
   ]
  },
  {
   "cell_type": "code",
   "execution_count": 13,
   "metadata": {},
   "outputs": [
    {
     "name": "stdout",
     "output_type": "stream",
     "text": [
      "get_media_duration: file_path=test_media/15_seconds.mp4, output='15.000000'\n",
      "get_media_duration: file_path=test_media/15_seconds.mp4, output='15.000000'\n",
      "FFmpeg command:\n",
      "ffmpeg -y -stream_loop -1 -i test_media/15_seconds.mp4 -filter_complex [0:v]fps=30,format=yuv420p,trim=duration=15.0,setpts=PTS-STARTPTS[final_video] -map [final_video] -c:v libx264 -preset medium -crf 23 -c:a aac -b:a 192k -t 15.0 test_output_test5.mp4\n",
      "Attempting to clean up 0 files:\n",
      "Cleanup completed. Temporary folder 'temp_assets' was not removed.\n",
      "Video created successfully at test_output_test5.mp4\n",
      "The length of the video is determined by the input images and videos.\n",
      "Cleaning up temporary files...\n",
      "Attempting to clean up 0 files:\n",
      "Cleanup completed. Temporary folder 'temp_assets' was not removed.\n",
      "\n",
      "ffmpeg version 2024-05-13-git-37db0454e4-full_build-www.gyan.dev Copyright (c) 2000-2024 the FFmpeg developers\n",
      "  built with gcc 13.2.0 (Rev5, Built by MSYS2 project)\n",
      "  configuration: --enable-gpl --enable-version3 --enable-static --disable-w32threads --disable-autodetect --enable-fontconfig --enable-iconv --enable-gnutls --enable-libxml2 --enable-gmp --enable-bzlib --enable-lzma --enable-libsnappy --enable-zlib --enable-librist --enable-libsrt --enable-libssh --enable-libzmq --enable-avisynth --enable-libbluray --enable-libcaca --enable-sdl2 --enable-libaribb24 --enable-libaribcaption --enable-libdav1d --enable-libdavs2 --enable-libuavs3d --enable-libxevd --enable-libzvbi --enable-librav1e --enable-libsvtav1 --enable-libwebp --enable-libx264 --enable-libx265 --enable-libxavs2 --enable-libxeve --enable-libxvid --enable-libaom --enable-libjxl --enable-libopenjpeg --enable-libvpx --enable-mediafoundation --enable-libass --enable-frei0r --enable-libfreetype --enable-libfribidi --enable-libharfbuzz --enable-liblensfun --enable-libvidstab --enable-libvmaf --enable-libzimg --enable-amf --enable-cuda-llvm --enable-cuvid --enable-dxva2 --enable-d3d11va --enable-d3d12va --enable-ffnvcodec --enable-libvpl --enable-nvdec --enable-nvenc --enable-vaapi --enable-libshaderc --enable-vulkan --enable-libplacebo --enable-opencl --enable-libcdio --enable-libgme --enable-libmodplug --enable-libopenmpt --enable-libopencore-amrwb --enable-libmp3lame --enable-libshine --enable-libtheora --enable-libtwolame --enable-libvo-amrwbenc --enable-libcodec2 --enable-libilbc --enable-libgsm --enable-libopencore-amrnb --enable-libopus --enable-libspeex --enable-libvorbis --enable-ladspa --enable-libbs2b --enable-libflite --enable-libmysofa --enable-librubberband --enable-libsoxr --enable-chromaprint\n",
      "  libavutil      59. 17.100 / 59. 17.100\n",
      "  libavcodec     61.  5.103 / 61.  5.103\n",
      "  libavformat    61.  3.103 / 61.  3.103\n",
      "  libavdevice    61.  2.100 / 61.  2.100\n",
      "  libavfilter    10.  2.101 / 10.  2.101\n",
      "  libswscale      8.  2.100 /  8.  2.100\n",
      "  libswresample   5.  2.100 /  5.  2.100\n",
      "  libpostproc    58.  2.100 / 58.  2.100\n",
      "Input #0, mov,mp4,m4a,3gp,3g2,mj2, from 'test_media/15_seconds.mp4':\n",
      "  Metadata:\n",
      "    major_brand     : mp42\n",
      "    minor_version   : 0\n",
      "    compatible_brands: mp42mp41\n",
      "    creation_time   : 2022-07-02T21:20:53.000000Z\n",
      "  Duration: 00:00:15.00, start: 0.000000, bitrate: 1653 kb/s\n",
      "  Stream #0:0[0x1](eng): Video: h264 (Main) (avc1 / 0x31637661), yuv420p(tv, bt709, progressive), 3840x2160, 1644 kb/s, 30 fps, 30 tbr, 30k tbn (default)\n",
      "      Metadata:\n",
      "        creation_time   : 2022-07-02T21:20:53.000000Z\n",
      "        handler_name    : ?Mainconcept Video Media Handler\n",
      "        vendor_id       : [0][0][0][0]\n",
      "        encoder         : AVC Coding\n",
      "[out#0/mp4 @ 000001e80a586700] Codec AVOption b (set bitrate (in bits/s)) has not been used for any stream. The most likely reason is either wrong type (e.g. a video option with no video streams) or that it is a private option of some encoder which was not actually used for any stream.\n",
      "Stream mapping:\n",
      "  Stream #0:0 (h264) -> fps:default\n",
      "  setpts:default -> Stream #0:0 (libx264)\n",
      "Press [q] to stop, [?] for help\n",
      "[fc#0 @ 000001e80a57b980] [vo0->#0:0 @ 000001e80a574500] No information about the input framerate is available. Falling back to a default value of 25fps. Use the -r option if you want a different framerate.\n",
      "[libx264 @ 000001e80a584840] using cpu capabilities: MMX2 SSE2Fast SSSE3 SSE4.2 AVX FMA3 BMI2 AVX2\n",
      "[libx264 @ 000001e80a584840] profile High, level 5.1, 4:2:0, 8-bit\n",
      "[libx264 @ 000001e80a584840] 264 - core 164 r3190 7ed753b - H.264/MPEG-4 AVC codec - Copyleft 2003-2024 - http://www.videolan.org/x264.html - options: cabac=1 ref=3 deblock=1:0:0 analyse=0x3:0x113 me=hex subme=7 psy=1 psy_rd=1.00:0.00 mixed_ref=1 me_range=16 chroma_me=1 trellis=1 8x8dct=1 cqm=0 deadzone=21,11 fast_pskip=1 chroma_qp_offset=-2 threads=30 lookahead_threads=5 sliced_threads=0 nr=0 decimate=1 interlaced=0 bluray_compat=0 constrained_intra=0 bframes=3 b_pyramid=2 b_adapt=1 b_bias=0 direct=1 weightb=1 open_gop=0 weightp=2 keyint=250 keyint_min=25 scenecut=40 intra_refresh=0 rc_lookahead=40 rc=crf mbtree=1 crf=23.0 qcomp=0.60 qpmin=0 qpmax=69 qpstep=4 ip_ratio=1.40 aq=1:1.00\n",
      "Output #0, mp4, to 'test_output_test5.mp4':\n",
      "  Metadata:\n",
      "    major_brand     : mp42\n",
      "    minor_version   : 0\n",
      "    compatible_brands: mp42mp41\n",
      "    encoder         : Lavf61.3.103\n",
      "  Stream #0:0: Video: h264 (avc1 / 0x31637661), yuv420p(tv, bt709, progressive), 3840x2160, q=2-31, 25 fps, 12800 tbn\n",
      "      Metadata:\n",
      "        encoder         : Lavc61.5.103 libx264\n",
      "      Side data:\n",
      "        cpb: bitrate max/min/avg: 0/0/0 buffer size: 0 vbv_delay: N/A\n",
      "frame=    0 fps=0.0 q=0.0 size=       0KiB time=N/A bitrate=N/A dup=0 drop=10 speed=N/A    \n",
      "frame=   24 fps= 23 q=28.0 size=       0KiB time=00:00:00.88 bitrate=   0.4kbits/s dup=0 drop=21 speed=0.854x    \n",
      "frame=   85 fps= 55 q=28.0 size=       0KiB time=00:00:03.32 bitrate=   0.1kbits/s dup=0 drop=33 speed=2.15x    \n",
      "frame=  152 fps= 73 q=28.0 size=       0KiB time=00:00:06.00 bitrate=   0.1kbits/s dup=0 drop=46 speed=2.89x    \n",
      "frame=  214 fps= 83 q=28.0 size=       0KiB time=00:00:08.48 bitrate=   0.0kbits/s dup=0 drop=59 speed=3.28x    \n",
      "frame=  274 fps= 88 q=28.0 size=     256KiB time=00:00:10.88 bitrate= 192.8kbits/s dup=0 drop=71 speed=3.51x    \n",
      "[out#0/mp4 @ 000001e80a586700] video:328KiB audio:0KiB subtitle:0KiB other streams:0KiB global headers:0KiB muxing overhead: 1.602632%\n",
      "frame=  375 fps=106 q=-1.0 Lsize=     333KiB time=00:00:14.92 bitrate= 182.8kbits/s dup=0 drop=74 speed=4.23x    \n",
      "[libx264 @ 000001e80a584840] frame I:2     Avg QP:10.24  size: 74972\n",
      "[libx264 @ 000001e80a584840] frame P:94    Avg QP:16.25  size:   938\n",
      "[libx264 @ 000001e80a584840] frame B:279   Avg QP:18.45  size:   347\n",
      "[libx264 @ 000001e80a584840] consecutive B-frames:  0.5%  0.5%  0.8% 98.1%\n",
      "[libx264 @ 000001e80a584840] mb I  I16..4: 77.8% 17.8%  4.4%\n",
      "[libx264 @ 000001e80a584840] mb P  I16..4:  0.0%  0.0%  0.0%  P16..4:  0.0%  0.0%  0.0%  0.0%  0.0%    skip:99.8%\n",
      "[libx264 @ 000001e80a584840] mb B  I16..4:  0.0%  0.0%  0.0%  B16..8:  0.2%  0.0%  0.0%  direct: 0.0%  skip:99.8%  L0:60.2% L1:39.5% BI: 0.3%\n",
      "[libx264 @ 000001e80a584840] 8x8 transform intra:19.5% inter:24.0%\n",
      "[libx264 @ 000001e80a584840] coded y,uvDC,uvAC intra: 2.9% 6.1% 5.6% inter: 0.0% 0.0% 0.0%\n",
      "[libx264 @ 000001e80a584840] i16 v,h,dc,p: 97%  2%  1%  0%\n",
      "[libx264 @ 000001e80a584840] i8 v,h,dc,ddl,ddr,vr,hd,vl,hu: 46%  2% 52%  0%  0%  0%  0%  0%  0%\n",
      "[libx264 @ 000001e80a584840] i4 v,h,dc,ddl,ddr,vr,hd,vl,hu: 35% 17% 28%  5%  4%  3%  3%  3%  3%\n",
      "[libx264 @ 000001e80a584840] i8c dc,h,v,p: 94%  3%  3%  1%\n",
      "[libx264 @ 000001e80a584840] Weighted P-Frames: Y:0.0% UV:0.0%\n",
      "[libx264 @ 000001e80a584840] ref P L0: 80.3%  3.9% 12.5%  3.4%\n",
      "[libx264 @ 000001e80a584840] ref B L0: 59.0% 40.1%  1.0%\n",
      "[libx264 @ 000001e80a584840] ref B L1: 98.4%  1.6%\n",
      "[libx264 @ 000001e80a584840] kb/s:178.60\n",
      "\n",
      "Test 5 passed\n"
     ]
    },
    {
     "data": {
      "text/html": [
       "<video src=\"test_output_test5.mp4\" controls  >\n",
       "      Your browser does not support the <code>video</code> element.\n",
       "    </video>"
      ],
      "text/plain": [
       "<IPython.core.display.Video object>"
      ]
     },
     "execution_count": 13,
     "metadata": {},
     "output_type": "execute_result"
    }
   ],
   "source": [
    "success, output_file = run_mmmeld([\"--image\", local_video_short, \"--output\", \"test5.mp4\"])\n",
    "print(f\"Test 5 {'passed' if success else 'failed'}\")\n",
    "display_output(output_file)"
   ]
  },
  {
   "cell_type": "markdown",
   "metadata": {},
   "source": [
    "## Test 6: Multiple Videos with Main Audio (Total Video Time <= Audio Time)\n",
    "\n",
    "Expected behavior: Videos should play in sequence, then loop."
   ]
  },
  {
   "cell_type": "code",
   "execution_count": 16,
   "metadata": {},
   "outputs": [
    {
     "name": "stdout",
     "output_type": "stream",
     "text": [
      "get_audio_duration: file_path=test_media/5_minutes.mp3, output='299.546122'\n",
      "get_media_duration: file_path=test_media/15_seconds.mp4, output='15.000000'\n",
      "get_media_duration: file_path=test_media/15_seconds.mp4, output='15.000000'\n",
      "FFmpeg command:\n",
      "ffmpeg -y -stream_loop -1 -i test_media/15_seconds.mp4 -stream_loop -1 -i test_media/15_seconds.mp4 -i test_media/5_minutes.mp3 -filter_complex [0:v]fps=30,format=yuv420p,trim=duration=302.046122,setpts=PTS-STARTPTS[v0];[v0]fade=t=out:st=300.046122:d=2.0[final_video];[1:a]adelay=500|500,apad=pad_dur=2.0[main_audio];[main_audio]acopy[final_audio] -map [final_video] -map [final_audio] -c:v libx264 -preset medium -crf 23 -c:a aac -b:a 192k -t 302.046122 test_output_test6.mp4\n",
      "Error running ffmpeg command: Command '['ffmpeg', '-y', '-stream_loop', '-1', '-i', 'test_media/15_seconds.mp4', '-stream_loop', '-1', '-i', 'test_media/15_seconds.mp4', '-i', 'test_media/5_minutes.mp3', '-filter_complex', '[0:v]fps=30,format=yuv420p,trim=duration=302.046122,setpts=PTS-STARTPTS[v0];[v0]fade=t=out:st=300.046122:d=2.0[final_video];[1:a]adelay=500|500,apad=pad_dur=2.0[main_audio];[main_audio]acopy[final_audio]', '-map', '[final_video]', '-map', '[final_audio]', '-c:v', 'libx264', '-preset', 'medium', '-crf', '23', '-c:a', 'aac', '-b:a', '192k', '-t', '302.046122', 'test_output_test6.mp4']' returned non-zero exit status 4294967274.\n",
      "Attempting to clean up 0 files:\n",
      "Cleanup completed. Temporary folder 'temp_assets' was not removed.\n",
      "Video creation failed.\n",
      "\n",
      "ffmpeg version 2024-05-13-git-37db0454e4-full_build-www.gyan.dev Copyright (c) 2000-2024 the FFmpeg developers\n",
      "  built with gcc 13.2.0 (Rev5, Built by MSYS2 project)\n",
      "  configuration: --enable-gpl --enable-version3 --enable-static --disable-w32threads --disable-autodetect --enable-fontconfig --enable-iconv --enable-gnutls --enable-libxml2 --enable-gmp --enable-bzlib --enable-lzma --enable-libsnappy --enable-zlib --enable-librist --enable-libsrt --enable-libssh --enable-libzmq --enable-avisynth --enable-libbluray --enable-libcaca --enable-sdl2 --enable-libaribb24 --enable-libaribcaption --enable-libdav1d --enable-libdavs2 --enable-libuavs3d --enable-libxevd --enable-libzvbi --enable-librav1e --enable-libsvtav1 --enable-libwebp --enable-libx264 --enable-libx265 --enable-libxavs2 --enable-libxeve --enable-libxvid --enable-libaom --enable-libjxl --enable-libopenjpeg --enable-libvpx --enable-mediafoundation --enable-libass --enable-frei0r --enable-libfreetype --enable-libfribidi --enable-libharfbuzz --enable-liblensfun --enable-libvidstab --enable-libvmaf --enable-libzimg --enable-amf --enable-cuda-llvm --enable-cuvid --enable-dxva2 --enable-d3d11va --enable-d3d12va --enable-ffnvcodec --enable-libvpl --enable-nvdec --enable-nvenc --enable-vaapi --enable-libshaderc --enable-vulkan --enable-libplacebo --enable-opencl --enable-libcdio --enable-libgme --enable-libmodplug --enable-libopenmpt --enable-libopencore-amrwb --enable-libmp3lame --enable-libshine --enable-libtheora --enable-libtwolame --enable-libvo-amrwbenc --enable-libcodec2 --enable-libilbc --enable-libgsm --enable-libopencore-amrnb --enable-libopus --enable-libspeex --enable-libvorbis --enable-ladspa --enable-libbs2b --enable-libflite --enable-libmysofa --enable-librubberband --enable-libsoxr --enable-chromaprint\n",
      "  libavutil      59. 17.100 / 59. 17.100\n",
      "  libavcodec     61.  5.103 / 61.  5.103\n",
      "  libavformat    61.  3.103 / 61.  3.103\n",
      "  libavdevice    61.  2.100 / 61.  2.100\n",
      "  libavfilter    10.  2.101 / 10.  2.101\n",
      "  libswscale      8.  2.100 /  8.  2.100\n",
      "  libswresample   5.  2.100 /  5.  2.100\n",
      "  libpostproc    58.  2.100 / 58.  2.100\n",
      "Input #0, mov,mp4,m4a,3gp,3g2,mj2, from 'test_media/15_seconds.mp4':\n",
      "  Metadata:\n",
      "    major_brand     : mp42\n",
      "    minor_version   : 0\n",
      "    compatible_brands: mp42mp41\n",
      "    creation_time   : 2022-07-02T21:20:53.000000Z\n",
      "  Duration: 00:00:15.00, start: 0.000000, bitrate: 1653 kb/s\n",
      "  Stream #0:0[0x1](eng): Video: h264 (Main) (avc1 / 0x31637661), yuv420p(tv, bt709, progressive), 3840x2160, 1644 kb/s, 30 fps, 30 tbr, 30k tbn (default)\n",
      "      Metadata:\n",
      "        creation_time   : 2022-07-02T21:20:53.000000Z\n",
      "        handler_name    : ?Mainconcept Video Media Handler\n",
      "        vendor_id       : [0][0][0][0]\n",
      "        encoder         : AVC Coding\n",
      "Input #1, mov,mp4,m4a,3gp,3g2,mj2, from 'test_media/15_seconds.mp4':\n",
      "  Metadata:\n",
      "    major_brand     : mp42\n",
      "    minor_version   : 0\n",
      "    compatible_brands: mp42mp41\n",
      "    creation_time   : 2022-07-02T21:20:53.000000Z\n",
      "  Duration: 00:00:15.00, start: 0.000000, bitrate: 1653 kb/s\n",
      "  Stream #1:0[0x1](eng): Video: h264 (Main) (avc1 / 0x31637661), yuv420p(tv, bt709, progressive), 3840x2160, 1644 kb/s, 30 fps, 30 tbr, 30k tbn (default)\n",
      "      Metadata:\n",
      "        creation_time   : 2022-07-02T21:20:53.000000Z\n",
      "        handler_name    : ?Mainconcept Video Media Handler\n",
      "        vendor_id       : [0][0][0][0]\n",
      "        encoder         : AVC Coding\n",
      "Input #2, mp3, from 'test_media/5_minutes.mp3':\n",
      "  Metadata:\n",
      "    major_brand     : dash\n",
      "    minor_version   : 0\n",
      "    compatible_brands: iso6mp41\n",
      "    encoder         : Lavf58.29.100\n",
      "  Duration: 00:04:59.55, start: 0.025057, bitrate: 192 kb/s\n",
      "  Stream #2:0: Audio: mp3 (mp3float), 44100 Hz, stereo, fltp, 192 kb/s\n",
      "      Metadata:\n",
      "        encoder         : Lavc58.54\n",
      "[fc#0 @ 000001f808bdc5c0] Stream specifier ':a' in filtergraph description [0:v]fps=30,format=yuv420p,trim=duration=302.046122,setpts=PTS-STARTPTS[v0];[v0]fade=t=out:st=300.046122:d=2.0[final_video];[1:a]adelay=500|500,apad=pad_dur=2.0[main_audio];[main_audio]acopy[final_audio] matches no streams.\n",
      "Error binding filtergraph inputs/outputs: Invalid argument\n",
      "\n",
      "Test 6 failed\n"
     ]
    },
    {
     "data": {
      "text/html": [
       "<video src=\"test_output_test6.mp4\" controls  >\n",
       "      Your browser does not support the <code>video</code> element.\n",
       "    </video>"
      ],
      "text/plain": [
       "<IPython.core.display.Video object>"
      ]
     },
     "execution_count": 16,
     "metadata": {},
     "output_type": "execute_result"
    }
   ],
   "source": [
    "success, output_file = run_mmmeld([\"--audio\", local_audio_long, \"--image\", f\"{local_video_short},{local_video_short}\", \"--output\", \"test6.mp4\"])\n",
    "print(f\"Test 6 {'passed' if success else 'failed'}\")\n",
    "display_output(output_file)"
   ]
  },
  {
   "cell_type": "markdown",
   "metadata": {},
   "source": [
    "## Test 7: Multiple Videos with Main Audio (Total Video Time > Audio Time)\n",
    "\n",
    "Expected behavior: Videos should play in sequence, cut at audio end."
   ]
  },
  {
   "cell_type": "code",
   "execution_count": null,
   "metadata": {},
   "outputs": [],
   "source": [
    "success, output_file = run_mmmeld([\"--audio\", local_audio_short, \"--image\", f\"{local_video_short},{local_video_long}\", \"--output\", \"test7.mp4\"])\n",
    "print(f\"Test 7 {'passed' if success else 'failed'}\")\n",
    "display_output(output_file)"
   ]
  },
  {
   "cell_type": "markdown",
   "metadata": {},
   "source": [
    "## Test 8: Multiple Videos without Main Audio\n",
    "\n",
    "Expected behavior: Videos should play in sequence once."
   ]
  },
  {
   "cell_type": "code",
   "execution_count": null,
   "metadata": {},
   "outputs": [],
   "source": [
    "success, output_file = run_mmmeld([\"--image\", f\"{local_video_short},{local_video_long}\", \"--output\", \"test8.mp4\"])\n",
    "print(f\"Test 8 {'passed' if success else 'failed'}\")\n",
    "display_output(output_file)"
   ]
  },
  {
   "cell_type": "markdown",
   "metadata": {},
   "source": [
    "## Test 9: Videos + Images with Main Audio (Total Video Time < Audio Time)\n",
    "\n",
    "Expected behavior: Play videos once in sequence, distribute remaining time equally among images."
   ]
  },
  {
   "cell_type": "code",
   "execution_count": null,
   "metadata": {},
   "outputs": [],
   "source": [
    "success, output_file = run_mmmeld([\"--audio\", local_audio_long, \"--image\", f\"{local_video_short},{local_image1},{local_image2}\", \"--output\", \"test9.mp4\"])\n",
    "print(f\"Test 9 {'passed' if success else 'failed'}\")\n",
    "display_output(output_file)"
   ]
  },
  {
   "cell_type": "markdown",
   "metadata": {},
   "source": [
    "## Test 10: Videos + Images with Main Audio (Total Video Time >= Audio Time)\n",
    "\n",
    "Expected behavior: Distribute 5 seconds each to images, truncate sequence to fit audio."
   ]
  },
  {
   "cell_type": "code",
   "execution_count": null,
   "metadata": {},
   "outputs": [],
   "source": [
    "success, output_file = run_mmmeld([\"--audio\", local_audio_short, \"--image\", f\"{local_video_long},{local_image1},{local_image2}\", \"--output\", \"test10.mp4\"])\n",
    "print(f\"Test 10 {'passed' if success else 'failed'}\")\n",
    "display_output(output_file)"
   ]
  },
  {
   "cell_type": "markdown",
   "metadata": {},
   "source": [
    "## Test 11: Videos + Images without Main Audio\n",
    "\n",
    "Expected behavior: Play videos in sequence, show each image for 5 seconds."
   ]
  },
  {
   "cell_type": "code",
   "execution_count": null,
   "metadata": {},
   "outputs": [],
   "source": [
    "success, output_file = run_mmmeld([\"--image\", f\"{local_video_short},{local_image1},{local_video_long},{local_image2}\", \"--output\", \"test11.mp4\"])\n",
    "print(f\"Test 11 {'passed' if success else 'failed'}\")\n",
    "display_output(output_file)"
   ]
  },
  {
   "cell_type": "markdown",
   "metadata": {},
   "source": [
    "## Test 12: Image + Video with Main Audio (Video Shorter)\n",
    "\n",
    "Expected behavior: End of video anchored to end of audio, image shown first, filling remaining time."
   ]
  },
  {
   "cell_type": "code",
   "execution_count": null,
   "metadata": {},
   "outputs": [],
   "source": [
    "success, output_file = run_mmmeld([\"--audio\", local_audio_long, \"--image\", f\"{local_image1},{local_video_short}\", \"--output\", \"test12.mp4\"])\n",
    "print(f\"Test 12 {'passed' if success else 'failed'}\")\n",
    "display_output(output_file)"
   ]
  },
  {
   "cell_type": "markdown",
   "metadata": {},
   "source": [
    "## Test 13: Image + Video with Main Audio (Video Longer)\n",
    "\n",
    "Expected behavior: Minimum 5s for image, then video (cut off)."
   ]
  },
  {
   "cell_type": "code",
   "execution_count": null,
   "metadata": {},
   "outputs": [],
   "source": [
    "success, output_file = run_mmmeld([\"--audio\", local_audio_short, \"--image\", f\"{local_image1},{local_video_long}\", \"--output\", \"test13.mp4\"])\n",
    "print(f\"Test 13 {'passed' if success else 'failed'}\")\n",
    "display_output(output_file)"
   ]
  },
  {
   "cell_type": "markdown",
   "metadata": {},
   "source": [
    "## Test 14: Image + Video without Main Audio\n",
    "\n",
    "Expected behavior: Image shown for 5 seconds, then video plays in full."
   ]
  },
  {
   "cell_type": "code",
   "execution_count": null,
   "metadata": {},
   "outputs": [],
   "source": [
    "success, output_file = run_mmmeld([\"--image\", f\"{local_image1},{local_video_long}\", \"--output\", \"test14.mp4\"])\n",
    "print(f\"Test 14 {'passed' if success else 'failed'}\")\n",
    "display_output(output_file)"
   ]
  },
  {
   "cell_type": "markdown",
   "metadata": {},
   "source": [
    "## Test 15: Multiple Images with Main Audio\n",
    "\n",
    "Expected behavior: Equal time for each image, no looping."
   ]
  },
  {
   "cell_type": "code",
   "execution_count": null,
   "metadata": {},
   "outputs": [],
   "source": [
    "success, output_file = run_mmmeld([\"--audio\", local_audio_short, \"--image\", f\"{local_image1},{local_image2}\", \"--output\", \"test15.mp4\"])\n",
    "print(f\"Test 15 {'passed' if success else 'failed'}\")\n",
    "display_output(output_file)"
   ]
  },
  {
   "cell_type": "markdown",
   "metadata": {},
   "source": [
    "## Test 16: Multiple Images without Main Audio\n",
    "\n",
    "Expected behavior: 5 seconds for each image."
   ]
  },
  {
   "cell_type": "code",
   "execution_count": null,
   "metadata": {},
   "outputs": [],
   "source": [
    "success, output_file = run_mmmeld([\"--image\", f\"{local_image1},{local_image2}\", \"--output\", \"test16.mp4\"])\n",
    "print(f\"Test 16 {'passed' if success else 'failed'}\")\n",
    "display_output(output_file)"
   ]
  },
  {
   "cell_type": "markdown",
   "metadata": {},
   "source": [
    "## Test 17: YouTube Audio with Local Images\n",
    "\n",
    "Expected behavior: YouTube audio with images displayed for equal durations."
   ]
  },
  {
   "cell_type": "code",
   "execution_count": null,
   "metadata": {},
   "outputs": [],
   "source": [
    "success, output_file = run_mmmeld([\"--audio\", youtube_audio, \"--image\", f\"{local_image1},{local_image2}\", \"--output\", \"test17.mp4\"])\n",
    "print(f\"Test 17 {'passed' if success else 'failed'}\")\n",
    "display_output(output_file)"
   ]
  },
  {
   "cell_type": "markdown",
   "metadata": {},
   "source": [
    "## Test 18: Local Audio with YouTube Video\n",
    "\n",
    "Expected behavior: Local audio with YouTube video (cut or looped to match audio duration)."
   ]
  },
  {
   "cell_type": "code",
   "execution_count": null,
   "metadata": {},
   "outputs": [],
   "source": [
    "success, output_file = run_mmmeld([\"--audio\", local_audio_short, \"--image\", youtube_video, \"--output\", \"test18.mp4\"])\n",
    "print(f\"Test 18 {'passed' if success else 'failed'}\")\n",
    "display_output(output_file)"
   ]
  },
  {
   "cell_type": "markdown",
   "metadata": {},
   "source": [
    "## Test 19: Text-to-Speech with AI-Generated Image\n",
    "\n",
    "Expected behavior: Generated speech with AI-generated image for the full duration."
   ]
  },
  {
   "cell_type": "code",
   "execution_count": null,
   "metadata": {},
   "outputs": [],
   "source": [
    "success, output_file = run_mmmeld([\"--text\", tts_text, \"--image\", \"generate\", \"--output\", \"test19.mp4\"])\n",
    "print(f\"Test 19 {'passed' if success else 'failed'}\")\n",
    "display_output(output_file)"
   ]
  },
  {
   "cell_type": "markdown",
   "metadata": {},
   "source": [
    "## Test 20: Main Audio with Background Music\n",
    "\n",
    "Expected behavior: Main audio plays with background music looped and faded out at the end."
   ]
  },
  {
   "cell_type": "code",
   "execution_count": null,
   "metadata": {},
   "outputs": [],
   "source": [
    "success, output_file = run_mmmeld([\"--audio\", local_audio_short, \"--image\", local_image1, \"--bg-music\", bg_music, \"--output\", \"test20.mp4\"])\n",
    "print(f\"Test 20 {'passed' if success else 'failed'}\")\n",
    "display_output(output_file)"
   ]
  },
  {
   "cell_type": "markdown",
   "metadata": {},
   "source": [
    "## Test 21: Custom Audio Margins\n",
    "\n",
    "Expected behavior: 1-second lead-in and 3-second fade-out applied to the main audio."
   ]
  },
  {
   "cell_type": "code",
   "execution_count": null,
   "metadata": {},
   "outputs": [],
   "source": [
    "success, output_file = run_mmmeld([\"--audio\", local_audio_short, \"--image\", local_image1, \"--audiomargin\", \"1.0,3.0\", \"--output\", \"test21.mp4\"])\n",
    "print(f\"Test 21 {'passed' if success else 'failed'}\")\n",
    "display_output(output_file)"
   ]
  }
 ],
 "metadata": {
  "kernelspec": {
   "display_name": "Python 3",
   "language": "python",
   "name": "python3"
  },
  "language_info": {
   "codemirror_mode": {
    "name": "ipython",
    "version": 3
   },
   "file_extension": ".py",
   "mimetype": "text/x-python",
   "name": "python",
   "nbconvert_exporter": "python",
   "pygments_lexer": "ipython3",
   "version": "3.12.3"
  }
 },
 "nbformat": 4,
 "nbformat_minor": 4
}
