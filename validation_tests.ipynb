{
 "cells": [
  {
   "cell_type": "markdown",
   "metadata": {},
   "source": [
    "# mmmeld Validation Tests\n",
    "\n",
    "This notebook contains parameterized validation tests for mmmeld.py. We'll test various scenarios and rules using different combinations of media sources."
   ]
  },
  {
   "cell_type": "code",
   "execution_count": 6,
   "metadata": {},
   "outputs": [],
   "source": [
    "import subprocess\n",
    "import os\n",
    "from IPython.display import Video\n",
    "\n",
    "def run_mmmeld(params):\n",
    "    output_file = f\"test_output_{params[params.index('--output') + 1]}\"\n",
    "    cmd = [\"python\", \"mmmeld.py\", \"--autofill\", \"--cleanup\"] + params + [\"--output\", output_file]\n",
    "    result = subprocess.run(cmd, capture_output=True, text=True)\n",
    "    print(result.stdout)\n",
    "    print(result.stderr)\n",
    "    return result.returncode == 0, output_file\n",
    "\n",
    "def display_output(output_file):\n",
    "    if os.path.exists(output_file):\n",
    "        return Video(output_file)\n",
    "    else:\n",
    "        return f\"Output file {output_file} not found.\"\n",
    "\n",
    "# Define media sources\n",
    "local_audio_short = \"test_media/10_seconds.wav\"  # 10 seconds\n",
    "local_audio_long = \"test_media/5_minutes.mp3\"  # 5 minutes\n",
    "youtube_audio = \"https://www.youtube.com/watch?v=dQw4w9WgXcQ\"  # Rick Astley - Never Gonna Give You Up\n",
    "local_image1 = \"test_media/square.jpg\" # square\n",
    "local_image2 = \"16_9.png\" # 16:9\n",
    "local_video_short = \"test_media/15_seconds.mp4\"  # 15 seconds\n",
    "local_video_short2 = \"test_media/15_seconds2.mp4\"  # 15 seconds\n",
    "local_video_long = \"test_media/3_minutes.webm\"  # 3 minutes\n",
    "youtube_video = \"https://www.youtube.com/watch?v=9bZkp7q19f0\"  # PSY - GANGNAM STYLE\n",
    "bg_music = \"test_media/IndigoMirage.mp3\"\n",
    "\n",
    "# Text for text-to-speech generation\n",
    "tts_text = \"To be, or not to be, that is the question.\""
   ]
  },
  {
   "cell_type": "markdown",
   "metadata": {},
   "source": [
    "## Test 1: Single Image with Main Audio\n",
    "\n",
    "Expected behavior: The image should be displayed for the entire duration of the audio."
   ]
  },
  {
   "cell_type": "code",
   "execution_count": 17,
   "metadata": {},
   "outputs": [
    {
     "name": "stdout",
     "output_type": "stream",
     "text": [
      "get_audio_duration: file_path=test_media/10_seconds.wav, output='10.000340'\n",
      "An error occurred: cannot access local variable 'fade_duration' where it is not associated with a value\n",
      "\n",
      "ffmpeg version 2024-05-13-git-37db0454e4-full_build-www.gyan.dev Copyright (c) 2000-2024 the FFmpeg developers\n",
      "  built with gcc 13.2.0 (Rev5, Built by MSYS2 project)\n",
      "  configuration: --enable-gpl --enable-version3 --enable-static --disable-w32threads --disable-autodetect --enable-fontconfig --enable-iconv --enable-gnutls --enable-libxml2 --enable-gmp --enable-bzlib --enable-lzma --enable-libsnappy --enable-zlib --enable-librist --enable-libsrt --enable-libssh --enable-libzmq --enable-avisynth --enable-libbluray --enable-libcaca --enable-sdl2 --enable-libaribb24 --enable-libaribcaption --enable-libdav1d --enable-libdavs2 --enable-libuavs3d --enable-libxevd --enable-libzvbi --enable-librav1e --enable-libsvtav1 --enable-libwebp --enable-libx264 --enable-libx265 --enable-libxavs2 --enable-libxeve --enable-libxvid --enable-libaom --enable-libjxl --enable-libopenjpeg --enable-libvpx --enable-mediafoundation --enable-libass --enable-frei0r --enable-libfreetype --enable-libfribidi --enable-libharfbuzz --enable-liblensfun --enable-libvidstab --enable-libvmaf --enable-libzimg --enable-amf --enable-cuda-llvm --enable-cuvid --enable-dxva2 --enable-d3d11va --enable-d3d12va --enable-ffnvcodec --enable-libvpl --enable-nvdec --enable-nvenc --enable-vaapi --enable-libshaderc --enable-vulkan --enable-libplacebo --enable-opencl --enable-libcdio --enable-libgme --enable-libmodplug --enable-libopenmpt --enable-libopencore-amrwb --enable-libmp3lame --enable-libshine --enable-libtheora --enable-libtwolame --enable-libvo-amrwbenc --enable-libcodec2 --enable-libilbc --enable-libgsm --enable-libopencore-amrnb --enable-libopus --enable-libspeex --enable-libvorbis --enable-ladspa --enable-libbs2b --enable-libflite --enable-libmysofa --enable-librubberband --enable-libsoxr --enable-chromaprint\n",
      "  libavutil      59. 17.100 / 59. 17.100\n",
      "  libavcodec     61.  5.103 / 61.  5.103\n",
      "  libavformat    61.  3.103 / 61.  3.103\n",
      "  libavdevice    61.  2.100 / 61.  2.100\n",
      "  libavfilter    10.  2.101 / 10.  2.101\n",
      "  libswscale      8.  2.100 /  8.  2.100\n",
      "  libswresample   5.  2.100 /  5.  2.100\n",
      "  libpostproc    58.  2.100 / 58.  2.100\n",
      "Input #0, image2, from 'test_media/square.jpg':\n",
      "  Duration: 00:00:00.04, start: 0.000000, bitrate: 62450 kb/s\n",
      "  Stream #0:0: Video: mjpeg (Baseline), yuvj420p(pc, bt470bg/unknown/unknown), 1024x1024 [SAR 1:1 DAR 1:1], 25 fps, 25 tbr, 25 tbn\n",
      "Stream mapping:\n",
      "  Stream #0:0 -> #0:0 (mjpeg (native) -> h264 (libx264))\n",
      "Press [q] to stop, [?] for help\n",
      "[swscaler @ 000001a40afb3000] deprecated pixel format used, make sure you did set range correctly\n",
      "[swscaler @ 000001a40b435cc0] deprecated pixel format used, make sure you did set range correctly\n",
      "    Last message repeated 1 times\n",
      "[swscaler @ 000001a40b636040] deprecated pixel format used, make sure you did set range correctly\n",
      "[libx264 @ 000001a40a5ece40] using SAR=1/1\n",
      "[libx264 @ 000001a40a5ece40] using cpu capabilities: MMX2 SSE2Fast SSSE3 SSE4.2 AVX FMA3 BMI2 AVX2\n",
      "[libx264 @ 000001a40a5ece40] profile High, level 4.0, 4:2:0, 8-bit\n",
      "[libx264 @ 000001a40a5ece40] 264 - core 164 r3190 7ed753b - H.264/MPEG-4 AVC codec - Copyleft 2003-2024 - http://www.videolan.org/x264.html - options: cabac=1 ref=3 deblock=1:0:0 analyse=0x3:0x113 me=hex subme=7 psy=1 psy_rd=1.00:0.00 mixed_ref=1 me_range=16 chroma_me=1 trellis=1 8x8dct=1 cqm=0 deadzone=21,11 fast_pskip=1 chroma_qp_offset=-2 threads=30 lookahead_threads=5 sliced_threads=0 nr=0 decimate=1 interlaced=0 bluray_compat=0 constrained_intra=0 bframes=3 b_pyramid=2 b_adapt=1 b_bias=0 direct=1 weightb=1 open_gop=0 weightp=2 keyint=250 keyint_min=25 scenecut=40 intra_refresh=0 rc_lookahead=40 rc=crf mbtree=1 crf=23.0 qcomp=0.60 qpmin=0 qpmax=69 qpstep=4 ip_ratio=1.40 aq=1:1.00\n",
      "Output #0, mp4, to 'temp_assets\\temp_square.jpg.mp4':\n",
      "  Metadata:\n",
      "    encoder         : Lavf61.3.103\n",
      "  Stream #0:0: Video: h264 (avc1 / 0x31637661), yuv420p(progressive), 1920x1080 [SAR 1:1 DAR 16:9], q=2-31, 30 fps, 15360 tbn\n",
      "      Metadata:\n",
      "        encoder         : Lavc61.5.103 libx264\n",
      "      Side data:\n",
      "        cpb: bitrate max/min/avg: 0/0/0 buffer size: 0 vbv_delay: N/A\n",
      "frame=   47 fps=0.0 q=29.0 size=     256KiB time=00:00:01.50 bitrate=1398.4kbits/s dup=20 drop=0 speed=2.95x    \n",
      "[out#0/mp4 @ 000001a40a5b8f80] video:327KiB audio:0KiB subtitle:0KiB other streams:0KiB global headers:0KiB muxing overhead: 0.800320%\n",
      "frame=  150 fps=0.0 q=-1.0 Lsize=     329KiB time=00:00:04.93 bitrate= 547.0kbits/s dup=25 drop=0 speed=7.05x    \n",
      "[libx264 @ 000001a40a5ece40] frame I:1     Avg QP:16.09  size:320318\n",
      "[libx264 @ 000001a40a5ece40] frame P:38    Avg QP:15.62  size:   151\n",
      "[libx264 @ 000001a40a5ece40] frame B:111   Avg QP:13.67  size:    71\n",
      "[libx264 @ 000001a40a5ece40] consecutive B-frames:  1.3%  0.0%  0.0% 98.7%\n",
      "[libx264 @ 000001a40a5ece40] mb I  I16..4: 36.8% 34.6% 28.6%\n",
      "[libx264 @ 000001a40a5ece40] mb P  I16..4:  0.0%  0.0%  0.0%  P16..4:  0.3%  0.0%  0.0%  0.0%  0.0%    skip:99.6%\n",
      "[libx264 @ 000001a40a5ece40] mb B  I16..4:  0.0%  0.0%  0.0%  B16..8:  0.0%  0.0%  0.0%  direct: 0.0%  skip:100.0%  L0:43.5% L1:56.5% BI: 0.0%\n",
      "[libx264 @ 000001a40a5ece40] 8x8 transform intra:34.6% inter:94.2%\n",
      "[libx264 @ 000001a40a5ece40] coded y,uvDC,uvAC intra: 41.6% 45.4% 44.7% inter: 0.0% 0.1% 0.0%\n",
      "[libx264 @ 000001a40a5ece40] i16 v,h,dc,p: 94%  1%  4%  0%\n",
      "[libx264 @ 000001a40a5ece40] i8 v,h,dc,ddl,ddr,vr,hd,vl,hu: 36% 11% 28%  4%  4%  3%  6%  3%  6%\n",
      "[libx264 @ 000001a40a5ece40] i4 v,h,dc,ddl,ddr,vr,hd,vl,hu: 12% 16% 12%  8% 11%  9% 12%  8% 11%\n",
      "[libx264 @ 000001a40a5ece40] i8c dc,h,v,p: 75% 11%  7%  6%\n",
      "[libx264 @ 000001a40a5ece40] Weighted P-Frames: Y:0.0% UV:0.0%\n",
      "[libx264 @ 000001a40a5ece40] ref P L0: 96.7%  1.4%  1.5%  0.4%\n",
      "[libx264 @ 000001a40a5ece40] ref B L0: 40.9% 59.1%\n",
      "[libx264 @ 000001a40a5ece40] kb/s:534.28\n",
      "2024-07-05 22:12:33,281 - ERROR - An error occurred during video generation\n",
      "Traceback (most recent call last):\n",
      "  File \"c:\\dev\\per\\mmmeld\\mmmeld.py\", line 100, in main\n",
      "    if generate_video(image_inputs, audio_path, bg_music_path, output_path, bg_music_volume, start_margin, end_margin):\n",
      "       ^^^^^^^^^^^^^^^^^^^^^^^^^^^^^^^^^^^^^^^^^^^^^^^^^^^^^^^^^^^^^^^^^^^^^^^^^^^^^^^^^^^^^^^^^^^^^^^^^^^^^^^^^^^^^^^\n",
      "  File \"c:\\dev\\per\\mmmeld\\video_utils.py\", line 99, in generate_video\n",
      "    filter_complex.append(f\"[v0]fade=t=out:st={total_duration-fade_duration}:d={fade_duration}[final_video]\")\n",
      "                                                              ^^^^^^^^^^^^^\n",
      "UnboundLocalError: cannot access local variable 'fade_duration' where it is not associated with a value\n",
      "\n",
      "Test 1 failed\n"
     ]
    },
    {
     "data": {
      "text/html": [
       "<video src=\"test_output_test1.mp4\" controls  >\n",
       "      Your browser does not support the <code>video</code> element.\n",
       "    </video>"
      ],
      "text/plain": [
       "<IPython.core.display.Video object>"
      ]
     },
     "execution_count": 17,
     "metadata": {},
     "output_type": "execute_result"
    }
   ],
   "source": [
    "success, output_file = run_mmmeld([\"--audio\", local_audio_short, \"--image\", local_image1, \"--output\", \"test1.mp4\"])\n",
    "print(f\"Test 1 {'passed' if success else 'failed'}\")\n",
    "display_output(output_file)"
   ]
  },
  {
   "cell_type": "markdown",
   "metadata": {},
   "source": [
    "## Test 2: Single Image without Main Audio\n",
    "\n",
    "Expected behavior: The image should be displayed for 5 seconds."
   ]
  },
  {
   "cell_type": "code",
   "execution_count": 8,
   "metadata": {},
   "outputs": [
    {
     "name": "stdout",
     "output_type": "stream",
     "text": [
      "FFmpeg command:\n",
      "ffmpeg -y -stream_loop -1 -i temp_assets\\temp_square.jpg.mp4 -filter_complex [0:v]fps=30,format=yuv420p,trim=duration=5.0,setpts=PTS-STARTPTS[final_video] -map [final_video] -c:v libx264 -preset medium -crf 23 -c:a aac -b:a 192k -t 5.0 test_output_test2.mp4\n",
      "Attempting to clean up 0 files:\n",
      "Cleanup completed. Temporary folder 'temp_assets' was not removed.\n",
      "Video created successfully at test_output_test2.mp4\n",
      "The length of the video is determined by the input images and videos.\n",
      "Cleaning up temporary files...\n",
      "Attempting to clean up 0 files:\n",
      "Cleanup completed. Temporary folder 'temp_assets' was not removed.\n",
      "\n",
      "ffmpeg version 2024-05-13-git-37db0454e4-full_build-www.gyan.dev Copyright (c) 2000-2024 the FFmpeg developers\n",
      "  built with gcc 13.2.0 (Rev5, Built by MSYS2 project)\n",
      "  configuration: --enable-gpl --enable-version3 --enable-static --disable-w32threads --disable-autodetect --enable-fontconfig --enable-iconv --enable-gnutls --enable-libxml2 --enable-gmp --enable-bzlib --enable-lzma --enable-libsnappy --enable-zlib --enable-librist --enable-libsrt --enable-libssh --enable-libzmq --enable-avisynth --enable-libbluray --enable-libcaca --enable-sdl2 --enable-libaribb24 --enable-libaribcaption --enable-libdav1d --enable-libdavs2 --enable-libuavs3d --enable-libxevd --enable-libzvbi --enable-librav1e --enable-libsvtav1 --enable-libwebp --enable-libx264 --enable-libx265 --enable-libxavs2 --enable-libxeve --enable-libxvid --enable-libaom --enable-libjxl --enable-libopenjpeg --enable-libvpx --enable-mediafoundation --enable-libass --enable-frei0r --enable-libfreetype --enable-libfribidi --enable-libharfbuzz --enable-liblensfun --enable-libvidstab --enable-libvmaf --enable-libzimg --enable-amf --enable-cuda-llvm --enable-cuvid --enable-dxva2 --enable-d3d11va --enable-d3d12va --enable-ffnvcodec --enable-libvpl --enable-nvdec --enable-nvenc --enable-vaapi --enable-libshaderc --enable-vulkan --enable-libplacebo --enable-opencl --enable-libcdio --enable-libgme --enable-libmodplug --enable-libopenmpt --enable-libopencore-amrwb --enable-libmp3lame --enable-libshine --enable-libtheora --enable-libtwolame --enable-libvo-amrwbenc --enable-libcodec2 --enable-libilbc --enable-libgsm --enable-libopencore-amrnb --enable-libopus --enable-libspeex --enable-libvorbis --enable-ladspa --enable-libbs2b --enable-libflite --enable-libmysofa --enable-librubberband --enable-libsoxr --enable-chromaprint\n",
      "  libavutil      59. 17.100 / 59. 17.100\n",
      "  libavcodec     61.  5.103 / 61.  5.103\n",
      "  libavformat    61.  3.103 / 61.  3.103\n",
      "  libavdevice    61.  2.100 / 61.  2.100\n",
      "  libavfilter    10.  2.101 / 10.  2.101\n",
      "  libswscale      8.  2.100 /  8.  2.100\n",
      "  libswresample   5.  2.100 /  5.  2.100\n",
      "  libpostproc    58.  2.100 / 58.  2.100\n",
      "Input #0, image2, from 'test_media/square.jpg':\n",
      "  Duration: 00:00:00.04, start: 0.000000, bitrate: 62450 kb/s\n",
      "  Stream #0:0: Video: mjpeg (Baseline), yuvj420p(pc, bt470bg/unknown/unknown), 1024x1024 [SAR 1:1 DAR 1:1], 25 fps, 25 tbr, 25 tbn\n",
      "Stream mapping:\n",
      "  Stream #0:0 -> #0:0 (mjpeg (native) -> h264 (libx264))\n",
      "Press [q] to stop, [?] for help\n",
      "[swscaler @ 000001cba7a1d180] deprecated pixel format used, make sure you did set range correctly\n",
      "[swscaler @ 000001cba85cb040] deprecated pixel format used, make sure you did set range correctly\n",
      "[swscaler @ 000001cba86d7040] deprecated pixel format used, make sure you did set range correctly\n",
      "[swscaler @ 000001cba7b07040] deprecated pixel format used, make sure you did set range correctly\n",
      "[libx264 @ 000001cba75ace40] using SAR=1/1\n",
      "[libx264 @ 000001cba75ace40] using cpu capabilities: MMX2 SSE2Fast SSSE3 SSE4.2 AVX FMA3 BMI2 AVX2\n",
      "[libx264 @ 000001cba75ace40] profile High, level 4.0, 4:2:0, 8-bit\n",
      "[libx264 @ 000001cba75ace40] 264 - core 164 r3190 7ed753b - H.264/MPEG-4 AVC codec - Copyleft 2003-2024 - http://www.videolan.org/x264.html - options: cabac=1 ref=3 deblock=1:0:0 analyse=0x3:0x113 me=hex subme=7 psy=1 psy_rd=1.00:0.00 mixed_ref=1 me_range=16 chroma_me=1 trellis=1 8x8dct=1 cqm=0 deadzone=21,11 fast_pskip=1 chroma_qp_offset=-2 threads=30 lookahead_threads=5 sliced_threads=0 nr=0 decimate=1 interlaced=0 bluray_compat=0 constrained_intra=0 bframes=3 b_pyramid=2 b_adapt=1 b_bias=0 direct=1 weightb=1 open_gop=0 weightp=2 keyint=250 keyint_min=25 scenecut=40 intra_refresh=0 rc_lookahead=40 rc=crf mbtree=1 crf=23.0 qcomp=0.60 qpmin=0 qpmax=69 qpstep=4 ip_ratio=1.40 aq=1:1.00\n",
      "Output #0, mp4, to 'temp_assets\\temp_square.jpg.mp4':\n",
      "  Metadata:\n",
      "    encoder         : Lavf61.3.103\n",
      "  Stream #0:0: Video: h264 (avc1 / 0x31637661), yuv420p(progressive), 1920x1080 [SAR 1:1 DAR 16:9], q=2-31, 30 fps, 15360 tbn\n",
      "      Metadata:\n",
      "        encoder         : Lavc61.5.103 libx264\n",
      "      Side data:\n",
      "        cpb: bitrate max/min/avg: 0/0/0 buffer size: 0 vbv_delay: N/A\n",
      "frame=   50 fps=0.0 q=29.0 size=     256KiB time=00:00:01.60 bitrate=1311.0kbits/s dup=21 drop=0 speed=3.08x    \n",
      "[out#0/mp4 @ 000001cba7578f80] video:327KiB audio:0KiB subtitle:0KiB other streams:0KiB global headers:0KiB muxing overhead: 0.800320%\n",
      "frame=  150 fps=0.0 q=-1.0 Lsize=     329KiB time=00:00:04.93 bitrate= 547.0kbits/s dup=25 drop=0 speed=6.94x    \n",
      "[libx264 @ 000001cba75ace40] frame I:1     Avg QP:16.09  size:320318\n",
      "[libx264 @ 000001cba75ace40] frame P:38    Avg QP:15.62  size:   151\n",
      "[libx264 @ 000001cba75ace40] frame B:111   Avg QP:13.67  size:    71\n",
      "[libx264 @ 000001cba75ace40] consecutive B-frames:  1.3%  0.0%  0.0% 98.7%\n",
      "[libx264 @ 000001cba75ace40] mb I  I16..4: 36.8% 34.6% 28.6%\n",
      "[libx264 @ 000001cba75ace40] mb P  I16..4:  0.0%  0.0%  0.0%  P16..4:  0.3%  0.0%  0.0%  0.0%  0.0%    skip:99.6%\n",
      "[libx264 @ 000001cba75ace40] mb B  I16..4:  0.0%  0.0%  0.0%  B16..8:  0.0%  0.0%  0.0%  direct: 0.0%  skip:100.0%  L0:43.5% L1:56.5% BI: 0.0%\n",
      "[libx264 @ 000001cba75ace40] 8x8 transform intra:34.6% inter:94.2%\n",
      "[libx264 @ 000001cba75ace40] coded y,uvDC,uvAC intra: 41.6% 45.4% 44.7% inter: 0.0% 0.1% 0.0%\n",
      "[libx264 @ 000001cba75ace40] i16 v,h,dc,p: 94%  1%  4%  0%\n",
      "[libx264 @ 000001cba75ace40] i8 v,h,dc,ddl,ddr,vr,hd,vl,hu: 36% 11% 28%  4%  4%  3%  6%  3%  6%\n",
      "[libx264 @ 000001cba75ace40] i4 v,h,dc,ddl,ddr,vr,hd,vl,hu: 12% 16% 12%  8% 11%  9% 12%  8% 11%\n",
      "[libx264 @ 000001cba75ace40] i8c dc,h,v,p: 75% 11%  7%  6%\n",
      "[libx264 @ 000001cba75ace40] Weighted P-Frames: Y:0.0% UV:0.0%\n",
      "[libx264 @ 000001cba75ace40] ref P L0: 96.7%  1.4%  1.5%  0.4%\n",
      "[libx264 @ 000001cba75ace40] ref B L0: 40.9% 59.1%\n",
      "[libx264 @ 000001cba75ace40] kb/s:534.28\n",
      "ffmpeg version 2024-05-13-git-37db0454e4-full_build-www.gyan.dev Copyright (c) 2000-2024 the FFmpeg developers\n",
      "  built with gcc 13.2.0 (Rev5, Built by MSYS2 project)\n",
      "  configuration: --enable-gpl --enable-version3 --enable-static --disable-w32threads --disable-autodetect --enable-fontconfig --enable-iconv --enable-gnutls --enable-libxml2 --enable-gmp --enable-bzlib --enable-lzma --enable-libsnappy --enable-zlib --enable-librist --enable-libsrt --enable-libssh --enable-libzmq --enable-avisynth --enable-libbluray --enable-libcaca --enable-sdl2 --enable-libaribb24 --enable-libaribcaption --enable-libdav1d --enable-libdavs2 --enable-libuavs3d --enable-libxevd --enable-libzvbi --enable-librav1e --enable-libsvtav1 --enable-libwebp --enable-libx264 --enable-libx265 --enable-libxavs2 --enable-libxeve --enable-libxvid --enable-libaom --enable-libjxl --enable-libopenjpeg --enable-libvpx --enable-mediafoundation --enable-libass --enable-frei0r --enable-libfreetype --enable-libfribidi --enable-libharfbuzz --enable-liblensfun --enable-libvidstab --enable-libvmaf --enable-libzimg --enable-amf --enable-cuda-llvm --enable-cuvid --enable-dxva2 --enable-d3d11va --enable-d3d12va --enable-ffnvcodec --enable-libvpl --enable-nvdec --enable-nvenc --enable-vaapi --enable-libshaderc --enable-vulkan --enable-libplacebo --enable-opencl --enable-libcdio --enable-libgme --enable-libmodplug --enable-libopenmpt --enable-libopencore-amrwb --enable-libmp3lame --enable-libshine --enable-libtheora --enable-libtwolame --enable-libvo-amrwbenc --enable-libcodec2 --enable-libilbc --enable-libgsm --enable-libopencore-amrnb --enable-libopus --enable-libspeex --enable-libvorbis --enable-ladspa --enable-libbs2b --enable-libflite --enable-libmysofa --enable-librubberband --enable-libsoxr --enable-chromaprint\n",
      "  libavutil      59. 17.100 / 59. 17.100\n",
      "  libavcodec     61.  5.103 / 61.  5.103\n",
      "  libavformat    61.  3.103 / 61.  3.103\n",
      "  libavdevice    61.  2.100 / 61.  2.100\n",
      "  libavfilter    10.  2.101 / 10.  2.101\n",
      "  libswscale      8.  2.100 /  8.  2.100\n",
      "  libswresample   5.  2.100 /  5.  2.100\n",
      "  libpostproc    58.  2.100 / 58.  2.100\n",
      "Input #0, mov,mp4,m4a,3gp,3g2,mj2, from 'temp_assets\\temp_square.jpg.mp4':\n",
      "  Metadata:\n",
      "    major_brand     : isom\n",
      "    minor_version   : 512\n",
      "    compatible_brands: isomiso2avc1mp41\n",
      "    encoder         : Lavf61.3.103\n",
      "  Duration: 00:00:05.00, start: 0.000000, bitrate: 539 kb/s\n",
      "  Stream #0:0[0x1](und): Video: h264 (High) (avc1 / 0x31637661), yuv420p(progressive), 1920x1080 [SAR 1:1 DAR 16:9], 535 kb/s, 30 fps, 30 tbr, 15360 tbn (default)\n",
      "      Metadata:\n",
      "        handler_name    : VideoHandler\n",
      "        vendor_id       : [0][0][0][0]\n",
      "        encoder         : Lavc61.5.103 libx264\n",
      "[out#0/mp4 @ 0000024135d0ee80] Codec AVOption b (set bitrate (in bits/s)) has not been used for any stream. The most likely reason is either wrong type (e.g. a video option with no video streams) or that it is a private option of some encoder which was not actually used for any stream.\n",
      "Stream mapping:\n",
      "  Stream #0:0 (h264) -> fps:default\n",
      "  setpts:default -> Stream #0:0 (libx264)\n",
      "Press [q] to stop, [?] for help\n",
      "[fc#0 @ 0000024135cfb900] [vo0->#0:0 @ 0000024135cfde40] No information about the input framerate is available. Falling back to a default value of 25fps. Use the -r option if you want a different framerate.\n",
      "[libx264 @ 0000024135cf5d40] using SAR=1/1\n",
      "[libx264 @ 0000024135cf5d40] using cpu capabilities: MMX2 SSE2Fast SSSE3 SSE4.2 AVX FMA3 BMI2 AVX2\n",
      "[libx264 @ 0000024135cf5d40] profile High, level 4.0, 4:2:0, 8-bit\n",
      "[libx264 @ 0000024135cf5d40] 264 - core 164 r3190 7ed753b - H.264/MPEG-4 AVC codec - Copyleft 2003-2024 - http://www.videolan.org/x264.html - options: cabac=1 ref=3 deblock=1:0:0 analyse=0x3:0x113 me=hex subme=7 psy=1 psy_rd=1.00:0.00 mixed_ref=1 me_range=16 chroma_me=1 trellis=1 8x8dct=1 cqm=0 deadzone=21,11 fast_pskip=1 chroma_qp_offset=-2 threads=30 lookahead_threads=5 sliced_threads=0 nr=0 decimate=1 interlaced=0 bluray_compat=0 constrained_intra=0 bframes=3 b_pyramid=2 b_adapt=1 b_bias=0 direct=1 weightb=1 open_gop=0 weightp=2 keyint=250 keyint_min=25 scenecut=40 intra_refresh=0 rc_lookahead=40 rc=crf mbtree=1 crf=23.0 qcomp=0.60 qpmin=0 qpmax=69 qpstep=4 ip_ratio=1.40 aq=1:1.00\n",
      "Output #0, mp4, to 'test_output_test2.mp4':\n",
      "  Metadata:\n",
      "    major_brand     : isom\n",
      "    minor_version   : 512\n",
      "    compatible_brands: isomiso2avc1mp41\n",
      "    encoder         : Lavf61.3.103\n",
      "  Stream #0:0: Video: h264 (avc1 / 0x31637661), yuv420p(progressive), 1920x1080 [SAR 1:1 DAR 16:9], q=2-31, 25 fps, 12800 tbn\n",
      "      Metadata:\n",
      "        encoder         : Lavc61.5.103 libx264\n",
      "      Side data:\n",
      "        cpb: bitrate max/min/avg: 0/0/0 buffer size: 0 vbv_delay: N/A\n",
      "[out#0/mp4 @ 0000024135d0ee80] video:327KiB audio:0KiB subtitle:0KiB other streams:0KiB global headers:0KiB muxing overhead: 0.710457%\n",
      "frame=  125 fps=0.0 q=-1.0 Lsize=     329KiB time=00:00:04.92 bitrate= 548.1kbits/s dup=0 drop=24 speed=10.8x    \n",
      "[libx264 @ 0000024135cf5d40] frame I:1     Avg QP:15.15  size:322697\n",
      "[libx264 @ 0000024135cf5d40] frame P:31    Avg QP:15.16  size:   152\n",
      "[libx264 @ 0000024135cf5d40] frame B:93    Avg QP:12.67  size:    71\n",
      "[libx264 @ 0000024135cf5d40] consecutive B-frames:  0.8%  0.0%  0.0% 99.2%\n",
      "[libx264 @ 0000024135cf5d40] mb I  I16..4: 41.0% 30.1% 28.8%\n",
      "[libx264 @ 0000024135cf5d40] mb P  I16..4:  0.0%  0.0%  0.0%  P16..4:  0.4%  0.0%  0.0%  0.0%  0.0%    skip:99.6%\n",
      "[libx264 @ 0000024135cf5d40] mb B  I16..4:  0.0%  0.0%  0.0%  B16..8:  0.0%  0.0%  0.0%  direct: 0.0%  skip:100.0%  L0:22.9% L1:77.1% BI: 0.0%\n",
      "[libx264 @ 0000024135cf5d40] 8x8 transform intra:30.1% inter:89.0%\n",
      "[libx264 @ 0000024135cf5d40] coded y,uvDC,uvAC intra: 41.2% 45.3% 44.5% inter: 0.0% 0.1% 0.0%\n",
      "[libx264 @ 0000024135cf5d40] i16 v,h,dc,p: 95%  1%  4%  0%\n",
      "[libx264 @ 0000024135cf5d40] i8 v,h,dc,ddl,ddr,vr,hd,vl,hu: 34% 13% 24%  4%  4%  3%  7%  3%  7%\n",
      "[libx264 @ 0000024135cf5d40] i4 v,h,dc,ddl,ddr,vr,hd,vl,hu: 14% 16% 12%  8% 11%  9% 12%  8% 11%\n",
      "[libx264 @ 0000024135cf5d40] i8c dc,h,v,p: 75% 12%  7%  6%\n",
      "[libx264 @ 0000024135cf5d40] Weighted P-Frames: Y:0.0% UV:0.0%\n",
      "[libx264 @ 0000024135cf5d40] ref P L0: 84.0%  1.3% 12.6%  2.1%\n",
      "[libx264 @ 0000024135cf5d40] ref B L0: 53.8% 46.2%\n",
      "[libx264 @ 0000024135cf5d40] kb/s:534.44\n",
      "\n",
      "Test 2 passed\n"
     ]
    },
    {
     "data": {
      "text/html": [
       "<video src=\"test_output_test2.mp4\" controls  >\n",
       "      Your browser does not support the <code>video</code> element.\n",
       "    </video>"
      ],
      "text/plain": [
       "<IPython.core.display.Video object>"
      ]
     },
     "execution_count": 8,
     "metadata": {},
     "output_type": "execute_result"
    }
   ],
   "source": [
    "success, output_file = run_mmmeld([\"--image\", local_image1, \"--output\", \"test2.mp4\"])\n",
    "print(f\"Test 2 {'passed' if success else 'failed'}\")\n",
    "display_output(output_file)"
   ]
  },
  {
   "cell_type": "markdown",
   "metadata": {},
   "source": [
    "## Test 3: Single Video with Main Audio (Video Shorter)\n",
    "\n",
    "Expected behavior: The video should loop to match the audio duration."
   ]
  },
  {
   "cell_type": "code",
   "execution_count": 9,
   "metadata": {},
   "outputs": [
    {
     "name": "stdout",
     "output_type": "stream",
     "text": [
      "get_audio_duration: file_path=test_media/5_minutes.mp3, output='299.546122'\n",
      "get_media_duration: file_path=test_media/15_seconds.mp4, output='15.000000'\n",
      "FFmpeg command:\n",
      "ffmpeg -y -stream_loop -1 -i test_media/15_seconds.mp4 -i test_media/5_minutes.mp3 -filter_complex [0:v]fps=30,format=yuv420p,trim=duration=302.046122,setpts=PTS-STARTPTS[v0];[v0]fade=t=out:st=300.046122:d=2.0[final_video];[1:a]adelay=500|500,apad=pad_dur=2.0[main_audio];[main_audio]acopy[final_audio] -map [final_video] -map [final_audio] -c:v libx264 -preset medium -crf 23 -c:a aac -b:a 192k -t 302.046122 test_output_test3.mp4\n",
      "Attempting to clean up 0 files:\n",
      "Cleanup completed. Temporary folder 'temp_assets' was not removed.\n",
      "Video created successfully at test_output_test3.mp4\n",
      "The length of the video is the main audio length plus 2.5 seconds.\n",
      "Cleaning up temporary files...\n",
      "Attempting to clean up 0 files:\n",
      "Cleanup completed. Temporary folder 'temp_assets' was not removed.\n",
      "\n",
      "ffmpeg version 2024-05-13-git-37db0454e4-full_build-www.gyan.dev Copyright (c) 2000-2024 the FFmpeg developers\n",
      "  built with gcc 13.2.0 (Rev5, Built by MSYS2 project)\n",
      "  configuration: --enable-gpl --enable-version3 --enable-static --disable-w32threads --disable-autodetect --enable-fontconfig --enable-iconv --enable-gnutls --enable-libxml2 --enable-gmp --enable-bzlib --enable-lzma --enable-libsnappy --enable-zlib --enable-librist --enable-libsrt --enable-libssh --enable-libzmq --enable-avisynth --enable-libbluray --enable-libcaca --enable-sdl2 --enable-libaribb24 --enable-libaribcaption --enable-libdav1d --enable-libdavs2 --enable-libuavs3d --enable-libxevd --enable-libzvbi --enable-librav1e --enable-libsvtav1 --enable-libwebp --enable-libx264 --enable-libx265 --enable-libxavs2 --enable-libxeve --enable-libxvid --enable-libaom --enable-libjxl --enable-libopenjpeg --enable-libvpx --enable-mediafoundation --enable-libass --enable-frei0r --enable-libfreetype --enable-libfribidi --enable-libharfbuzz --enable-liblensfun --enable-libvidstab --enable-libvmaf --enable-libzimg --enable-amf --enable-cuda-llvm --enable-cuvid --enable-dxva2 --enable-d3d11va --enable-d3d12va --enable-ffnvcodec --enable-libvpl --enable-nvdec --enable-nvenc --enable-vaapi --enable-libshaderc --enable-vulkan --enable-libplacebo --enable-opencl --enable-libcdio --enable-libgme --enable-libmodplug --enable-libopenmpt --enable-libopencore-amrwb --enable-libmp3lame --enable-libshine --enable-libtheora --enable-libtwolame --enable-libvo-amrwbenc --enable-libcodec2 --enable-libilbc --enable-libgsm --enable-libopencore-amrnb --enable-libopus --enable-libspeex --enable-libvorbis --enable-ladspa --enable-libbs2b --enable-libflite --enable-libmysofa --enable-librubberband --enable-libsoxr --enable-chromaprint\n",
      "  libavutil      59. 17.100 / 59. 17.100\n",
      "  libavcodec     61.  5.103 / 61.  5.103\n",
      "  libavformat    61.  3.103 / 61.  3.103\n",
      "  libavdevice    61.  2.100 / 61.  2.100\n",
      "  libavfilter    10.  2.101 / 10.  2.101\n",
      "  libswscale      8.  2.100 /  8.  2.100\n",
      "  libswresample   5.  2.100 /  5.  2.100\n",
      "  libpostproc    58.  2.100 / 58.  2.100\n",
      "Input #0, mov,mp4,m4a,3gp,3g2,mj2, from 'test_media/15_seconds.mp4':\n",
      "  Metadata:\n",
      "    major_brand     : mp42\n",
      "    minor_version   : 0\n",
      "    compatible_brands: mp42mp41\n",
      "    creation_time   : 2022-07-02T21:20:53.000000Z\n",
      "  Duration: 00:00:15.00, start: 0.000000, bitrate: 1653 kb/s\n",
      "  Stream #0:0[0x1](eng): Video: h264 (Main) (avc1 / 0x31637661), yuv420p(tv, bt709, progressive), 3840x2160, 1644 kb/s, 30 fps, 30 tbr, 30k tbn (default)\n",
      "      Metadata:\n",
      "        creation_time   : 2022-07-02T21:20:53.000000Z\n",
      "        handler_name    : ?Mainconcept Video Media Handler\n",
      "        vendor_id       : [0][0][0][0]\n",
      "        encoder         : AVC Coding\n",
      "Input #1, mp3, from 'test_media/5_minutes.mp3':\n",
      "  Metadata:\n",
      "    major_brand     : dash\n",
      "    minor_version   : 0\n",
      "    compatible_brands: iso6mp41\n",
      "    encoder         : Lavf58.29.100\n",
      "  Duration: 00:04:59.55, start: 0.025057, bitrate: 192 kb/s\n",
      "  Stream #1:0: Audio: mp3 (mp3float), 44100 Hz, stereo, fltp, 192 kb/s\n",
      "      Metadata:\n",
      "        encoder         : Lavc58.54\n",
      "Stream mapping:\n",
      "  Stream #0:0 (h264) -> fps:default\n",
      "  Stream #1:0 (mp3float) -> adelay:default\n",
      "  fade:default -> Stream #0:0 (libx264)\n",
      "  acopy:default -> Stream #0:1 (aac)\n",
      "Press [q] to stop, [?] for help\n",
      "[fc#0 @ 00000182bde0bd40] [vo0->#0:0 @ 00000182bde0c340] No information about the input framerate is available. Falling back to a default value of 25fps. Use the -r option if you want a different framerate.\n",
      "[libx264 @ 00000182bde1f200] using cpu capabilities: MMX2 SSE2Fast SSSE3 SSE4.2 AVX FMA3 BMI2 AVX2\n",
      "[libx264 @ 00000182bde1f200] profile High, level 5.1, 4:2:0, 8-bit\n",
      "[libx264 @ 00000182bde1f200] 264 - core 164 r3190 7ed753b - H.264/MPEG-4 AVC codec - Copyleft 2003-2024 - http://www.videolan.org/x264.html - options: cabac=1 ref=3 deblock=1:0:0 analyse=0x3:0x113 me=hex subme=7 psy=1 psy_rd=1.00:0.00 mixed_ref=1 me_range=16 chroma_me=1 trellis=1 8x8dct=1 cqm=0 deadzone=21,11 fast_pskip=1 chroma_qp_offset=-2 threads=30 lookahead_threads=5 sliced_threads=0 nr=0 decimate=1 interlaced=0 bluray_compat=0 constrained_intra=0 bframes=3 b_pyramid=2 b_adapt=1 b_bias=0 direct=1 weightb=1 open_gop=0 weightp=2 keyint=250 keyint_min=25 scenecut=40 intra_refresh=0 rc_lookahead=40 rc=crf mbtree=1 crf=23.0 qcomp=0.60 qpmin=0 qpmax=69 qpstep=4 ip_ratio=1.40 aq=1:1.00\n",
      "Output #0, mp4, to 'test_output_test3.mp4':\n",
      "  Metadata:\n",
      "    major_brand     : mp42\n",
      "    minor_version   : 0\n",
      "    compatible_brands: mp42mp41\n",
      "    encoder         : Lavf61.3.103\n",
      "  Stream #0:0: Video: h264 (avc1 / 0x31637661), yuv420p(tv, bt709, progressive), 3840x2160, q=2-31, 25 fps, 12800 tbn\n",
      "      Metadata:\n",
      "        encoder         : Lavc61.5.103 libx264\n",
      "      Side data:\n",
      "        cpb: bitrate max/min/avg: 0/0/0 buffer size: 0 vbv_delay: N/A\n",
      "  Stream #0:1: Audio: aac (LC) (mp4a / 0x6134706D), 44100 Hz, stereo, fltp, 192 kb/s\n",
      "      Metadata:\n",
      "        encoder         : Lavc61.5.103 aac\n",
      "frame=    0 fps=0.0 q=0.0 size=       0KiB time=N/A bitrate=N/A dup=0 drop=10 speed=N/A    \n",
      "frame=    0 fps=0.0 q=0.0 size=       0KiB time=N/A bitrate=N/A dup=0 drop=16 speed=N/A    \n",
      "frame=   47 fps= 30 q=28.0 size=       0KiB time=00:00:01.80 bitrate=   0.2kbits/s dup=0 drop=25 speed=1.17x    \n",
      "frame=  100 fps= 49 q=28.0 size=       0KiB time=00:00:03.92 bitrate=   0.1kbits/s dup=0 drop=36 speed=1.91x    \n",
      "frame=  159 fps= 62 q=28.0 size=     256KiB time=00:00:06.28 bitrate= 334.0kbits/s dup=0 drop=47 speed=2.45x    \n",
      "frame=  214 fps= 69 q=28.0 size=     256KiB time=00:00:08.48 bitrate= 247.4kbits/s dup=0 drop=58 speed=2.75x    \n",
      "frame=  270 fps= 75 q=28.0 size=     512KiB time=00:00:10.72 bitrate= 391.3kbits/s dup=0 drop=70 speed=2.98x    \n",
      "frame=  310 fps= 75 q=28.0 size=     512KiB time=00:00:12.32 bitrate= 340.5kbits/s dup=0 drop=78 speed=   3x    \n",
      "frame=  347 fps= 75 q=28.0 size=     512KiB time=00:00:13.80 bitrate= 304.0kbits/s dup=0 drop=85 speed=2.98x    \n",
      "frame=  399 fps= 77 q=28.0 size=     768KiB time=00:00:15.88 bitrate= 396.2kbits/s dup=0 drop=96 speed=3.08x    \n",
      "frame=  448 fps= 79 q=28.0 size=     768KiB time=00:00:17.84 bitrate= 352.7kbits/s dup=0 drop=105 speed=3.15x    \n",
      "frame=  496 fps= 80 q=28.0 size=     768KiB time=00:00:19.76 bitrate= 318.4kbits/s dup=0 drop=115 speed= 3.2x    \n",
      "frame=  548 fps= 82 q=28.0 size=     768KiB time=00:00:21.84 bitrate= 288.1kbits/s dup=0 drop=125 speed=3.26x    \n",
      "frame=  602 fps= 83 q=28.0 size=    1024KiB time=00:00:24.00 bitrate= 349.5kbits/s dup=0 drop=136 speed=3.33x    \n",
      "frame=  662 fps= 86 q=28.0 size=    1024KiB time=00:00:26.40 bitrate= 317.8kbits/s dup=0 drop=148 speed=3.42x    \n",
      "frame=  718 fps= 87 q=28.0 size=    1280KiB time=00:00:28.64 bitrate= 366.1kbits/s dup=0 drop=159 speed=3.47x    \n",
      "frame=  780 fps= 89 q=28.0 size=    1280KiB time=00:00:31.12 bitrate= 337.0kbits/s dup=0 drop=172 speed=3.55x    \n",
      "frame=  844 fps= 91 q=28.0 size=    1536KiB time=00:00:33.68 bitrate= 373.6kbits/s dup=0 drop=184 speed=3.63x    \n",
      "frame=  904 fps= 92 q=28.0 size=    1536KiB time=00:00:36.08 bitrate= 348.8kbits/s dup=0 drop=197 speed=3.68x    \n",
      "frame=  949 fps= 92 q=28.0 size=    1536KiB time=00:00:37.88 bitrate= 332.2kbits/s dup=0 drop=205 speed=3.67x    \n",
      "frame=  979 fps= 91 q=28.0 size=    1536KiB time=00:00:39.08 bitrate= 322.0kbits/s dup=0 drop=211 speed=3.61x    \n",
      "frame= 1021 fps= 90 q=28.0 size=    1792KiB time=00:00:40.76 bitrate= 360.2kbits/s dup=0 drop=220 speed=3.59x    \n",
      "frame= 1058 fps= 89 q=28.0 size=    1792KiB time=00:00:42.24 bitrate= 347.5kbits/s dup=0 drop=227 speed=3.56x    \n",
      "frame= 1096 fps= 89 q=28.0 size=    1792KiB time=00:00:43.76 bitrate= 335.5kbits/s dup=0 drop=235 speed=3.54x    \n",
      "frame= 1149 fps= 89 q=28.0 size=    2048KiB time=00:00:45.88 bitrate= 365.7kbits/s dup=0 drop=245 speed=3.56x    \n",
      "frame= 1198 fps= 89 q=28.0 size=    2048KiB time=00:00:47.84 bitrate= 350.7kbits/s dup=0 drop=255 speed=3.57x    \n",
      "frame= 1250 fps= 90 q=28.0 size=    2304KiB time=00:00:49.92 bitrate= 378.1kbits/s dup=0 drop=266 speed=3.59x    \n",
      "frame= 1297 fps= 90 q=28.0 size=    2304KiB time=00:00:51.80 bitrate= 364.4kbits/s dup=0 drop=275 speed=3.59x    \n",
      "frame= 1342 fps= 90 q=28.0 size=    2304KiB time=00:00:53.60 bitrate= 352.1kbits/s dup=0 drop=284 speed=3.59x    \n",
      "frame= 1376 fps= 89 q=28.0 size=    2304KiB time=00:00:54.96 bitrate= 343.4kbits/s dup=0 drop=291 speed=3.56x    \n",
      "frame= 1426 fps= 89 q=28.0 size=    2560KiB time=00:00:56.96 bitrate= 368.2kbits/s dup=0 drop=301 speed=3.57x    \n",
      "frame= 1484 fps= 90 q=28.0 size=    2560KiB time=00:00:59.28 bitrate= 353.8kbits/s dup=0 drop=312 speed=3.59x    \n",
      "frame= 1543 fps= 91 q=28.0 size=    2816KiB time=00:01:01.64 bitrate= 374.3kbits/s dup=0 drop=324 speed=3.63x    \n",
      "frame= 1605 fps= 92 q=28.0 size=    2816KiB time=00:01:04.12 bitrate= 359.8kbits/s dup=0 drop=337 speed=3.66x    \n",
      "frame= 1663 fps= 92 q=28.0 size=    2816KiB time=00:01:06.44 bitrate= 347.2kbits/s dup=0 drop=348 speed=3.68x    \n",
      "frame= 1713 fps= 92 q=28.0 size=    3072KiB time=00:01:08.44 bitrate= 367.7kbits/s dup=0 drop=358 speed=3.69x    \n",
      "frame= 1747 fps= 92 q=28.0 size=    3072KiB time=00:01:09.80 bitrate= 360.5kbits/s dup=0 drop=365 speed=3.66x    \n",
      "frame= 1792 fps= 91 q=28.0 size=    3072KiB time=00:01:11.60 bitrate= 351.5kbits/s dup=0 drop=374 speed=3.65x    \n",
      "frame= 1835 fps= 91 q=28.0 size=    3328KiB time=00:01:13.32 bitrate= 371.8kbits/s dup=0 drop=383 speed=3.65x    \n",
      "frame= 1884 fps= 91 q=28.0 size=    3328KiB time=00:01:15.28 bitrate= 362.2kbits/s dup=0 drop=393 speed=3.65x    \n",
      "frame= 1946 fps= 92 q=28.0 size=    3584KiB time=00:01:17.76 bitrate= 377.6kbits/s dup=0 drop=405 speed=3.68x    \n",
      "frame= 2009 fps= 93 q=28.0 size=    3584KiB time=00:01:20.28 bitrate= 365.7kbits/s dup=0 drop=417 speed= 3.7x    \n",
      "frame= 2072 fps= 93 q=28.0 size=    3584KiB time=00:01:22.80 bitrate= 354.6kbits/s dup=0 drop=430 speed=3.73x    \n",
      "frame= 2126 fps= 94 q=28.0 size=    3840KiB time=00:01:24.96 bitrate= 370.3kbits/s dup=0 drop=441 speed=3.74x    \n",
      "frame= 2182 fps= 94 q=28.0 size=    3840KiB time=00:01:27.20 bitrate= 360.8kbits/s dup=0 drop=452 speed=3.76x    \n",
      "frame= 2245 fps= 95 q=28.0 size=    4096KiB time=00:01:29.72 bitrate= 374.0kbits/s dup=0 drop=465 speed=3.78x    \n",
      "frame= 2300 fps= 95 q=28.0 size=    4096KiB time=00:01:31.92 bitrate= 365.0kbits/s dup=0 drop=476 speed=3.79x    \n",
      "frame= 2351 fps= 95 q=28.0 size=    4096KiB time=00:01:33.96 bitrate= 357.1kbits/s dup=0 drop=486 speed=3.79x    \n",
      "frame= 2398 fps= 95 q=28.0 size=    4352KiB time=00:01:35.84 bitrate= 372.0kbits/s dup=0 drop=495 speed=3.79x    \n",
      "frame= 2445 fps= 95 q=28.0 size=    4352KiB time=00:01:37.72 bitrate= 364.8kbits/s dup=0 drop=505 speed=3.79x    \n",
      "frame= 2477 fps= 94 q=28.0 size=    4352KiB time=00:01:39.00 bitrate= 360.1kbits/s dup=0 drop=511 speed=3.76x    \n",
      "frame= 2513 fps= 94 q=28.0 size=    4608KiB time=00:01:40.44 bitrate= 375.8kbits/s dup=0 drop=518 speed=3.75x    \n",
      "frame= 2552 fps= 93 q=28.0 size=    4608KiB time=00:01:42.00 bitrate= 370.1kbits/s dup=0 drop=526 speed=3.73x    \n",
      "frame= 2590 fps= 93 q=28.0 size=    4608KiB time=00:01:43.52 bitrate= 364.7kbits/s dup=0 drop=534 speed=3.72x    \n",
      "frame= 2640 fps= 93 q=28.0 size=    4864KiB time=00:01:45.52 bitrate= 377.6kbits/s dup=0 drop=544 speed=3.72x    \n",
      "frame= 2685 fps= 93 q=28.0 size=    4864KiB time=00:01:47.32 bitrate= 371.3kbits/s dup=0 drop=553 speed=3.71x    \n",
      "frame= 2730 fps= 93 q=28.0 size=    4864KiB time=00:01:49.12 bitrate= 365.2kbits/s dup=0 drop=562 speed=3.71x    \n",
      "frame= 2786 fps= 93 q=28.0 size=    5120KiB time=00:01:51.36 bitrate= 376.6kbits/s dup=0 drop=573 speed=3.72x    \n",
      "frame= 2838 fps= 93 q=28.0 size=    5120KiB time=00:01:53.44 bitrate= 369.7kbits/s dup=0 drop=583 speed=3.73x    \n",
      "frame= 2872 fps= 93 q=28.0 size=    5120KiB time=00:01:54.80 bitrate= 365.4kbits/s dup=0 drop=590 speed=3.71x    \n",
      "frame= 2928 fps= 93 q=28.0 size=    5376KiB time=00:01:57.04 bitrate= 376.3kbits/s dup=0 drop=601 speed=3.72x    \n",
      "frame= 2983 fps= 93 q=28.0 size=    5376KiB time=00:01:59.24 bitrate= 369.3kbits/s dup=0 drop=612 speed=3.73x    \n",
      "frame= 3036 fps= 93 q=28.0 size=    5632KiB time=00:02:01.36 bitrate= 380.2kbits/s dup=0 drop=623 speed=3.73x    \n",
      "frame= 3085 fps= 93 q=28.0 size=    5632KiB time=00:02:03.32 bitrate= 374.1kbits/s dup=0 drop=633 speed=3.74x    \n",
      "frame= 3139 fps= 94 q=28.0 size=    5632KiB time=00:02:05.48 bitrate= 367.7kbits/s dup=0 drop=644 speed=3.74x    \n",
      "frame= 3185 fps= 94 q=28.0 size=    5632KiB time=00:02:07.32 bitrate= 362.4kbits/s dup=0 drop=653 speed=3.74x    \n",
      "frame= 3197 fps= 93 q=28.0 size=    5632KiB time=00:02:07.80 bitrate= 361.0kbits/s dup=0 drop=655 speed= 3.7x    \n",
      "frame= 3209 fps= 91 q=28.0 size=    5632KiB time=00:02:08.28 bitrate= 359.7kbits/s dup=0 drop=658 speed=3.66x    \n",
      "frame= 3227 fps= 91 q=28.0 size=    5888KiB time=00:02:09.00 bitrate= 373.9kbits/s dup=0 drop=661 speed=3.62x    \n",
      "frame= 3254 fps= 90 q=28.0 size=    5888KiB time=00:02:10.08 bitrate= 370.8kbits/s dup=0 drop=667 speed= 3.6x    \n",
      "frame= 3283 fps= 90 q=28.0 size=    5888KiB time=00:02:11.24 bitrate= 367.5kbits/s dup=0 drop=672 speed=3.58x    \n",
      "frame= 3307 fps= 89 q=28.0 size=    5888KiB time=00:02:12.20 bitrate= 364.9kbits/s dup=0 drop=677 speed=3.56x    \n",
      "frame= 3331 fps= 88 q=28.0 size=    5888KiB time=00:02:13.16 bitrate= 362.2kbits/s dup=0 drop=682 speed=3.54x    \n",
      "frame= 3353 fps= 88 q=28.0 size=    5888KiB time=00:02:14.04 bitrate= 359.9kbits/s dup=0 drop=686 speed=3.51x    \n",
      "frame= 3379 fps= 87 q=28.0 size=    6144KiB time=00:02:15.08 bitrate= 372.6kbits/s dup=0 drop=692 speed=3.49x    \n",
      "frame= 3406 fps= 87 q=28.0 size=    6144KiB time=00:02:16.16 bitrate= 369.7kbits/s dup=0 drop=697 speed=3.47x    \n",
      "frame= 3434 fps= 86 q=28.0 size=    6144KiB time=00:02:17.28 bitrate= 366.6kbits/s dup=0 drop=703 speed=3.45x    \n",
      "frame= 3462 fps= 86 q=28.0 size=    6144KiB time=00:02:18.40 bitrate= 363.7kbits/s dup=0 drop=708 speed=3.44x    \n",
      "frame= 3490 fps= 86 q=28.0 size=    6400KiB time=00:02:19.52 bitrate= 375.8kbits/s dup=0 drop=714 speed=3.42x    \n",
      "frame= 3520 fps= 85 q=28.0 size=    6400KiB time=00:02:20.72 bitrate= 372.6kbits/s dup=0 drop=720 speed=3.41x    \n",
      "frame= 3547 fps= 85 q=28.0 size=    6400KiB time=00:02:21.80 bitrate= 369.7kbits/s dup=0 drop=725 speed=3.39x    \n",
      "frame= 3574 fps= 84 q=28.0 size=    6400KiB time=00:02:22.88 bitrate= 366.9kbits/s dup=0 drop=731 speed=3.37x    \n",
      "frame= 3596 fps= 84 q=28.0 size=    6400KiB time=00:02:23.76 bitrate= 364.7kbits/s dup=0 drop=735 speed=3.36x    \n",
      "frame= 3622 fps= 83 q=28.0 size=    6400KiB time=00:02:24.80 bitrate= 362.1kbits/s dup=0 drop=740 speed=3.34x    \n",
      "frame= 3646 fps= 83 q=28.0 size=    6656KiB time=00:02:25.76 bitrate= 374.1kbits/s dup=0 drop=745 speed=3.32x    \n",
      "frame= 3672 fps= 83 q=28.0 size=    6656KiB time=00:02:26.80 bitrate= 371.4kbits/s dup=0 drop=750 speed= 3.3x    \n",
      "frame= 3698 fps= 82 q=28.0 size=    6656KiB time=00:02:27.84 bitrate= 368.8kbits/s dup=0 drop=755 speed=3.29x    \n",
      "frame= 3724 fps= 82 q=28.0 size=    6656KiB time=00:02:28.88 bitrate= 366.2kbits/s dup=0 drop=761 speed=3.27x    \n",
      "frame= 3755 fps= 81 q=28.0 size=    6912KiB time=00:02:30.12 bitrate= 377.2kbits/s dup=0 drop=767 speed=3.26x    \n",
      "frame= 3780 fps= 81 q=28.0 size=    6912KiB time=00:02:31.12 bitrate= 374.7kbits/s dup=0 drop=772 speed=3.24x    \n",
      "frame= 3806 fps= 81 q=28.0 size=    6912KiB time=00:02:32.16 bitrate= 372.1kbits/s dup=0 drop=777 speed=3.23x    \n",
      "frame= 3843 fps= 81 q=28.0 size=    6912KiB time=00:02:33.64 bitrate= 368.5kbits/s dup=0 drop=784 speed=3.22x    \n",
      "frame= 3907 fps= 81 q=28.0 size=    7168KiB time=00:02:36.20 bitrate= 375.9kbits/s dup=0 drop=797 speed=3.24x    \n",
      "frame= 3970 fps= 82 q=28.0 size=    7168KiB time=00:02:38.72 bitrate= 370.0kbits/s dup=0 drop=809 speed=3.26x    \n",
      "frame= 4021 fps= 82 q=28.0 size=    7168KiB time=00:02:40.76 bitrate= 365.3kbits/s dup=0 drop=820 speed=3.27x    \n",
      "frame= 4077 fps= 82 q=28.0 size=    7424KiB time=00:02:43.00 bitrate= 373.1kbits/s dup=0 drop=831 speed=3.28x    \n",
      "frame= 4139 fps= 82 q=28.0 size=    7424KiB time=00:02:45.48 bitrate= 367.5kbits/s dup=0 drop=843 speed=3.29x    \n",
      "frame= 4203 fps= 83 q=28.0 size=    7680KiB time=00:02:48.04 bitrate= 374.4kbits/s dup=0 drop=856 speed=3.31x    \n",
      "frame= 4262 fps= 83 q=28.0 size=    7680KiB time=00:02:50.40 bitrate= 369.2kbits/s dup=0 drop=868 speed=3.32x    \n",
      "frame= 4310 fps= 83 q=28.0 size=    7680KiB time=00:02:52.32 bitrate= 365.1kbits/s dup=0 drop=878 speed=3.33x    \n",
      "frame= 4347 fps= 83 q=28.0 size=    7936KiB time=00:02:53.80 bitrate= 374.1kbits/s dup=0 drop=885 speed=3.32x    \n",
      "frame= 4388 fps= 83 q=28.0 size=    7936KiB time=00:02:55.44 bitrate= 370.6kbits/s dup=0 drop=893 speed=3.32x    \n",
      "frame= 4428 fps= 83 q=28.0 size=    7936KiB time=00:02:57.04 bitrate= 367.2kbits/s dup=0 drop=901 speed=3.32x    \n",
      "frame= 4468 fps= 83 q=28.0 size=    8192KiB time=00:02:58.64 bitrate= 375.7kbits/s dup=0 drop=909 speed=3.32x    \n",
      "frame= 4525 fps= 83 q=28.0 size=    8192KiB time=00:03:00.92 bitrate= 370.9kbits/s dup=0 drop=920 speed=3.33x    \n",
      "frame= 4590 fps= 84 q=28.0 size=    8448KiB time=00:03:03.52 bitrate= 377.1kbits/s dup=0 drop=934 speed=3.34x    \n",
      "frame= 4653 fps= 84 q=28.0 size=    8448KiB time=00:03:06.04 bitrate= 372.0kbits/s dup=0 drop=946 speed=3.36x    \n",
      "frame= 4714 fps= 84 q=28.0 size=    8448KiB time=00:03:08.48 bitrate= 367.2kbits/s dup=0 drop=958 speed=3.37x    \n",
      "frame= 4767 fps= 85 q=28.0 size=    8704KiB time=00:03:10.60 bitrate= 374.1kbits/s dup=0 drop=969 speed=3.38x    \n",
      "frame= 4819 fps= 85 q=28.0 size=    8704KiB time=00:03:12.68 bitrate= 370.1kbits/s dup=0 drop=979 speed=3.38x    \n",
      "frame= 4871 fps= 85 q=28.0 size=    8704KiB time=00:03:14.76 bitrate= 366.1kbits/s dup=0 drop=990 speed=3.39x    \n",
      "frame= 4920 fps= 85 q=28.0 size=    8960KiB time=00:03:16.72 bitrate= 373.1kbits/s dup=0 drop=1000 speed=3.39x    \n",
      "frame= 4970 fps= 85 q=28.0 size=    8960KiB time=00:03:18.72 bitrate= 369.4kbits/s dup=0 drop=1010 speed= 3.4x    \n",
      "frame= 5020 fps= 85 q=28.0 size=    9216KiB time=00:03:20.72 bitrate= 376.1kbits/s dup=0 drop=1019 speed= 3.4x    \n",
      "frame= 5068 fps= 85 q=28.0 size=    9216KiB time=00:03:22.64 bitrate= 372.6kbits/s dup=0 drop=1029 speed=3.41x    \n",
      "frame= 5105 fps= 85 q=28.0 size=    9216KiB time=00:03:24.12 bitrate= 369.9kbits/s dup=0 drop=1037 speed= 3.4x    \n",
      "frame= 5147 fps= 85 q=28.0 size=    9472KiB time=00:03:25.80 bitrate= 377.0kbits/s dup=0 drop=1045 speed= 3.4x    \n",
      "frame= 5187 fps= 85 q=28.0 size=    9472KiB time=00:03:27.40 bitrate= 374.1kbits/s dup=0 drop=1053 speed= 3.4x    \n",
      "frame= 5232 fps= 85 q=28.0 size=    9472KiB time=00:03:29.20 bitrate= 370.9kbits/s dup=0 drop=1062 speed= 3.4x    \n",
      "frame= 5287 fps= 85 q=28.0 size=    9728KiB time=00:03:31.40 bitrate= 377.0kbits/s dup=0 drop=1073 speed= 3.4x    \n",
      "frame= 5339 fps= 85 q=28.0 size=    9728KiB time=00:03:33.48 bitrate= 373.3kbits/s dup=0 drop=1084 speed=3.41x    \n",
      "frame= 5391 fps= 85 q=28.0 size=    9728KiB time=00:03:35.56 bitrate= 369.7kbits/s dup=0 drop=1094 speed=3.42x    \n",
      "frame= 5448 fps= 86 q=28.0 size=    9984KiB time=00:03:37.84 bitrate= 375.5kbits/s dup=0 drop=1105 speed=3.42x    \n",
      "frame= 5501 fps= 86 q=28.0 size=    9984KiB time=00:03:39.96 bitrate= 371.8kbits/s dup=0 drop=1116 speed=3.43x    \n",
      "frame= 5559 fps= 86 q=28.0 size=    9984KiB time=00:03:42.28 bitrate= 368.0kbits/s dup=0 drop=1128 speed=3.44x    \n",
      "frame= 5617 fps= 86 q=28.0 size=   10240KiB time=00:03:44.60 bitrate= 373.5kbits/s dup=0 drop=1139 speed=3.45x    \n",
      "frame= 5674 fps= 86 q=28.0 size=   10240KiB time=00:03:46.88 bitrate= 369.7kbits/s dup=0 drop=1151 speed=3.45x    \n",
      "frame= 5726 fps= 86 q=28.0 size=   10496KiB time=00:03:48.96 bitrate= 375.5kbits/s dup=0 drop=1161 speed=3.46x    \n",
      "frame= 5778 fps= 87 q=28.0 size=   10496KiB time=00:03:51.04 bitrate= 372.2kbits/s dup=0 drop=1171 speed=3.46x    \n",
      "frame= 5825 fps= 87 q=28.0 size=   10496KiB time=00:03:52.92 bitrate= 369.2kbits/s dup=0 drop=1181 speed=3.46x    \n",
      "frame= 5860 fps= 86 q=28.0 size=   10496KiB time=00:03:54.32 bitrate= 366.9kbits/s dup=0 drop=1187 speed=3.46x    \n",
      "frame= 5901 fps= 86 q=28.0 size=   10752KiB time=00:03:55.96 bitrate= 373.3kbits/s dup=0 drop=1196 speed=3.46x    \n",
      "frame= 5956 fps= 87 q=28.0 size=   10752KiB time=00:03:58.16 bitrate= 369.8kbits/s dup=0 drop=1207 speed=3.46x    \n",
      "frame= 6017 fps= 87 q=28.0 size=   11008KiB time=00:04:00.60 bitrate= 374.8kbits/s dup=0 drop=1219 speed=3.47x    \n",
      "frame= 6080 fps= 87 q=28.0 size=   11008KiB time=00:04:03.12 bitrate= 370.9kbits/s dup=0 drop=1232 speed=3.48x    \n",
      "frame= 6144 fps= 87 q=28.0 size=   11264KiB time=00:04:05.68 bitrate= 375.6kbits/s dup=0 drop=1244 speed=3.49x    \n",
      "frame= 6204 fps= 88 q=28.0 size=   11264KiB time=00:04:08.08 bitrate= 372.0kbits/s dup=0 drop=1257 speed= 3.5x    \n",
      "frame= 6255 fps= 88 q=28.0 size=   11264KiB time=00:04:10.12 bitrate= 368.9kbits/s dup=0 drop=1267 speed=3.51x    \n",
      "frame= 6296 fps= 88 q=28.0 size=   11520KiB time=00:04:11.76 bitrate= 374.8kbits/s dup=0 drop=1274 speed= 3.5x    \n",
      "frame= 6337 fps= 88 q=28.0 size=   11520KiB time=00:04:13.40 bitrate= 372.4kbits/s dup=0 drop=1283 speed= 3.5x    \n",
      "frame= 6384 fps= 88 q=28.0 size=   11776KiB time=00:04:15.28 bitrate= 377.9kbits/s dup=0 drop=1293 speed= 3.5x    \n",
      "frame= 6436 fps= 88 q=28.0 size=   11776KiB time=00:04:17.36 bitrate= 374.8kbits/s dup=0 drop=1303 speed= 3.5x    \n",
      "frame= 6488 fps= 88 q=28.0 size=   11776KiB time=00:04:19.44 bitrate= 371.8kbits/s dup=0 drop=1313 speed=3.51x    \n",
      "frame= 6539 fps= 88 q=28.0 size=   11776KiB time=00:04:21.48 bitrate= 368.9kbits/s dup=0 drop=1323 speed=3.51x    \n",
      "frame= 6581 fps= 88 q=28.0 size=   12032KiB time=00:04:23.16 bitrate= 374.5kbits/s dup=0 drop=1332 speed=3.51x    \n",
      "frame= 6614 fps= 88 q=28.0 size=   12032KiB time=00:04:24.48 bitrate= 372.7kbits/s dup=0 drop=1339 speed= 3.5x    \n",
      "frame= 6656 fps= 88 q=28.0 size=   12032KiB time=00:04:26.16 bitrate= 370.3kbits/s dup=0 drop=1347 speed= 3.5x    \n",
      "frame= 6696 fps= 88 q=28.0 size=   12288KiB time=00:04:27.76 bitrate= 375.9kbits/s dup=0 drop=1355 speed= 3.5x    \n",
      "frame= 6756 fps= 88 q=28.0 size=   12288KiB time=00:04:30.16 bitrate= 372.6kbits/s dup=0 drop=1367 speed=3.51x    \n",
      "frame= 6816 fps= 88 q=28.0 size=   12544KiB time=00:04:32.56 bitrate= 377.0kbits/s dup=0 drop=1379 speed=3.51x    \n",
      "frame= 6867 fps= 88 q=28.0 size=   12544KiB time=00:04:34.60 bitrate= 374.2kbits/s dup=0 drop=1389 speed=3.52x    \n",
      "frame= 6917 fps= 88 q=28.0 size=   12544KiB time=00:04:36.60 bitrate= 371.5kbits/s dup=0 drop=1399 speed=3.52x    \n",
      "frame= 6972 fps= 88 q=28.0 size=   12544KiB time=00:04:38.80 bitrate= 368.6kbits/s dup=0 drop=1410 speed=3.52x    \n",
      "frame= 7021 fps= 88 q=28.0 size=   12800KiB time=00:04:40.76 bitrate= 373.5kbits/s dup=0 drop=1420 speed=3.53x    \n",
      "frame= 7071 fps= 88 q=28.0 size=   12800KiB time=00:04:42.76 bitrate= 370.8kbits/s dup=0 drop=1430 speed=3.53x    \n",
      "frame= 7127 fps= 88 q=28.0 size=   13056KiB time=00:04:45.00 bitrate= 375.3kbits/s dup=0 drop=1441 speed=3.53x    \n",
      "frame= 7177 fps= 88 q=28.0 size=   13056KiB time=00:04:47.00 bitrate= 372.7kbits/s dup=0 drop=1451 speed=3.54x    \n",
      "frame= 7229 fps= 89 q=28.0 size=   13056KiB time=00:04:49.08 bitrate= 370.0kbits/s dup=0 drop=1461 speed=3.54x    \n",
      "frame= 7278 fps= 89 q=28.0 size=   13312KiB time=00:04:51.04 bitrate= 374.7kbits/s dup=0 drop=1471 speed=3.54x    \n",
      "frame= 7326 fps= 89 q=28.0 size=   13312KiB time=00:04:52.96 bitrate= 372.2kbits/s dup=0 drop=1481 speed=3.54x    \n",
      "frame= 7364 fps= 88 q=28.0 size=   13312KiB time=00:04:54.48 bitrate= 370.3kbits/s dup=0 drop=1488 speed=3.54x    \n",
      "frame= 7412 fps= 89 q=28.0 size=   13568KiB time=00:04:56.40 bitrate= 375.0kbits/s dup=0 drop=1498 speed=3.54x    \n",
      "frame= 7450 fps= 88 q=28.0 size=   13568KiB time=00:04:57.92 bitrate= 373.1kbits/s dup=0 drop=1505 speed=3.54x    \n",
      "frame= 7478 fps= 88 q=28.0 size=   13568KiB time=N/A bitrate=N/A dup=0 drop=1509 speed=N/A    \n",
      "frame= 7508 fps= 88 q=28.0 size=   13824KiB time=N/A bitrate=N/A dup=0 drop=1509 speed=N/A    \n",
      "frame= 7538 fps= 88 q=-1.0 size=   14080KiB time=N/A bitrate=N/A dup=0 drop=1509 speed=N/A    \n",
      "[out#0/mp4 @ 00000182bde20740] video:7167KiB audio:7042KiB subtitle:0KiB other streams:0KiB global headers:0KiB muxing overhead: 1.750592%\n",
      "frame= 7552 fps= 88 q=-1.0 Lsize=   14458KiB time=00:05:02.00 bitrate= 392.2kbits/s dup=0 drop=1509 speed=3.51x    \n",
      "[libx264 @ 00000182bde1f200] frame I:41    Avg QP: 8.78  size: 81794\n",
      "[libx264 @ 00000182bde1f200] frame P:1900  Avg QP:17.34  size:   907\n",
      "[libx264 @ 00000182bde1f200] frame B:5611  Avg QP:19.39  size:   403\n",
      "[libx264 @ 00000182bde1f200] consecutive B-frames:  0.8%  0.2%  0.2% 98.7%\n",
      "[libx264 @ 00000182bde1f200] mb I  I16..4: 68.8% 26.8%  4.4%\n",
      "[libx264 @ 00000182bde1f200] mb P  I16..4:  0.0%  0.0%  0.0%  P16..4:  0.1%  0.0%  0.0%  0.0%  0.0%    skip:99.8%\n",
      "[libx264 @ 00000182bde1f200] mb B  I16..4:  0.3%  0.0%  0.0%  B16..8:  0.2%  0.0%  0.0%  direct: 0.1%  skip:99.4%  L0:58.4% L1:41.0% BI: 0.6%\n",
      "[libx264 @ 00000182bde1f200] 8x8 transform intra:21.9% inter:36.1%\n",
      "[libx264 @ 00000182bde1f200] coded y,uvDC,uvAC intra: 2.1% 4.4% 4.0% inter: 0.0% 0.1% 0.0%\n",
      "[libx264 @ 00000182bde1f200] i16 v,h,dc,p: 98%  1%  1%  0%\n",
      "[libx264 @ 00000182bde1f200] i8 v,h,dc,ddl,ddr,vr,hd,vl,hu: 33% 18% 49%  0%  0%  0%  0%  0%  0%\n",
      "[libx264 @ 00000182bde1f200] i4 v,h,dc,ddl,ddr,vr,hd,vl,hu: 36% 17% 27%  5%  4%  3%  3%  3%  3%\n",
      "[libx264 @ 00000182bde1f200] i8c dc,h,v,p: 95%  2%  2%  0%\n",
      "[libx264 @ 00000182bde1f200] Weighted P-Frames: Y:1.0% UV:0.9%\n",
      "[libx264 @ 00000182bde1f200] ref P L0: 83.4%  4.1%  9.6%  3.0%  0.0%\n",
      "[libx264 @ 00000182bde1f200] ref B L0: 64.5% 34.7%  0.8%\n",
      "[libx264 @ 00000182bde1f200] ref B L1: 98.4%  1.6%\n",
      "[libx264 @ 00000182bde1f200] kb/s:194.35\n",
      "[aac @ 00000182bdebc7c0] Qavg: 1532.204\n",
      "\n",
      "Test 3 passed\n"
     ]
    },
    {
     "data": {
      "text/html": [
       "<video src=\"test_output_test3.mp4\" controls  >\n",
       "      Your browser does not support the <code>video</code> element.\n",
       "    </video>"
      ],
      "text/plain": [
       "<IPython.core.display.Video object>"
      ]
     },
     "execution_count": 9,
     "metadata": {},
     "output_type": "execute_result"
    }
   ],
   "source": [
    "success, output_file = run_mmmeld([\"--audio\", local_audio_long, \"--image\", local_video_short, \"--output\", \"test3.mp4\"])\n",
    "print(f\"Test 3 {'passed' if success else 'failed'}\")\n",
    "display_output(output_file)"
   ]
  },
  {
   "cell_type": "markdown",
   "metadata": {},
   "source": [
    "## Test 4: Single Video with Main Audio (Video Longer)\n",
    "\n",
    "Expected behavior: The video should be cut to match the audio duration."
   ]
  },
  {
   "cell_type": "code",
   "execution_count": 19,
   "metadata": {},
   "outputs": [
    {
     "name": "stdout",
     "output_type": "stream",
     "text": [
      "get_audio_duration: file_path=test_media/10_seconds.wav, output='10.000340'\n",
      "get_media_duration: file_path=test_media/3_minutes.webm, output='180.208000'\n",
      "FFmpeg command:\n",
      "ffmpeg -y -i test_media/3_minutes.webm -i test_media/10_seconds.wav -filter_complex [0:v]fps=30,format=yuv420p,trim=duration=12.50034,setpts=PTS-STARTPTS[v0];[v0]fade=t=out:st=10.50034:d=2.0[final_video];[1:a]adelay=500|500,apad=pad_dur=2.0[main_audio];[main_audio]acopy[final_audio] -map [final_video] -map [final_audio] -c:v libx264 -preset medium -crf 23 -c:a aac -b:a 192k -t 12.50034 test_output_test4.mp4\n",
      "Attempting to clean up 0 files:\n",
      "Cleanup completed. Temporary folder 'temp_assets' was not removed.\n",
      "Video created successfully at test_output_test4.mp4\n",
      "The length of the video is the main audio length plus 2.5 seconds.\n",
      "Cleaning up temporary files...\n",
      "Attempting to clean up 0 files:\n",
      "Cleanup completed. Temporary folder 'temp_assets' was not removed.\n",
      "\n",
      "ffmpeg version 2024-05-13-git-37db0454e4-full_build-www.gyan.dev Copyright (c) 2000-2024 the FFmpeg developers\n",
      "  built with gcc 13.2.0 (Rev5, Built by MSYS2 project)\n",
      "  configuration: --enable-gpl --enable-version3 --enable-static --disable-w32threads --disable-autodetect --enable-fontconfig --enable-iconv --enable-gnutls --enable-libxml2 --enable-gmp --enable-bzlib --enable-lzma --enable-libsnappy --enable-zlib --enable-librist --enable-libsrt --enable-libssh --enable-libzmq --enable-avisynth --enable-libbluray --enable-libcaca --enable-sdl2 --enable-libaribb24 --enable-libaribcaption --enable-libdav1d --enable-libdavs2 --enable-libuavs3d --enable-libxevd --enable-libzvbi --enable-librav1e --enable-libsvtav1 --enable-libwebp --enable-libx264 --enable-libx265 --enable-libxavs2 --enable-libxeve --enable-libxvid --enable-libaom --enable-libjxl --enable-libopenjpeg --enable-libvpx --enable-mediafoundation --enable-libass --enable-frei0r --enable-libfreetype --enable-libfribidi --enable-libharfbuzz --enable-liblensfun --enable-libvidstab --enable-libvmaf --enable-libzimg --enable-amf --enable-cuda-llvm --enable-cuvid --enable-dxva2 --enable-d3d11va --enable-d3d12va --enable-ffnvcodec --enable-libvpl --enable-nvdec --enable-nvenc --enable-vaapi --enable-libshaderc --enable-vulkan --enable-libplacebo --enable-opencl --enable-libcdio --enable-libgme --enable-libmodplug --enable-libopenmpt --enable-libopencore-amrwb --enable-libmp3lame --enable-libshine --enable-libtheora --enable-libtwolame --enable-libvo-amrwbenc --enable-libcodec2 --enable-libilbc --enable-libgsm --enable-libopencore-amrnb --enable-libopus --enable-libspeex --enable-libvorbis --enable-ladspa --enable-libbs2b --enable-libflite --enable-libmysofa --enable-librubberband --enable-libsoxr --enable-chromaprint\n",
      "  libavutil      59. 17.100 / 59. 17.100\n",
      "  libavcodec     61.  5.103 / 61.  5.103\n",
      "  libavformat    61.  3.103 / 61.  3.103\n",
      "  libavdevice    61.  2.100 / 61.  2.100\n",
      "  libavfilter    10.  2.101 / 10.  2.101\n",
      "  libswscale      8.  2.100 /  8.  2.100\n",
      "  libswresample   5.  2.100 /  5.  2.100\n",
      "  libpostproc    58.  2.100 / 58.  2.100\n",
      "Input #0, matroska,webm, from 'test_media/3_minutes.webm':\n",
      "  Metadata:\n",
      "    encoder         : google/video-file\n",
      "  Duration: 00:03:00.21, start: 0.000000, bitrate: 110 kb/s\n",
      "  Stream #0:0(eng): Video: vp9 (Profile 0), yuv420p(tv, bt709), 1280x720, SAR 1:1 DAR 16:9, 24 fps, 24 tbr, 1k tbn (default)\n",
      "[aist#1:0/pcm_s16le @ 00000149cfd26d80] Guessed Channel Layout: stereo\n",
      "Input #1, wav, from 'test_media/10_seconds.wav':\n",
      "  Duration: 00:00:10.00, bitrate: 1411 kb/s\n",
      "  Stream #1:0: Audio: pcm_s16le ([1][0][0][0] / 0x0001), 44100 Hz, stereo, s16, 1411 kb/s\n",
      "Stream mapping:\n",
      "  Stream #0:0 (vp9) -> fps:default\n",
      "  Stream #1:0 (pcm_s16le) -> adelay:default\n",
      "  fade:default -> Stream #0:0 (libx264)\n",
      "  acopy:default -> Stream #0:1 (aac)\n",
      "Press [q] to stop, [?] for help\n",
      "[fc#0 @ 00000149cf55bd00] [vo0->#0:0 @ 00000149cf55e780] No information about the input framerate is available. Falling back to a default value of 25fps. Use the -r option if you want a different framerate.\n",
      "[libx264 @ 00000149cf5ab100] using SAR=1/1\n",
      "[libx264 @ 00000149cf5ab100] using cpu capabilities: MMX2 SSE2Fast SSSE3 SSE4.2 AVX FMA3 BMI2 AVX2\n",
      "[libx264 @ 00000149cf5ab100] profile High, level 3.1, 4:2:0, 8-bit\n",
      "[libx264 @ 00000149cf5ab100] 264 - core 164 r3190 7ed753b - H.264/MPEG-4 AVC codec - Copyleft 2003-2024 - http://www.videolan.org/x264.html - options: cabac=1 ref=3 deblock=1:0:0 analyse=0x3:0x113 me=hex subme=7 psy=1 psy_rd=1.00:0.00 mixed_ref=1 me_range=16 chroma_me=1 trellis=1 8x8dct=1 cqm=0 deadzone=21,11 fast_pskip=1 chroma_qp_offset=-2 threads=22 lookahead_threads=3 sliced_threads=0 nr=0 decimate=1 interlaced=0 bluray_compat=0 constrained_intra=0 bframes=3 b_pyramid=2 b_adapt=1 b_bias=0 direct=1 weightb=1 open_gop=0 weightp=2 keyint=250 keyint_min=25 scenecut=40 intra_refresh=0 rc_lookahead=40 rc=crf mbtree=1 crf=23.0 qcomp=0.60 qpmin=0 qpmax=69 qpstep=4 ip_ratio=1.40 aq=1:1.00\n",
      "Output #0, mp4, to 'test_output_test4.mp4':\n",
      "  Metadata:\n",
      "    encoder         : Lavf61.3.103\n",
      "  Stream #0:0: Video: h264 (avc1 / 0x31637661), yuv420p(tv, bt709, progressive), 1280x720 [SAR 1:1 DAR 16:9], q=2-31, 25 fps, 12800 tbn\n",
      "      Metadata:\n",
      "        encoder         : Lavc61.5.103 libx264\n",
      "      Side data:\n",
      "        cpb: bitrate max/min/avg: 0/0/0 buffer size: 0 vbv_delay: N/A\n",
      "  Stream #0:1: Audio: aac (LC) (mp4a / 0x6134706D), 44100 Hz, stereo, fltp, 192 kb/s\n",
      "      Metadata:\n",
      "        encoder         : Lavc61.5.103 aac\n",
      "frame=  110 fps=0.0 q=28.0 size=     256KiB time=00:00:04.32 bitrate= 485.5kbits/s dup=0 drop=36 speed=8.49x    \n",
      "[out#0/mp4 @ 00000149cf5635c0] video:533KiB audio:241KiB subtitle:0KiB other streams:0KiB global headers:0KiB muxing overhead: 1.492291%\n",
      "frame=  313 fps=0.0 q=-1.0 Lsize=     786KiB time=00:00:12.44 bitrate= 517.4kbits/s dup=0 drop=62 speed=13.3x    \n",
      "[libx264 @ 00000149cf5ab100] frame I:2     Avg QP:15.85  size: 21106\n",
      "[libx264 @ 00000149cf5ab100] frame P:96    Avg QP:18.95  size:  3271\n",
      "[libx264 @ 00000149cf5ab100] frame B:215   Avg QP:23.82  size:   877\n",
      "[libx264 @ 00000149cf5ab100] consecutive B-frames:  4.2%  9.6%  9.6% 76.7%\n",
      "[libx264 @ 00000149cf5ab100] mb I  I16..4: 41.9% 35.0% 23.0%\n",
      "[libx264 @ 00000149cf5ab100] mb P  I16..4:  9.1%  4.6%  0.5%  P16..4: 14.2%  2.3%  0.7%  0.0%  0.0%    skip:68.6%\n",
      "[libx264 @ 00000149cf5ab100] mb B  I16..4:  1.3%  0.7%  0.0%  B16..8:  8.9%  0.4%  0.0%  direct: 1.9%  skip:86.7%  L0:43.0% L1:53.6% BI: 3.4%\n",
      "[libx264 @ 00000149cf5ab100] 8x8 transform intra:33.4% inter:91.5%\n",
      "[libx264 @ 00000149cf5ab100] coded y,uvDC,uvAC intra: 9.9% 21.8% 4.3% inter: 1.3% 3.8% 0.0%\n",
      "[libx264 @ 00000149cf5ab100] i16 v,h,dc,p: 43% 39%  3% 15%\n",
      "[libx264 @ 00000149cf5ab100] i8 v,h,dc,ddl,ddr,vr,hd,vl,hu: 28% 19% 44%  2%  2%  1%  1%  1%  1%\n",
      "[libx264 @ 00000149cf5ab100] i4 v,h,dc,ddl,ddr,vr,hd,vl,hu: 39% 32% 17%  2%  3%  2%  2%  2%  1%\n",
      "[libx264 @ 00000149cf5ab100] i8c dc,h,v,p: 51% 25% 23%  1%\n",
      "[libx264 @ 00000149cf5ab100] Weighted P-Frames: Y:17.7% UV:17.7%\n",
      "[libx264 @ 00000149cf5ab100] ref P L0: 79.6%  4.3% 12.2%  3.9%  0.0%\n",
      "[libx264 @ 00000149cf5ab100] ref B L0: 80.0% 18.0%  2.0%\n",
      "[libx264 @ 00000149cf5ab100] ref B L1: 97.0%  3.0%\n",
      "[libx264 @ 00000149cf5ab100] kb/s:348.12\n",
      "[aac @ 00000149cf5aca00] Qavg: 13649.062\n",
      "\n",
      "Test 4 passed\n"
     ]
    },
    {
     "data": {
      "text/html": [
       "<video src=\"test_output_test4.mp4\" controls  >\n",
       "      Your browser does not support the <code>video</code> element.\n",
       "    </video>"
      ],
      "text/plain": [
       "<IPython.core.display.Video object>"
      ]
     },
     "execution_count": 19,
     "metadata": {},
     "output_type": "execute_result"
    }
   ],
   "source": [
    "success, output_file = run_mmmeld([\"--audio\", local_audio_short, \"--image\", local_video_long, \"--output\", \"test4.mp4\"])\n",
    "print(f\"Test 4 {'passed' if success else 'failed'}\")\n",
    "display_output(output_file)"
   ]
  },
  {
   "cell_type": "markdown",
   "metadata": {},
   "source": [
    "## Test 5: Single Video without Main Audio\n",
    "\n",
    "Expected behavior: The video should play once with its own audio."
   ]
  },
  {
   "cell_type": "code",
   "execution_count": 20,
   "metadata": {},
   "outputs": [
    {
     "name": "stdout",
     "output_type": "stream",
     "text": [
      "get_media_duration: file_path=test_media/15_seconds2.mp4, output='15.162630'\n",
      "get_media_duration: file_path=test_media/15_seconds2.mp4, output='15.162630'\n",
      "FFmpeg command:\n",
      "ffmpeg -y -i test_media/15_seconds2.mp4 -filter_complex [0:v]fps=30,format=yuv420p,setpts=PTS-STARTPTS[final_video];[0:a]aformat=sample_fmts=fltp:sample_rates=44100:channel_layouts=stereo[video_audio];[video_audio]acopy[final_audio] -map [final_video] -map [final_audio] -c:v libx264 -preset medium -crf 23 -c:a aac -b:a 192k test_output_test5.mp4\n",
      "Attempting to clean up 0 files:\n",
      "Cleanup completed. Temporary folder 'temp_assets' was not removed.\n",
      "Video created successfully at test_output_test5.mp4\n",
      "The length of the video is determined by the input images and videos.\n",
      "Cleaning up temporary files...\n",
      "Attempting to clean up 0 files:\n",
      "Cleanup completed. Temporary folder 'temp_assets' was not removed.\n",
      "\n",
      "ffmpeg version 2024-05-13-git-37db0454e4-full_build-www.gyan.dev Copyright (c) 2000-2024 the FFmpeg developers\n",
      "  built with gcc 13.2.0 (Rev5, Built by MSYS2 project)\n",
      "  configuration: --enable-gpl --enable-version3 --enable-static --disable-w32threads --disable-autodetect --enable-fontconfig --enable-iconv --enable-gnutls --enable-libxml2 --enable-gmp --enable-bzlib --enable-lzma --enable-libsnappy --enable-zlib --enable-librist --enable-libsrt --enable-libssh --enable-libzmq --enable-avisynth --enable-libbluray --enable-libcaca --enable-sdl2 --enable-libaribb24 --enable-libaribcaption --enable-libdav1d --enable-libdavs2 --enable-libuavs3d --enable-libxevd --enable-libzvbi --enable-librav1e --enable-libsvtav1 --enable-libwebp --enable-libx264 --enable-libx265 --enable-libxavs2 --enable-libxeve --enable-libxvid --enable-libaom --enable-libjxl --enable-libopenjpeg --enable-libvpx --enable-mediafoundation --enable-libass --enable-frei0r --enable-libfreetype --enable-libfribidi --enable-libharfbuzz --enable-liblensfun --enable-libvidstab --enable-libvmaf --enable-libzimg --enable-amf --enable-cuda-llvm --enable-cuvid --enable-dxva2 --enable-d3d11va --enable-d3d12va --enable-ffnvcodec --enable-libvpl --enable-nvdec --enable-nvenc --enable-vaapi --enable-libshaderc --enable-vulkan --enable-libplacebo --enable-opencl --enable-libcdio --enable-libgme --enable-libmodplug --enable-libopenmpt --enable-libopencore-amrwb --enable-libmp3lame --enable-libshine --enable-libtheora --enable-libtwolame --enable-libvo-amrwbenc --enable-libcodec2 --enable-libilbc --enable-libgsm --enable-libopencore-amrnb --enable-libopus --enable-libspeex --enable-libvorbis --enable-ladspa --enable-libbs2b --enable-libflite --enable-libmysofa --enable-librubberband --enable-libsoxr --enable-chromaprint\n",
      "  libavutil      59. 17.100 / 59. 17.100\n",
      "  libavcodec     61.  5.103 / 61.  5.103\n",
      "  libavformat    61.  3.103 / 61.  3.103\n",
      "  libavdevice    61.  2.100 / 61.  2.100\n",
      "  libavfilter    10.  2.101 / 10.  2.101\n",
      "  libswscale      8.  2.100 /  8.  2.100\n",
      "  libswresample   5.  2.100 /  5.  2.100\n",
      "  libpostproc    58.  2.100 / 58.  2.100\n",
      "Input #0, mov,mp4,m4a,3gp,3g2,mj2, from 'test_media/15_seconds2.mp4':\n",
      "  Metadata:\n",
      "    major_brand     : mp42\n",
      "    minor_version   : 0\n",
      "    compatible_brands: isommp42\n",
      "    creation_time   : 2023-09-19T20:37:47.000000Z\n",
      "  Duration: 00:00:15.16, start: 0.000000, bitrate: 260 kb/s\n",
      "  Stream #0:0[0x1](und): Video: h264 (Main) (avc1 / 0x31637661), yuv420p(tv, bt709, progressive), 640x360 [SAR 1:1 DAR 16:9], 128 kb/s, 29.97 fps, 29.97 tbr, 30k tbn (default)\n",
      "      Metadata:\n",
      "        creation_time   : 2023-09-19T20:37:47.000000Z\n",
      "        handler_name    : ISO Media file produced by Google Inc. Created on: 09/19/2023.\n",
      "        vendor_id       : [0][0][0][0]\n",
      "  Stream #0:1[0x2](eng): Audio: aac (LC) (mp4a / 0x6134706D), 44100 Hz, stereo, fltp, 127 kb/s (default)\n",
      "      Metadata:\n",
      "        creation_time   : 2023-09-19T20:37:47.000000Z\n",
      "        handler_name    : ISO Media file produced by Google Inc. Created on: 09/19/2023.\n",
      "        vendor_id       : [0][0][0][0]\n",
      "Stream mapping:\n",
      "  Stream #0:0 (h264) -> fps:default\n",
      "  Stream #0:1 (aac) -> aformat:default\n",
      "  setpts:default -> Stream #0:0 (libx264)\n",
      "  acopy:default -> Stream #0:1 (aac)\n",
      "Press [q] to stop, [?] for help\n",
      "[fc#0 @ 000002df97d9bac0] [vo0->#0:0 @ 000002df97d94f40] No information about the input framerate is available. Falling back to a default value of 25fps. Use the -r option if you want a different framerate.\n",
      "[libx264 @ 000002df98250340] using SAR=1/1\n",
      "[libx264 @ 000002df98250340] using cpu capabilities: MMX2 SSE2Fast SSSE3 SSE4.2 AVX FMA3 BMI2 AVX2\n",
      "[libx264 @ 000002df98250340] profile High, level 3.0, 4:2:0, 8-bit\n",
      "[libx264 @ 000002df98250340] 264 - core 164 r3190 7ed753b - H.264/MPEG-4 AVC codec - Copyleft 2003-2024 - http://www.videolan.org/x264.html - options: cabac=1 ref=3 deblock=1:0:0 analyse=0x3:0x113 me=hex subme=7 psy=1 psy_rd=1.00:0.00 mixed_ref=1 me_range=16 chroma_me=1 trellis=1 8x8dct=1 cqm=0 deadzone=21,11 fast_pskip=1 chroma_qp_offset=-2 threads=11 lookahead_threads=1 sliced_threads=0 nr=0 decimate=1 interlaced=0 bluray_compat=0 constrained_intra=0 bframes=3 b_pyramid=2 b_adapt=1 b_bias=0 direct=1 weightb=1 open_gop=0 weightp=2 keyint=250 keyint_min=25 scenecut=40 intra_refresh=0 rc_lookahead=40 rc=crf mbtree=1 crf=23.0 qcomp=0.60 qpmin=0 qpmax=69 qpstep=4 ip_ratio=1.40 aq=1:1.00\n",
      "Output #0, mp4, to 'test_output_test5.mp4':\n",
      "  Metadata:\n",
      "    major_brand     : mp42\n",
      "    minor_version   : 0\n",
      "    compatible_brands: isommp42\n",
      "    encoder         : Lavf61.3.103\n",
      "  Stream #0:0: Video: h264 (avc1 / 0x31637661), yuv420p(tv, bt709, progressive), 640x360 [SAR 1:1 DAR 16:9], q=2-31, 25 fps, 12800 tbn\n",
      "      Metadata:\n",
      "        encoder         : Lavc61.5.103 libx264\n",
      "      Side data:\n",
      "        cpb: bitrate max/min/avg: 0/0/0 buffer size: 0 vbv_delay: N/A\n",
      "  Stream #0:1: Audio: aac (LC) (mp4a / 0x6134706D), 44100 Hz, stereo, fltp, 192 kb/s\n",
      "      Metadata:\n",
      "        encoder         : Lavc61.5.103 aac\n",
      "[out#0/mp4 @ 000002df97e24740] video:154KiB audio:369KiB subtitle:0KiB other streams:0KiB global headers:0KiB muxing overhead: 2.629713%\n",
      "frame=  379 fps=0.0 q=-1.0 Lsize=     537KiB time=00:00:15.08 bitrate= 291.8kbits/s dup=0 drop=75 speed=  37x    \n",
      "[libx264 @ 000002df98250340] frame I:2     Avg QP:14.23  size: 12712\n",
      "[libx264 @ 000002df98250340] frame P:103   Avg QP:18.60  size:   935\n",
      "[libx264 @ 000002df98250340] frame B:274   Avg QP:19.19  size:   129\n",
      "[libx264 @ 000002df98250340] consecutive B-frames:  2.1%  2.1%  7.1% 88.7%\n",
      "[libx264 @ 000002df98250340] mb I  I16..4: 47.2% 27.9% 24.9%\n",
      "[libx264 @ 000002df98250340] mb P  I16..4:  1.8%  1.8%  1.0%  P16..4:  2.0%  0.9%  0.6%  0.0%  0.0%    skip:91.9%\n",
      "[libx264 @ 000002df98250340] mb B  I16..4:  0.1%  0.0%  0.0%  B16..8:  2.5%  0.2%  0.1%  direct: 0.0%  skip:97.0%  L0:48.6% L1:50.0% BI: 1.4%\n",
      "[libx264 @ 000002df98250340] 8x8 transform intra:35.4% inter:23.6%\n",
      "[libx264 @ 000002df98250340] coded y,uvDC,uvAC intra: 21.0% 25.6% 18.0% inter: 0.4% 0.4% 0.3%\n",
      "[libx264 @ 000002df98250340] i16 v,h,dc,p: 48% 36%  5% 11%\n",
      "[libx264 @ 000002df98250340] i8 v,h,dc,ddl,ddr,vr,hd,vl,hu: 27% 20% 48%  2%  1%  0%  0%  1%  1%\n",
      "[libx264 @ 000002df98250340] i4 v,h,dc,ddl,ddr,vr,hd,vl,hu: 23% 18% 27%  8%  6%  4%  7%  3%  3%\n",
      "[libx264 @ 000002df98250340] i8c dc,h,v,p: 81%  8%  7%  4%\n",
      "[libx264 @ 000002df98250340] Weighted P-Frames: Y:0.0% UV:0.0%\n",
      "[libx264 @ 000002df98250340] ref P L0: 62.8% 12.9% 15.5%  8.7%\n",
      "[libx264 @ 000002df98250340] ref B L0: 85.3% 11.2%  3.4%\n",
      "[libx264 @ 000002df98250340] ref B L1: 97.2%  2.8%\n",
      "[libx264 @ 000002df98250340] kb/s:82.86\n",
      "[aac @ 000002df9839ea40] Qavg: 3170.305\n",
      "\n",
      "Test 5 passed\n"
     ]
    },
    {
     "data": {
      "text/html": [
       "<video src=\"test_output_test5.mp4\" controls  >\n",
       "      Your browser does not support the <code>video</code> element.\n",
       "    </video>"
      ],
      "text/plain": [
       "<IPython.core.display.Video object>"
      ]
     },
     "execution_count": 20,
     "metadata": {},
     "output_type": "execute_result"
    }
   ],
   "source": [
    "success, output_file = run_mmmeld([\"--image\", local_video_short2, \"--output\", \"test5.mp4\"])\n",
    "print(f\"Test 5 {'passed' if success else 'failed'}\")\n",
    "display_output(output_file)"
   ]
  },
  {
   "cell_type": "markdown",
   "metadata": {},
   "source": [
    "## Test 6: Multiple Videos with Main Audio (Total Video Time <= Audio Time)\n",
    "\n",
    "Expected behavior: Videos should play in sequence, then loop."
   ]
  },
  {
   "cell_type": "code",
   "execution_count": 21,
   "metadata": {},
   "outputs": [
    {
     "name": "stdout",
     "output_type": "stream",
     "text": [
      "get_audio_duration: file_path=test_media/5_minutes.mp3, output='299.546122'\n",
      "get_media_duration: file_path=test_media/15_seconds.mp4, output='15.000000'\n",
      "get_media_duration: file_path=test_media/15_seconds2.mp4, output='15.162630'\n",
      "FFmpeg command:\n",
      "ffmpeg -y -i test_media/15_seconds.mp4 -i test_media/15_seconds2.mp4 -i test_media/5_minutes.mp3 -filter_complex [0:v]fps=30,format=yuv420p,trim=duration=302.046122,setpts=PTS-STARTPTS[v0];[v0]fade=t=out:st=300.046122:d=2.0[final_video];[1:a]adelay=500|500,apad=pad_dur=2.0[main_audio];[main_audio]acopy[final_audio] -map [final_video] -map [final_audio] -c:v libx264 -preset medium -crf 23 -c:a aac -b:a 192k -t 302.046122 test_output_test6.mp4\n",
      "Attempting to clean up 0 files:\n",
      "Cleanup completed. Temporary folder 'temp_assets' was not removed.\n",
      "Video created successfully at test_output_test6.mp4\n",
      "The length of the video is the main audio length plus 2.5 seconds.\n",
      "Cleaning up temporary files...\n",
      "Attempting to clean up 0 files:\n",
      "Cleanup completed. Temporary folder 'temp_assets' was not removed.\n",
      "\n",
      "ffmpeg version 2024-05-13-git-37db0454e4-full_build-www.gyan.dev Copyright (c) 2000-2024 the FFmpeg developers\n",
      "  built with gcc 13.2.0 (Rev5, Built by MSYS2 project)\n",
      "  configuration: --enable-gpl --enable-version3 --enable-static --disable-w32threads --disable-autodetect --enable-fontconfig --enable-iconv --enable-gnutls --enable-libxml2 --enable-gmp --enable-bzlib --enable-lzma --enable-libsnappy --enable-zlib --enable-librist --enable-libsrt --enable-libssh --enable-libzmq --enable-avisynth --enable-libbluray --enable-libcaca --enable-sdl2 --enable-libaribb24 --enable-libaribcaption --enable-libdav1d --enable-libdavs2 --enable-libuavs3d --enable-libxevd --enable-libzvbi --enable-librav1e --enable-libsvtav1 --enable-libwebp --enable-libx264 --enable-libx265 --enable-libxavs2 --enable-libxeve --enable-libxvid --enable-libaom --enable-libjxl --enable-libopenjpeg --enable-libvpx --enable-mediafoundation --enable-libass --enable-frei0r --enable-libfreetype --enable-libfribidi --enable-libharfbuzz --enable-liblensfun --enable-libvidstab --enable-libvmaf --enable-libzimg --enable-amf --enable-cuda-llvm --enable-cuvid --enable-dxva2 --enable-d3d11va --enable-d3d12va --enable-ffnvcodec --enable-libvpl --enable-nvdec --enable-nvenc --enable-vaapi --enable-libshaderc --enable-vulkan --enable-libplacebo --enable-opencl --enable-libcdio --enable-libgme --enable-libmodplug --enable-libopenmpt --enable-libopencore-amrwb --enable-libmp3lame --enable-libshine --enable-libtheora --enable-libtwolame --enable-libvo-amrwbenc --enable-libcodec2 --enable-libilbc --enable-libgsm --enable-libopencore-amrnb --enable-libopus --enable-libspeex --enable-libvorbis --enable-ladspa --enable-libbs2b --enable-libflite --enable-libmysofa --enable-librubberband --enable-libsoxr --enable-chromaprint\n",
      "  libavutil      59. 17.100 / 59. 17.100\n",
      "  libavcodec     61.  5.103 / 61.  5.103\n",
      "  libavformat    61.  3.103 / 61.  3.103\n",
      "  libavdevice    61.  2.100 / 61.  2.100\n",
      "  libavfilter    10.  2.101 / 10.  2.101\n",
      "  libswscale      8.  2.100 /  8.  2.100\n",
      "  libswresample   5.  2.100 /  5.  2.100\n",
      "  libpostproc    58.  2.100 / 58.  2.100\n",
      "Input #0, mov,mp4,m4a,3gp,3g2,mj2, from 'test_media/15_seconds.mp4':\n",
      "  Metadata:\n",
      "    major_brand     : mp42\n",
      "    minor_version   : 0\n",
      "    compatible_brands: mp42mp41\n",
      "    creation_time   : 2022-07-02T21:20:53.000000Z\n",
      "  Duration: 00:00:15.00, start: 0.000000, bitrate: 1653 kb/s\n",
      "  Stream #0:0[0x1](eng): Video: h264 (Main) (avc1 / 0x31637661), yuv420p(tv, bt709, progressive), 3840x2160, 1644 kb/s, 30 fps, 30 tbr, 30k tbn (default)\n",
      "      Metadata:\n",
      "        creation_time   : 2022-07-02T21:20:53.000000Z\n",
      "        handler_name    : ?Mainconcept Video Media Handler\n",
      "        vendor_id       : [0][0][0][0]\n",
      "        encoder         : AVC Coding\n",
      "Input #1, mov,mp4,m4a,3gp,3g2,mj2, from 'test_media/15_seconds2.mp4':\n",
      "  Metadata:\n",
      "    major_brand     : mp42\n",
      "    minor_version   : 0\n",
      "    compatible_brands: isommp42\n",
      "    creation_time   : 2023-09-19T20:37:47.000000Z\n",
      "  Duration: 00:00:15.16, start: 0.000000, bitrate: 260 kb/s\n",
      "  Stream #1:0[0x1](und): Video: h264 (Main) (avc1 / 0x31637661), yuv420p(tv, bt709, progressive), 640x360 [SAR 1:1 DAR 16:9], 128 kb/s, 29.97 fps, 29.97 tbr, 30k tbn (default)\n",
      "      Metadata:\n",
      "        creation_time   : 2023-09-19T20:37:47.000000Z\n",
      "        handler_name    : ISO Media file produced by Google Inc. Created on: 09/19/2023.\n",
      "        vendor_id       : [0][0][0][0]\n",
      "  Stream #1:1[0x2](eng): Audio: aac (LC) (mp4a / 0x6134706D), 44100 Hz, stereo, fltp, 127 kb/s (default)\n",
      "      Metadata:\n",
      "        creation_time   : 2023-09-19T20:37:47.000000Z\n",
      "        handler_name    : ISO Media file produced by Google Inc. Created on: 09/19/2023.\n",
      "        vendor_id       : [0][0][0][0]\n",
      "Input #2, mp3, from 'test_media/5_minutes.mp3':\n",
      "  Metadata:\n",
      "    major_brand     : dash\n",
      "    minor_version   : 0\n",
      "    compatible_brands: iso6mp41\n",
      "    encoder         : Lavf58.29.100\n",
      "  Duration: 00:04:59.55, start: 0.025057, bitrate: 192 kb/s\n",
      "  Stream #2:0: Audio: mp3 (mp3float), 44100 Hz, stereo, fltp, 192 kb/s\n",
      "      Metadata:\n",
      "        encoder         : Lavc58.54\n",
      "Stream mapping:\n",
      "  Stream #0:0 (h264) -> fps:default\n",
      "  Stream #1:1 (aac) -> adelay:default\n",
      "  fade:default -> Stream #0:0 (libx264)\n",
      "  acopy:default -> Stream #0:1 (aac)\n",
      "Press [q] to stop, [?] for help\n",
      "[fc#0 @ 0000025f12fdc440] [vo0->#0:0 @ 0000025f12fdd840] No information about the input framerate is available. Falling back to a default value of 25fps. Use the -r option if you want a different framerate.\n",
      "[libx264 @ 0000025f13c3c700] using cpu capabilities: MMX2 SSE2Fast SSSE3 SSE4.2 AVX FMA3 BMI2 AVX2\n",
      "[libx264 @ 0000025f13c3c700] profile High, level 5.1, 4:2:0, 8-bit\n",
      "[libx264 @ 0000025f13c3c700] 264 - core 164 r3190 7ed753b - H.264/MPEG-4 AVC codec - Copyleft 2003-2024 - http://www.videolan.org/x264.html - options: cabac=1 ref=3 deblock=1:0:0 analyse=0x3:0x113 me=hex subme=7 psy=1 psy_rd=1.00:0.00 mixed_ref=1 me_range=16 chroma_me=1 trellis=1 8x8dct=1 cqm=0 deadzone=21,11 fast_pskip=1 chroma_qp_offset=-2 threads=30 lookahead_threads=5 sliced_threads=0 nr=0 decimate=1 interlaced=0 bluray_compat=0 constrained_intra=0 bframes=3 b_pyramid=2 b_adapt=1 b_bias=0 direct=1 weightb=1 open_gop=0 weightp=2 keyint=250 keyint_min=25 scenecut=40 intra_refresh=0 rc_lookahead=40 rc=crf mbtree=1 crf=23.0 qcomp=0.60 qpmin=0 qpmax=69 qpstep=4 ip_ratio=1.40 aq=1:1.00\n",
      "Output #0, mp4, to 'test_output_test6.mp4':\n",
      "  Metadata:\n",
      "    major_brand     : mp42\n",
      "    minor_version   : 0\n",
      "    compatible_brands: mp42mp41\n",
      "    encoder         : Lavf61.3.103\n",
      "  Stream #0:0: Video: h264 (avc1 / 0x31637661), yuv420p(tv, bt709, progressive), 3840x2160, q=2-31, 25 fps, 12800 tbn\n",
      "      Metadata:\n",
      "        encoder         : Lavc61.5.103 libx264\n",
      "      Side data:\n",
      "        cpb: bitrate max/min/avg: 0/0/0 buffer size: 0 vbv_delay: N/A\n",
      "  Stream #0:1: Audio: aac (LC) (mp4a / 0x6134706D), 44100 Hz, stereo, fltp, 192 kb/s\n",
      "      Metadata:\n",
      "        encoder         : Lavc61.5.103 aac\n",
      "frame=    0 fps=0.0 q=0.0 size=       0KiB time=N/A bitrate=N/A dup=0 drop=10 speed=N/A    \n",
      "frame=    1 fps=1.0 q=28.0 size=       0KiB time=-00:00:00.04 bitrate=N/A dup=0 drop=16 speed=N/A    \n",
      "frame=   54 fps= 35 q=28.0 size=       0KiB time=00:00:02.08 bitrate=   0.2kbits/s dup=0 drop=26 speed=1.34x    \n",
      "frame=  111 fps= 54 q=28.0 size=       0KiB time=00:00:04.36 bitrate=   0.1kbits/s dup=0 drop=38 speed=2.11x    \n",
      "frame=  170 fps= 66 q=28.0 size=     256KiB time=00:00:06.72 bitrate= 312.1kbits/s dup=0 drop=50 speed= 2.6x    \n",
      "frame=  226 fps= 73 q=28.0 size=     256KiB time=00:00:08.96 bitrate= 234.1kbits/s dup=0 drop=61 speed=2.89x    \n",
      "frame=  278 fps= 77 q=28.0 size=     512KiB time=00:00:11.04 bitrate= 380.0kbits/s dup=0 drop=71 speed=3.05x    \n",
      "frame=  342 fps= 83 q=28.0 size=     512KiB time=N/A bitrate=N/A dup=0 drop=74 speed=N/A    \n",
      "[out#0/mp4 @ 0000025f13c3c040] video:328KiB audio:383KiB subtitle:0KiB other streams:0KiB global headers:0KiB muxing overhead: 1.993393%\n",
      "frame=  376 fps= 89 q=-1.0 Lsize=     725KiB time=00:00:14.96 bitrate= 396.9kbits/s dup=0 drop=74 speed=3.54x    \n",
      "[libx264 @ 0000025f13c3c700] frame I:2     Avg QP:10.24  size: 74972\n",
      "[libx264 @ 0000025f13c3c700] frame P:95    Avg QP:16.33  size:   931\n",
      "[libx264 @ 0000025f13c3c700] frame B:279   Avg QP:18.49  size:   347\n",
      "[libx264 @ 0000025f13c3c700] consecutive B-frames:  0.8%  0.5%  0.8% 97.9%\n",
      "[libx264 @ 0000025f13c3c700] mb I  I16..4: 77.8% 17.8%  4.4%\n",
      "[libx264 @ 0000025f13c3c700] mb P  I16..4:  0.0%  0.0%  0.0%  P16..4:  0.0%  0.0%  0.0%  0.0%  0.0%    skip:99.8%\n",
      "[libx264 @ 0000025f13c3c700] mb B  I16..4:  0.0%  0.0%  0.0%  B16..8:  0.2%  0.0%  0.0%  direct: 0.0%  skip:99.8%  L0:60.2% L1:39.4% BI: 0.3%\n",
      "[libx264 @ 0000025f13c3c700] 8x8 transform intra:19.5% inter:23.7%\n",
      "[libx264 @ 0000025f13c3c700] coded y,uvDC,uvAC intra: 2.9% 6.1% 5.6% inter: 0.0% 0.0% 0.0%\n",
      "[libx264 @ 0000025f13c3c700] i16 v,h,dc,p: 97%  2%  1%  0%\n",
      "[libx264 @ 0000025f13c3c700] i8 v,h,dc,ddl,ddr,vr,hd,vl,hu: 46%  2% 52%  0%  0%  0%  0%  0%  0%\n",
      "[libx264 @ 0000025f13c3c700] i4 v,h,dc,ddl,ddr,vr,hd,vl,hu: 35% 17% 28%  5%  4%  3%  3%  3%  3%\n",
      "[libx264 @ 0000025f13c3c700] i8c dc,h,v,p: 94%  3%  3%  1%\n",
      "[libx264 @ 0000025f13c3c700] Weighted P-Frames: Y:0.0% UV:0.0%\n",
      "[libx264 @ 0000025f13c3c700] ref P L0: 80.2%  3.8% 12.7%  3.3%\n",
      "[libx264 @ 0000025f13c3c700] ref B L0: 58.9% 40.1%  1.0%\n",
      "[libx264 @ 0000025f13c3c700] ref B L1: 98.4%  1.6%\n",
      "[libx264 @ 0000025f13c3c700] kb/s:178.30\n",
      "[aac @ 0000025f13b27040] Qavg: 11741.366\n",
      "\n",
      "Test 6 passed\n"
     ]
    },
    {
     "data": {
      "text/html": [
       "<video src=\"test_output_test6.mp4\" controls  >\n",
       "      Your browser does not support the <code>video</code> element.\n",
       "    </video>"
      ],
      "text/plain": [
       "<IPython.core.display.Video object>"
      ]
     },
     "execution_count": 21,
     "metadata": {},
     "output_type": "execute_result"
    }
   ],
   "source": [
    "success, output_file = run_mmmeld([\"--audio\", local_audio_long, \"--image\", f\"{local_video_short},{local_video_short2}\", \"--output\", \"test6.mp4\"])\n",
    "print(f\"Test 6 {'passed' if success else 'failed'}\")\n",
    "display_output(output_file)"
   ]
  },
  {
   "cell_type": "markdown",
   "metadata": {},
   "source": [
    "## Test 7: Multiple Videos with Main Audio (Total Video Time > Audio Time)\n",
    "\n",
    "Expected behavior: Videos should play in sequence, cut at audio end."
   ]
  },
  {
   "cell_type": "code",
   "execution_count": null,
   "metadata": {},
   "outputs": [],
   "source": [
    "success, output_file = run_mmmeld([\"--audio\", local_audio_short, \"--image\", f\"{local_video_short},{local_video_long}\", \"--output\", \"test7.mp4\"])\n",
    "print(f\"Test 7 {'passed' if success else 'failed'}\")\n",
    "display_output(output_file)"
   ]
  },
  {
   "cell_type": "markdown",
   "metadata": {},
   "source": [
    "## Test 8: Multiple Videos without Main Audio\n",
    "\n",
    "Expected behavior: Videos should play in sequence once."
   ]
  },
  {
   "cell_type": "code",
   "execution_count": null,
   "metadata": {},
   "outputs": [],
   "source": [
    "success, output_file = run_mmmeld([\"--image\", f\"{local_video_short},{local_video_long}\", \"--output\", \"test8.mp4\"])\n",
    "print(f\"Test 8 {'passed' if success else 'failed'}\")\n",
    "display_output(output_file)"
   ]
  },
  {
   "cell_type": "markdown",
   "metadata": {},
   "source": [
    "## Test 9: Videos + Images with Main Audio (Total Video Time < Audio Time)\n",
    "\n",
    "Expected behavior: Play videos once in sequence, distribute remaining time equally among images."
   ]
  },
  {
   "cell_type": "code",
   "execution_count": null,
   "metadata": {},
   "outputs": [],
   "source": [
    "success, output_file = run_mmmeld([\"--audio\", local_audio_long, \"--image\", f\"{local_video_short},{local_image1},{local_image2}\", \"--output\", \"test9.mp4\"])\n",
    "print(f\"Test 9 {'passed' if success else 'failed'}\")\n",
    "display_output(output_file)"
   ]
  },
  {
   "cell_type": "markdown",
   "metadata": {},
   "source": [
    "## Test 10: Videos + Images with Main Audio (Total Video Time >= Audio Time)\n",
    "\n",
    "Expected behavior: Distribute 5 seconds each to images, truncate sequence to fit audio."
   ]
  },
  {
   "cell_type": "code",
   "execution_count": null,
   "metadata": {},
   "outputs": [],
   "source": [
    "success, output_file = run_mmmeld([\"--audio\", local_audio_short, \"--image\", f\"{local_video_long},{local_image1},{local_image2}\", \"--output\", \"test10.mp4\"])\n",
    "print(f\"Test 10 {'passed' if success else 'failed'}\")\n",
    "display_output(output_file)"
   ]
  },
  {
   "cell_type": "markdown",
   "metadata": {},
   "source": [
    "## Test 11: Videos + Images without Main Audio\n",
    "\n",
    "Expected behavior: Play videos in sequence, show each image for 5 seconds."
   ]
  },
  {
   "cell_type": "code",
   "execution_count": null,
   "metadata": {},
   "outputs": [],
   "source": [
    "success, output_file = run_mmmeld([\"--image\", f\"{local_video_short},{local_image1},{local_video_long},{local_image2}\", \"--output\", \"test11.mp4\"])\n",
    "print(f\"Test 11 {'passed' if success else 'failed'}\")\n",
    "display_output(output_file)"
   ]
  },
  {
   "cell_type": "markdown",
   "metadata": {},
   "source": [
    "## Test 12: Image + Video with Main Audio (Video Shorter)\n",
    "\n",
    "Expected behavior: End of video anchored to end of audio, image shown first, filling remaining time."
   ]
  },
  {
   "cell_type": "code",
   "execution_count": null,
   "metadata": {},
   "outputs": [],
   "source": [
    "success, output_file = run_mmmeld([\"--audio\", local_audio_long, \"--image\", f\"{local_image1},{local_video_short}\", \"--output\", \"test12.mp4\"])\n",
    "print(f\"Test 12 {'passed' if success else 'failed'}\")\n",
    "display_output(output_file)"
   ]
  },
  {
   "cell_type": "markdown",
   "metadata": {},
   "source": [
    "## Test 13: Image + Video with Main Audio (Video Longer)\n",
    "\n",
    "Expected behavior: Minimum 5s for image, then video (cut off)."
   ]
  },
  {
   "cell_type": "code",
   "execution_count": null,
   "metadata": {},
   "outputs": [],
   "source": [
    "success, output_file = run_mmmeld([\"--audio\", local_audio_short, \"--image\", f\"{local_image1},{local_video_long}\", \"--output\", \"test13.mp4\"])\n",
    "print(f\"Test 13 {'passed' if success else 'failed'}\")\n",
    "display_output(output_file)"
   ]
  },
  {
   "cell_type": "markdown",
   "metadata": {},
   "source": [
    "## Test 14: Image + Video without Main Audio\n",
    "\n",
    "Expected behavior: Image shown for 5 seconds, then video plays in full."
   ]
  },
  {
   "cell_type": "code",
   "execution_count": null,
   "metadata": {},
   "outputs": [],
   "source": [
    "success, output_file = run_mmmeld([\"--image\", f\"{local_image1},{local_video_long}\", \"--output\", \"test14.mp4\"])\n",
    "print(f\"Test 14 {'passed' if success else 'failed'}\")\n",
    "display_output(output_file)"
   ]
  },
  {
   "cell_type": "markdown",
   "metadata": {},
   "source": [
    "## Test 15: Multiple Images with Main Audio\n",
    "\n",
    "Expected behavior: Equal time for each image, no looping."
   ]
  },
  {
   "cell_type": "code",
   "execution_count": null,
   "metadata": {},
   "outputs": [],
   "source": [
    "success, output_file = run_mmmeld([\"--audio\", local_audio_short, \"--image\", f\"{local_image1},{local_image2}\", \"--output\", \"test15.mp4\"])\n",
    "print(f\"Test 15 {'passed' if success else 'failed'}\")\n",
    "display_output(output_file)"
   ]
  },
  {
   "cell_type": "markdown",
   "metadata": {},
   "source": [
    "## Test 16: Multiple Images without Main Audio\n",
    "\n",
    "Expected behavior: 5 seconds for each image."
   ]
  },
  {
   "cell_type": "code",
   "execution_count": null,
   "metadata": {},
   "outputs": [],
   "source": [
    "success, output_file = run_mmmeld([\"--image\", f\"{local_image1},{local_image2}\", \"--output\", \"test16.mp4\"])\n",
    "print(f\"Test 16 {'passed' if success else 'failed'}\")\n",
    "display_output(output_file)"
   ]
  },
  {
   "cell_type": "markdown",
   "metadata": {},
   "source": [
    "## Test 17: YouTube Audio with Local Images\n",
    "\n",
    "Expected behavior: YouTube audio with images displayed for equal durations."
   ]
  },
  {
   "cell_type": "code",
   "execution_count": null,
   "metadata": {},
   "outputs": [],
   "source": [
    "success, output_file = run_mmmeld([\"--audio\", youtube_audio, \"--image\", f\"{local_image1},{local_image2}\", \"--output\", \"test17.mp4\"])\n",
    "print(f\"Test 17 {'passed' if success else 'failed'}\")\n",
    "display_output(output_file)"
   ]
  },
  {
   "cell_type": "markdown",
   "metadata": {},
   "source": [
    "## Test 18: Local Audio with YouTube Video\n",
    "\n",
    "Expected behavior: Local audio with YouTube video (cut or looped to match audio duration)."
   ]
  },
  {
   "cell_type": "code",
   "execution_count": null,
   "metadata": {},
   "outputs": [],
   "source": [
    "success, output_file = run_mmmeld([\"--audio\", local_audio_short, \"--image\", youtube_video, \"--output\", \"test18.mp4\"])\n",
    "print(f\"Test 18 {'passed' if success else 'failed'}\")\n",
    "display_output(output_file)"
   ]
  },
  {
   "cell_type": "markdown",
   "metadata": {},
   "source": [
    "## Test 19: Text-to-Speech with AI-Generated Image\n",
    "\n",
    "Expected behavior: Generated speech with AI-generated image for the full duration."
   ]
  },
  {
   "cell_type": "code",
   "execution_count": null,
   "metadata": {},
   "outputs": [],
   "source": [
    "success, output_file = run_mmmeld([\"--text\", tts_text, \"--image\", \"generate\", \"--output\", \"test19.mp4\"])\n",
    "print(f\"Test 19 {'passed' if success else 'failed'}\")\n",
    "display_output(output_file)"
   ]
  },
  {
   "cell_type": "markdown",
   "metadata": {},
   "source": [
    "## Test 20: Main Audio with Background Music\n",
    "\n",
    "Expected behavior: Main audio plays with background music looped and faded out at the end."
   ]
  },
  {
   "cell_type": "code",
   "execution_count": null,
   "metadata": {},
   "outputs": [],
   "source": [
    "success, output_file = run_mmmeld([\"--audio\", local_audio_short, \"--image\", local_image1, \"--bg-music\", bg_music, \"--output\", \"test20.mp4\"])\n",
    "print(f\"Test 20 {'passed' if success else 'failed'}\")\n",
    "display_output(output_file)"
   ]
  },
  {
   "cell_type": "markdown",
   "metadata": {},
   "source": [
    "## Test 21: Custom Audio Margins\n",
    "\n",
    "Expected behavior: 1-second lead-in and 3-second fade-out applied to the main audio."
   ]
  },
  {
   "cell_type": "code",
   "execution_count": null,
   "metadata": {},
   "outputs": [],
   "source": [
    "success, output_file = run_mmmeld([\"--audio\", local_audio_short, \"--image\", local_image1, \"--audiomargin\", \"1.0,3.0\", \"--output\", \"test21.mp4\"])\n",
    "print(f\"Test 21 {'passed' if success else 'failed'}\")\n",
    "display_output(output_file)"
   ]
  }
 ],
 "metadata": {
  "kernelspec": {
   "display_name": "Python 3",
   "language": "python",
   "name": "python3"
  },
  "language_info": {
   "codemirror_mode": {
    "name": "ipython",
    "version": 3
   },
   "file_extension": ".py",
   "mimetype": "text/x-python",
   "name": "python",
   "nbconvert_exporter": "python",
   "pygments_lexer": "ipython3",
   "version": "3.12.3"
  }
 },
 "nbformat": 4,
 "nbformat_minor": 4
}
